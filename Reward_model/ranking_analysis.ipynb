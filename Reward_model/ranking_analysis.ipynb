{
  "cells": [
    {
      "cell_type": "code",
      "source": [
        "!pip install -U kaleido"
      ],
      "outputs": [
        {
          "output_type": "stream",
          "name": "stdout",
          "text": "Collecting kaleido\n  Downloading kaleido-0.2.1-py2.py3-none-manylinux1_x86_64.whl (79.9 MB)\n\u001b[K     |████████████████████████████████| 79.9 MB 46 kB/s s eta 0:00:01\n\u001b[?25hInstalling collected packages: kaleido\nSuccessfully installed kaleido-0.2.1\n"
        }
      ],
      "execution_count": 1,
      "metadata": {
        "jupyter": {
          "source_hidden": false,
          "outputs_hidden": false
        },
        "nteract": {
          "transient": {
            "deleting": false
          }
        }
      }
    },
    {
      "cell_type": "code",
      "source": [
        "import pandas as pd\n",
        "import numpy as np\n",
        "import random\n",
        "from scipy.stats import kendalltau\n",
        "import numpy as np\n",
        "import matplotlib.pyplot as plt\n",
        "import seaborn as sns\n",
        "import plotly.express as px\n",
        "\n",
        "\n"
      ],
      "outputs": [],
      "execution_count": 2,
      "metadata": {
        "gather": {
          "logged": 1692969277850
        }
      }
    },
    {
      "cell_type": "code",
      "source": [
        "# read data and split data in meta data and rankings data\n",
        "\n",
        "data = pd.read_csv('data/data_csv.csv', sep=',')\n",
        "print('Shape data before preprocessing: ',data.shape)\n",
        "meta = data.iloc[:,:14]\n",
        "rankings = data.iloc[:,14:-1]\n",
        "print('Meta shape: {}, ranking shape: {} '.format(meta.shape, rankings.shape))"
      ],
      "outputs": [
        {
          "output_type": "stream",
          "name": "stdout",
          "text": "Shape data before preprocessing:  (86, 155)\nMeta shape: (86, 14), ranking shape: (86, 140) \n"
        }
      ],
      "execution_count": 3,
      "metadata": {
        "gather": {
          "logged": 1692969279041
        }
      }
    },
    {
      "cell_type": "code",
      "source": [
        "rankings.index"
      ],
      "outputs": [
        {
          "output_type": "execute_result",
          "execution_count": 4,
          "data": {
            "text/plain": "RangeIndex(start=0, stop=86, step=1)"
          },
          "metadata": {}
        }
      ],
      "execution_count": 4,
      "metadata": {
        "gather": {
          "logged": 1692969279957
        }
      }
    },
    {
      "cell_type": "code",
      "source": [
        "rankings.iloc[69,:10]"
      ],
      "outputs": [
        {
          "output_type": "execute_result",
          "execution_count": 5,
          "data": {
            "text/plain": "Q4_1     NaN\nQ4_2     NaN\nQ4_3     NaN\nQ4_4     NaN\nQ4_5     NaN\nQ4_6     NaN\nQ4_7     NaN\nQ4_8     NaN\nQ4_9     NaN\nQ4_10    NaN\nName: 69, dtype: object"
          },
          "metadata": {}
        }
      ],
      "execution_count": 5,
      "metadata": {
        "gather": {
          "logged": 1692969280484
        }
      }
    },
    {
      "cell_type": "code",
      "source": [
        "\n",
        "def create_ranking_sets(rankings):\n",
        "  # Creates sets of 10 columns for every ranking question.\n",
        "    lst = list(range(131))\n",
        "    lst = lst[0::10]\n",
        "\n",
        "    ranking_sets = []\n",
        "    for i in lst:\n",
        "\n",
        "        # select columns\n",
        "        rank_set = rankings.iloc[:, i:i+10]\n",
        "        # drop empty rows\n",
        "        # print(set.index)\n",
        "        #print(set.iloc[69-2])\n",
        "        rank_set = rank_set.dropna(axis=0)\n",
        "        # print(set.index)\n",
        "        # print(set.iloc[69])\n",
        "        # add to list\n",
        "        ranking_sets.append(rank_set)\n",
        "\n",
        "    return ranking_sets"
      ],
      "outputs": [],
      "execution_count": 6,
      "metadata": {
        "gather": {
          "logged": 1692969280813
        }
      }
    },
    {
      "cell_type": "code",
      "source": [
        "ranking_sets = create_ranking_sets(rankings)\n",
        "\n",
        "\n",
        "# print(ranking_sets[0].index)\n",
        "print(len(ranking_sets))\n",
        "\n",
        "r_count = []\n",
        "for set in ranking_sets:\n",
        "    r_count.append(set.shape[0])\n",
        "print(ranking_sets[0].shape)\n",
        "print(ranking_sets[0].iloc[69])"
      ],
      "outputs": [
        {
          "output_type": "stream",
          "name": "stdout",
          "text": "14\n(82, 10)\nQ4_1      1\nQ4_2      2\nQ4_3      4\nQ4_4      7\nQ4_5      3\nQ4_6     10\nQ4_7      9\nQ4_8      8\nQ4_9      6\nQ4_10     5\nName: 72, dtype: object\n"
        }
      ],
      "execution_count": 7,
      "metadata": {
        "gather": {
          "logged": 1692969281231
        }
      }
    },
    {
      "cell_type": "code",
      "source": [
        "def addlabels(x,y):\n",
        "    for i in range(len(x)):\n",
        "        plt.text(i, y[i], y[i], ha = 'center')\n",
        " "
      ],
      "outputs": [],
      "execution_count": 8,
      "metadata": {
        "gather": {
          "logged": 1692969281582
        }
      }
    },
    {
      "cell_type": "code",
      "source": [
        "# Figure Size\n",
        "plt.figure(figsize = (8, 5))\n",
        " \n",
        "plt.bar(range(len(r_count)), r_count, width=0.6)\n",
        "\n",
        "addlabels(range(len(r_count)), r_count)\n",
        "\n",
        "# giving title to the plot\n",
        "plt.title(\"Ranking distribution\")\n",
        "    \n",
        "# giving X and Y labels\n",
        "plt.xlabel(\"Sets\")\n",
        "plt.ylabel(\"Count\")\n",
        "    \n",
        "# visualizing the plot\n",
        "plt.savefig('Distribution_ranking_questions.pdf', bbox_inches='tight')\n",
        "plt.show()"
      ],
      "outputs": [
        {
          "output_type": "display_data",
          "data": {
            "text/plain": "<Figure size 800x500 with 1 Axes>",
            "image/png": "[encoded data removed]"
          },
          "metadata": {}
        }
      ],
      "execution_count": 9,
      "metadata": {
        "gather": {
          "logged": 1692969289029
        }
      }
    },
    {
      "cell_type": "code",
      "source": [
        "corr_matrix = ranking_sets[0].corr(method='kendall')"
      ],
      "outputs": [],
      "execution_count": 10,
      "metadata": {
        "gather": {
          "logged": 1692969292583
        }
      }
    },
    {
      "cell_type": "code",
      "source": [
        "print(corr_matrix)"
      ],
      "outputs": [
        {
          "output_type": "stream",
          "name": "stdout",
          "text": "Empty DataFrame\nColumns: []\nIndex: []\n"
        }
      ],
      "execution_count": 11,
      "metadata": {
        "gather": {
          "logged": 1692969292907
        }
      }
    },
    {
      "cell_type": "code",
      "source": [
        "set0 = ranking_sets[0]\n",
        "set0.head()"
      ],
      "outputs": [
        {
          "output_type": "execute_result",
          "execution_count": 28,
          "data": {
            "text/plain": "                                                Q4_1  \\\n0  Drag the explanations in order such that the f...   \n1                             {\"ImportId\":\"QID30_1\"}   \n2                                                  2   \n3                                                  2   \n4                                                  7   \n\n                                                Q4_2  \\\n0  Drag the explanations in order such that the f...   \n1                             {\"ImportId\":\"QID30_2\"}   \n2                                                  3   \n3                                                  3   \n4                                                  6   \n\n                                                Q4_3  \\\n0  Drag the explanations in order such that the f...   \n1                             {\"ImportId\":\"QID30_3\"}   \n2                                                  4   \n3                                                  4   \n4                                                  4   \n\n                                                Q4_4  \\\n0  Drag the explanations in order such that the f...   \n1                             {\"ImportId\":\"QID30_4\"}   \n2                                                  8   \n3                                                  6   \n4                                                  2   \n\n                                                Q4_5  \\\n0  Drag the explanations in order such that the f...   \n1                             {\"ImportId\":\"QID30_5\"}   \n2                                                  1   \n3                                                  1   \n4                                                  5   \n\n                                                Q4_6  \\\n0  Drag the explanations in order such that the f...   \n1                             {\"ImportId\":\"QID30_6\"}   \n2                                                 10   \n3                                                  9   \n4                                                  9   \n\n                                                Q4_7  \\\n0  Drag the explanations in order such that the f...   \n1                             {\"ImportId\":\"QID30_7\"}   \n2                                                  9   \n3                                                 10   \n4                                                 10   \n\n                                                Q4_8  \\\n0  Drag the explanations in order such that the f...   \n1                             {\"ImportId\":\"QID30_8\"}   \n2                                                  7   \n3                                                  8   \n4                                                  1   \n\n                                                Q4_9  \\\n0  Drag the explanations in order such that the f...   \n1                             {\"ImportId\":\"QID30_9\"}   \n2                                                  6   \n3                                                  7   \n4                                                  3   \n\n                                               Q4_10  \n0  Drag the explanations in order such that the f...  \n1                            {\"ImportId\":\"QID30_10\"}  \n2                                                  5  \n3                                                  5  \n4                                                  8  ",
            "text/html": "<div>\n<style scoped>\n    .dataframe tbody tr th:only-of-type {\n        vertical-align: middle;\n    }\n\n    .dataframe tbody tr th {\n        vertical-align: top;\n    }\n\n    .dataframe thead th {\n        text-align: right;\n    }\n</style>\n<table border=\"1\" class=\"dataframe\">\n  <thead>\n    <tr style=\"text-align: right;\">\n      <th></th>\n      <th>Q4_1</th>\n      <th>Q4_2</th>\n      <th>Q4_3</th>\n      <th>Q4_4</th>\n      <th>Q4_5</th>\n      <th>Q4_6</th>\n      <th>Q4_7</th>\n      <th>Q4_8</th>\n      <th>Q4_9</th>\n      <th>Q4_10</th>\n    </tr>\n  </thead>\n  <tbody>\n    <tr>\n      <th>0</th>\n      <td>Drag the explanations in order such that the f...</td>\n      <td>Drag the explanations in order such that the f...</td>\n      <td>Drag the explanations in order such that the f...</td>\n      <td>Drag the explanations in order such that the f...</td>\n      <td>Drag the explanations in order such that the f...</td>\n      <td>Drag the explanations in order such that the f...</td>\n      <td>Drag the explanations in order such that the f...</td>\n      <td>Drag the explanations in order such that the f...</td>\n      <td>Drag the explanations in order such that the f...</td>\n      <td>Drag the explanations in order such that the f...</td>\n    </tr>\n    <tr>\n      <th>1</th>\n      <td>{\"ImportId\":\"QID30_1\"}</td>\n      <td>{\"ImportId\":\"QID30_2\"}</td>\n      <td>{\"ImportId\":\"QID30_3\"}</td>\n      <td>{\"ImportId\":\"QID30_4\"}</td>\n      <td>{\"ImportId\":\"QID30_5\"}</td>\n      <td>{\"ImportId\":\"QID30_6\"}</td>\n      <td>{\"ImportId\":\"QID30_7\"}</td>\n      <td>{\"ImportId\":\"QID30_8\"}</td>\n      <td>{\"ImportId\":\"QID30_9\"}</td>\n      <td>{\"ImportId\":\"QID30_10\"}</td>\n    </tr>\n    <tr>\n      <th>2</th>\n      <td>2</td>\n      <td>3</td>\n      <td>4</td>\n      <td>8</td>\n      <td>1</td>\n      <td>10</td>\n      <td>9</td>\n      <td>7</td>\n      <td>6</td>\n      <td>5</td>\n    </tr>\n    <tr>\n      <th>3</th>\n      <td>2</td>\n      <td>3</td>\n      <td>4</td>\n      <td>6</td>\n      <td>1</td>\n      <td>9</td>\n      <td>10</td>\n      <td>8</td>\n      <td>7</td>\n      <td>5</td>\n    </tr>\n    <tr>\n      <th>4</th>\n      <td>7</td>\n      <td>6</td>\n      <td>4</td>\n      <td>2</td>\n      <td>5</td>\n      <td>9</td>\n      <td>10</td>\n      <td>1</td>\n      <td>3</td>\n      <td>8</td>\n    </tr>\n  </tbody>\n</table>\n</div>"
          },
          "metadata": {}
        }
      ],
      "execution_count": 28,
      "metadata": {
        "gather": {
          "logged": 1692970059139
        }
      }
    },
    {
      "cell_type": "code",
      "source": [
        "set0 = set0.drop(labels=0, axis=0)\n",
        "set0 = set0.drop(labels=1, axis=0)"
      ],
      "outputs": [],
      "execution_count": 29,
      "metadata": {
        "gather": {
          "logged": 1692970060216
        }
      }
    },
    {
      "cell_type": "code",
      "source": [
        "set0.head()"
      ],
      "outputs": [
        {
          "output_type": "execute_result",
          "execution_count": 30,
          "data": {
            "text/plain": "  Q4_1 Q4_2 Q4_3 Q4_4 Q4_5 Q4_6 Q4_7 Q4_8 Q4_9 Q4_10\n2    2    3    4    8    1   10    9    7    6     5\n3    2    3    4    6    1    9   10    8    7     5\n4    7    6    4    2    5    9   10    1    3     8\n5    4    6    3    5    2    8   10    9    7     1\n6    2    3    5    4    1   10    9    8    6     7",
            "text/html": "<div>\n<style scoped>\n    .dataframe tbody tr th:only-of-type {\n        vertical-align: middle;\n    }\n\n    .dataframe tbody tr th {\n        vertical-align: top;\n    }\n\n    .dataframe thead th {\n        text-align: right;\n    }\n</style>\n<table border=\"1\" class=\"dataframe\">\n  <thead>\n    <tr style=\"text-align: right;\">\n      <th></th>\n      <th>Q4_1</th>\n      <th>Q4_2</th>\n      <th>Q4_3</th>\n      <th>Q4_4</th>\n      <th>Q4_5</th>\n      <th>Q4_6</th>\n      <th>Q4_7</th>\n      <th>Q4_8</th>\n      <th>Q4_9</th>\n      <th>Q4_10</th>\n    </tr>\n  </thead>\n  <tbody>\n    <tr>\n      <th>2</th>\n      <td>2</td>\n      <td>3</td>\n      <td>4</td>\n      <td>8</td>\n      <td>1</td>\n      <td>10</td>\n      <td>9</td>\n      <td>7</td>\n      <td>6</td>\n      <td>5</td>\n    </tr>\n    <tr>\n      <th>3</th>\n      <td>2</td>\n      <td>3</td>\n      <td>4</td>\n      <td>6</td>\n      <td>1</td>\n      <td>9</td>\n      <td>10</td>\n      <td>8</td>\n      <td>7</td>\n      <td>5</td>\n    </tr>\n    <tr>\n      <th>4</th>\n      <td>7</td>\n      <td>6</td>\n      <td>4</td>\n      <td>2</td>\n      <td>5</td>\n      <td>9</td>\n      <td>10</td>\n      <td>1</td>\n      <td>3</td>\n      <td>8</td>\n    </tr>\n    <tr>\n      <th>5</th>\n      <td>4</td>\n      <td>6</td>\n      <td>3</td>\n      <td>5</td>\n      <td>2</td>\n      <td>8</td>\n      <td>10</td>\n      <td>9</td>\n      <td>7</td>\n      <td>1</td>\n    </tr>\n    <tr>\n      <th>6</th>\n      <td>2</td>\n      <td>3</td>\n      <td>5</td>\n      <td>4</td>\n      <td>1</td>\n      <td>10</td>\n      <td>9</td>\n      <td>8</td>\n      <td>6</td>\n      <td>7</td>\n    </tr>\n  </tbody>\n</table>\n</div>"
          },
          "metadata": {}
        }
      ],
      "execution_count": 30,
      "metadata": {
        "gather": {
          "logged": 1692970062120
        }
      }
    },
    {
      "cell_type": "code",
      "source": [
        "set0 = set0.astype(int)\n",
        "print(set0.shape)\n",
        "# set0_q1 = set0.iloc[:,0]\n",
        "\n",
        "# print(set0_q1.shape)\n"
      ],
      "outputs": [
        {
          "output_type": "stream",
          "name": "stdout",
          "text": "(80, 10)\n"
        }
      ],
      "execution_count": 31,
      "metadata": {
        "gather": {
          "logged": 1692970062361
        }
      }
    },
    {
      "cell_type": "code",
      "source": [
        "def pairwise_kendall_tau(df):\n",
        "    num_experts = df.shape[0] \n",
        "    correlation_matrix = np.zeros((num_experts, num_experts))\n",
        "\n",
        "    for i in range(num_experts):\n",
        "        for j in range(i, num_experts):\n",
        "            correlation, _ = kendalltau(df.iloc[i,:  ], df.iloc[ j,: ])\n",
        "            correlation_matrix[i, j] = correlation\n",
        "            correlation_matrix[j, i] = correlation\n",
        "\n",
        "    return pd.DataFrame(correlation_matrix)"
      ],
      "outputs": [],
      "execution_count": 32,
      "metadata": {
        "gather": {
          "logged": 1692970062516
        }
      }
    },
    {
      "cell_type": "code",
      "source": [
        "df_tau = pairwise_kendall_tau(set0)\n",
        "df_tau.head(10)"
      ],
      "outputs": [
        {
          "output_type": "execute_result",
          "execution_count": 33,
          "data": {
            "text/plain": "         0         1         2         3         4         5         6   \\\n0  1.000000  0.866667  0.022222  0.511111  0.777778  0.822222 -0.066667   \n1  0.866667  1.000000  0.066667  0.644444  0.822222  0.777778 -0.022222   \n2  0.022222  0.066667  1.000000 -0.022222  0.155556  0.200000  0.111111   \n3  0.511111  0.644444 -0.022222  1.000000  0.466667  0.511111 -0.022222   \n4  0.777778  0.822222  0.155556  0.466667  1.000000  0.600000 -0.111111   \n5  0.822222  0.777778  0.200000  0.511111  0.600000  1.000000  0.111111   \n6 -0.066667 -0.022222  0.111111 -0.022222 -0.111111  0.111111  1.000000   \n7  0.600000  0.466667  0.155556  0.111111  0.466667  0.511111 -0.111111   \n8  0.911111  0.955556  0.022222  0.600000  0.777778  0.822222 -0.066667   \n9  0.822222  0.866667  0.111111  0.600000  0.777778  0.822222  0.022222   \n\n         7         8         9   ...        70        71        72        73  \\\n0  0.600000  0.911111  0.822222  ...  0.866667  0.688889  0.511111  0.777778   \n1  0.466667  0.955556  0.866667  ...  0.911111  0.733333  0.466667  0.911111   \n2  0.155556  0.022222  0.111111  ...  0.066667 -0.200000  0.066667  0.155556   \n3  0.111111  0.600000  0.600000  ...  0.555556  0.555556  0.377778  0.555556   \n4  0.466667  0.777778  0.777778  ...  0.822222  0.644444  0.555556  0.911111   \n5  0.511111  0.822222  0.822222  ...  0.777778  0.511111  0.333333  0.688889   \n6 -0.111111 -0.066667  0.022222  ... -0.111111 -0.022222 -0.466667 -0.111111   \n7  1.000000  0.511111  0.511111  ...  0.555556  0.288889  0.377778  0.466667   \n8  0.511111  1.000000  0.822222  ...  0.955556  0.688889  0.511111  0.866667   \n9  0.511111  0.822222  1.000000  ...  0.777778  0.688889  0.422222  0.777778   \n\n         74        75        76        77        78        79  \n0 -0.200000  0.688889  0.555556  0.733333  0.644444  0.822222  \n1 -0.155556  0.644444  0.600000  0.777778  0.688889  0.777778  \n2 -0.288889 -0.111111  0.022222  0.200000  0.200000 -0.066667  \n3 -0.155556  0.377778  0.244444  0.422222  0.511111  0.688889  \n4 -0.155556  0.644444  0.688889  0.777778  0.511111  0.688889  \n5 -0.288889  0.511111  0.466667  0.733333  0.733333  0.644444  \n6 -0.466667 -0.288889 -0.155556  0.022222  0.022222 -0.066667  \n7 -0.155556  0.555556  0.333333  0.511111  0.422222  0.422222  \n8 -0.111111  0.688889  0.555556  0.733333  0.644444  0.822222  \n9 -0.288889  0.600000  0.555556  0.822222  0.644444  0.733333  \n\n[10 rows x 80 columns]",
            "text/html": "<div>\n<style scoped>\n    .dataframe tbody tr th:only-of-type {\n        vertical-align: middle;\n    }\n\n    .dataframe tbody tr th {\n        vertical-align: top;\n    }\n\n    .dataframe thead th {\n        text-align: right;\n    }\n</style>\n<table border=\"1\" class=\"dataframe\">\n  <thead>\n    <tr style=\"text-align: right;\">\n      <th></th>\n      <th>0</th>\n      <th>1</th>\n      <th>2</th>\n      <th>3</th>\n      <th>4</th>\n      <th>5</th>\n      <th>6</th>\n      <th>7</th>\n      <th>8</th>\n      <th>9</th>\n      <th>...</th>\n      <th>70</th>\n      <th>71</th>\n      <th>72</th>\n      <th>73</th>\n      <th>74</th>\n      <th>75</th>\n      <th>76</th>\n      <th>77</th>\n      <th>78</th>\n      <th>79</th>\n    </tr>\n  </thead>\n  <tbody>\n    <tr>\n      <th>0</th>\n      <td>1.000000</td>\n      <td>0.866667</td>\n      <td>0.022222</td>\n      <td>0.511111</td>\n      <td>0.777778</td>\n      <td>0.822222</td>\n      <td>-0.066667</td>\n      <td>0.600000</td>\n      <td>0.911111</td>\n      <td>0.822222</td>\n      <td>...</td>\n      <td>0.866667</td>\n      <td>0.688889</td>\n      <td>0.511111</td>\n      <td>0.777778</td>\n      <td>-0.200000</td>\n      <td>0.688889</td>\n      <td>0.555556</td>\n      <td>0.733333</td>\n      <td>0.644444</td>\n      <td>0.822222</td>\n    </tr>\n    <tr>\n      <th>1</th>\n      <td>0.866667</td>\n      <td>1.000000</td>\n      <td>0.066667</td>\n      <td>0.644444</td>\n      <td>0.822222</td>\n      <td>0.777778</td>\n      <td>-0.022222</td>\n      <td>0.466667</td>\n      <td>0.955556</td>\n      <td>0.866667</td>\n      <td>...</td>\n      <td>0.911111</td>\n      <td>0.733333</td>\n      <td>0.466667</td>\n      <td>0.911111</td>\n      <td>-0.155556</td>\n      <td>0.644444</td>\n      <td>0.600000</td>\n      <td>0.777778</td>\n      <td>0.688889</td>\n      <td>0.777778</td>\n    </tr>\n    <tr>\n      <th>2</th>\n      <td>0.022222</td>\n      <td>0.066667</td>\n      <td>1.000000</td>\n      <td>-0.022222</td>\n      <td>0.155556</td>\n      <td>0.200000</td>\n      <td>0.111111</td>\n      <td>0.155556</td>\n      <td>0.022222</td>\n      <td>0.111111</td>\n      <td>...</td>\n      <td>0.066667</td>\n      <td>-0.200000</td>\n      <td>0.066667</td>\n      <td>0.155556</td>\n      <td>-0.288889</td>\n      <td>-0.111111</td>\n      <td>0.022222</td>\n      <td>0.200000</td>\n      <td>0.200000</td>\n      <td>-0.066667</td>\n    </tr>\n    <tr>\n      <th>3</th>\n      <td>0.511111</td>\n      <td>0.644444</td>\n      <td>-0.022222</td>\n      <td>1.000000</td>\n      <td>0.466667</td>\n      <td>0.511111</td>\n      <td>-0.022222</td>\n      <td>0.111111</td>\n      <td>0.600000</td>\n      <td>0.600000</td>\n      <td>...</td>\n      <td>0.555556</td>\n      <td>0.555556</td>\n      <td>0.377778</td>\n      <td>0.555556</td>\n      <td>-0.155556</td>\n      <td>0.377778</td>\n      <td>0.244444</td>\n      <td>0.422222</td>\n      <td>0.511111</td>\n      <td>0.688889</td>\n    </tr>\n    <tr>\n      <th>4</th>\n      <td>0.777778</td>\n      <td>0.822222</td>\n      <td>0.155556</td>\n      <td>0.466667</td>\n      <td>1.000000</td>\n      <td>0.600000</td>\n      <td>-0.111111</td>\n      <td>0.466667</td>\n      <td>0.777778</td>\n      <td>0.777778</td>\n      <td>...</td>\n      <td>0.822222</td>\n      <td>0.644444</td>\n      <td>0.555556</td>\n      <td>0.911111</td>\n      <td>-0.155556</td>\n      <td>0.644444</td>\n      <td>0.688889</td>\n      <td>0.777778</td>\n      <td>0.511111</td>\n      <td>0.688889</td>\n    </tr>\n    <tr>\n      <th>5</th>\n      <td>0.822222</td>\n      <td>0.777778</td>\n      <td>0.200000</td>\n      <td>0.511111</td>\n      <td>0.600000</td>\n      <td>1.000000</td>\n      <td>0.111111</td>\n      <td>0.511111</td>\n      <td>0.822222</td>\n      <td>0.822222</td>\n      <td>...</td>\n      <td>0.777778</td>\n      <td>0.511111</td>\n      <td>0.333333</td>\n      <td>0.688889</td>\n      <td>-0.288889</td>\n      <td>0.511111</td>\n      <td>0.466667</td>\n      <td>0.733333</td>\n      <td>0.733333</td>\n      <td>0.644444</td>\n    </tr>\n    <tr>\n      <th>6</th>\n      <td>-0.066667</td>\n      <td>-0.022222</td>\n      <td>0.111111</td>\n      <td>-0.022222</td>\n      <td>-0.111111</td>\n      <td>0.111111</td>\n      <td>1.000000</td>\n      <td>-0.111111</td>\n      <td>-0.066667</td>\n      <td>0.022222</td>\n      <td>...</td>\n      <td>-0.111111</td>\n      <td>-0.022222</td>\n      <td>-0.466667</td>\n      <td>-0.111111</td>\n      <td>-0.466667</td>\n      <td>-0.288889</td>\n      <td>-0.155556</td>\n      <td>0.022222</td>\n      <td>0.022222</td>\n      <td>-0.066667</td>\n    </tr>\n    <tr>\n      <th>7</th>\n      <td>0.600000</td>\n      <td>0.466667</td>\n      <td>0.155556</td>\n      <td>0.111111</td>\n      <td>0.466667</td>\n      <td>0.511111</td>\n      <td>-0.111111</td>\n      <td>1.000000</td>\n      <td>0.511111</td>\n      <td>0.511111</td>\n      <td>...</td>\n      <td>0.555556</td>\n      <td>0.288889</td>\n      <td>0.377778</td>\n      <td>0.466667</td>\n      <td>-0.155556</td>\n      <td>0.555556</td>\n      <td>0.333333</td>\n      <td>0.511111</td>\n      <td>0.422222</td>\n      <td>0.422222</td>\n    </tr>\n    <tr>\n      <th>8</th>\n      <td>0.911111</td>\n      <td>0.955556</td>\n      <td>0.022222</td>\n      <td>0.600000</td>\n      <td>0.777778</td>\n      <td>0.822222</td>\n      <td>-0.066667</td>\n      <td>0.511111</td>\n      <td>1.000000</td>\n      <td>0.822222</td>\n      <td>...</td>\n      <td>0.955556</td>\n      <td>0.688889</td>\n      <td>0.511111</td>\n      <td>0.866667</td>\n      <td>-0.111111</td>\n      <td>0.688889</td>\n      <td>0.555556</td>\n      <td>0.733333</td>\n      <td>0.644444</td>\n      <td>0.822222</td>\n    </tr>\n    <tr>\n      <th>9</th>\n      <td>0.822222</td>\n      <td>0.866667</td>\n      <td>0.111111</td>\n      <td>0.600000</td>\n      <td>0.777778</td>\n      <td>0.822222</td>\n      <td>0.022222</td>\n      <td>0.511111</td>\n      <td>0.822222</td>\n      <td>1.000000</td>\n      <td>...</td>\n      <td>0.777778</td>\n      <td>0.688889</td>\n      <td>0.422222</td>\n      <td>0.777778</td>\n      <td>-0.288889</td>\n      <td>0.600000</td>\n      <td>0.555556</td>\n      <td>0.822222</td>\n      <td>0.644444</td>\n      <td>0.733333</td>\n    </tr>\n  </tbody>\n</table>\n<p>10 rows × 80 columns</p>\n</div>"
          },
          "metadata": {}
        }
      ],
      "execution_count": 33,
      "metadata": {
        "gather": {
          "logged": 1692970064767
        }
      }
    },
    {
      "cell_type": "code",
      "source": [
        "mean = df_tau.mean(axis=0)\n",
        "std = df_tau.std()\n",
        "mean_mean = mean.mean()\n",
        "std_mean = mean.std()\n",
        "print('mean:',mean.mean())\n",
        "print('std:',std_mean)\n",
        "\n",
        "threshold = mean_mean - std_mean*2\n",
        "print(threshold)\n",
        "\n",
        "# threshold = mean - std*2\n",
        "\n",
        "# print(-0.5<threshold)\n"
      ],
      "outputs": [
        {
          "output_type": "stream",
          "name": "stdout",
          "text": "mean: 0.511041666666667\nstd: 0.1828484696719791\n0.14534472732270876\n"
        }
      ],
      "execution_count": 34,
      "metadata": {
        "gather": {
          "logged": 1692970064999
        }
      }
    },
    {
      "cell_type": "code",
      "source": [
        "set0.mean()"
      ],
      "outputs": [
        {
          "output_type": "execute_result",
          "execution_count": 35,
          "data": {
            "text/plain": "Q4_1     2.4500\nQ4_2     3.7000\nQ4_3     4.1750\nQ4_4     6.0875\nQ4_5     2.0125\nQ4_6     8.6625\nQ4_7     8.6250\nQ4_8     7.6375\nQ4_9     6.4750\nQ4_10    5.1750\ndtype: float64"
          },
          "metadata": {}
        }
      ],
      "execution_count": 35,
      "metadata": {
        "gather": {
          "logged": 1692970065148
        }
      }
    },
    {
      "cell_type": "code",
      "source": [
        "import plotly.graph_objects as go\n",
        "fig = go.Figure()\n",
        "fig = px.scatter(range(set0.shape[0]),mean)\n",
        "fig.add_vline(x=0.2)\n",
        "fig.update_traces(marker=dict(size=14,\n",
        "                              line=dict(width=2,\n",
        "                                        color='DarkSlateGrey')),\n",
        "                  selector=dict(mode='markers'))\n",
        "fig.update_layout(\n",
        "    # marker=dict(size=12),\n",
        "    xaxis_title=dict(text=\"Tau\", font=dict(size=25)),\n",
        "    yaxis_title=dict(text=\"Ranker index\", font=dict(size=25)), \n",
        "    title= dict(text=\"Average agreement Tau per ranker\", font=dict(size=25))\n",
        ")\n",
        "fig.write_image(\"outliers_q1.pdf\", width=1500, height=700)\n",
        "fig.show()"
      ],
      "outputs": [
        {
          "output_type": "display_data",
          "data": {
            "application/vnd.plotly.v1+json": {
              "data": [
                {
                  "hovertemplate": "x=%{x}<br>index=%{y}<extra></extra>",
                  "legendgroup": "",
                  "marker": {
                    "color": "#636efa",
                    "symbol": "circle",
                    "line": {
                      "color": "DarkSlateGrey",
                      "width": 2
                    },
                    "size": 14
                  },
                  "mode": "markers",
                  "name": "",
                  "orientation": "h",
                  "showlegend": false,
                  "x": [
                    0.6427777777777782,
                    0.6738888888888893,
                    0.042777777777777776,
                    0.4761111111111115,
                    0.6161111111111115,
                    0.5694444444444451,
                    -0.05388888888888889,
                    0.3949999999999997,
                    0.6694444444444448,
                    0.6216666666666673,
                    0.5783333333333339,
                    0.5772222222222229,
                    0.6627777777777781,
                    0.45277777777777783,
                    0.6472222222222227,
                    0.5272222222222226,
                    0.6572222222222226,
                    0.5516666666666672,
                    0.571666666666667,
                    0.5794444444444451,
                    0.4983333333333337,
                    0.3983333333333333,
                    0.41166666666666646,
                    0.5472222222222227,
                    0.5783333333333338,
                    0.0016666666666666653,
                    0.550555555555556,
                    0.6416666666666672,
                    0.6061111111111115,
                    0.46388888888888913,
                    0.3027777777777775,
                    0.41277777777777763,
                    0.6694444444444448,
                    0.34277777777777757,
                    0.6261111111111116,
                    0.5672222222222225,
                    0.571666666666667,
                    0.6505555555555559,
                    0.6061111111111115,
                    0.569444444444445,
                    0.5905555555555562,
                    0.3038888888888887,
                    0.48722222222222256,
                    0.5983333333333338,
                    0.6572222222222226,
                    0.6738888888888893,
                    -0.07277777777777776,
                    0.560555555555556,
                    0.5972222222222227,
                    0.6350000000000005,
                    0.6494444444444449,
                    0.5827777777777783,
                    0.5816666666666673,
                    0.5050000000000003,
                    0.6172222222222227,
                    0.5061111111111114,
                    0.10277777777777777,
                    0.4616666666666669,
                    0.5594444444444449,
                    0.5116666666666674,
                    0.6172222222222226,
                    0.6194444444444449,
                    0.5738888888888891,
                    0.6005555555555561,
                    0.4805555555555559,
                    0.571666666666667,
                    0.600555555555556,
                    0.620555555555556,
                    0.6427777777777783,
                    0.023888888888888887,
                    0.6516666666666671,
                    0.5694444444444449,
                    0.4438888888888889,
                    0.6450000000000004,
                    -0.09611111111111105,
                    0.5372222222222227,
                    0.4772222222222223,
                    0.5850000000000006,
                    0.5172222222222227,
                    0.6172222222222227
                  ],
                  "xaxis": "x",
                  "y": [
                    0,
                    1,
                    2,
                    3,
                    4,
                    5,
                    6,
                    7,
                    8,
                    9,
                    10,
                    11,
                    12,
                    13,
                    14,
                    15,
                    16,
                    17,
                    18,
                    19,
                    20,
                    21,
                    22,
                    23,
                    24,
                    25,
                    26,
                    27,
                    28,
                    29,
                    30,
                    31,
                    32,
                    33,
                    34,
                    35,
                    36,
                    37,
                    38,
                    39,
                    40,
                    41,
                    42,
                    43,
                    44,
                    45,
                    46,
                    47,
                    48,
                    49,
                    50,
                    51,
                    52,
                    53,
                    54,
                    55,
                    56,
                    57,
                    58,
                    59,
                    60,
                    61,
                    62,
                    63,
                    64,
                    65,
                    66,
                    67,
                    68,
                    69,
                    70,
                    71,
                    72,
                    73,
                    74,
                    75,
                    76,
                    77,
                    78,
                    79
                  ],
                  "yaxis": "y",
                  "type": "scatter"
                }
              ],
              "layout": {
                "template": {
                  "data": {
                    "histogram2dcontour": [
                      {
                        "type": "histogram2dcontour",
                        "colorbar": {
                          "outlinewidth": 0,
                          "ticks": ""
                        },
                        "colorscale": [
                          [
                            0,
                            "#0d0887"
                          ],
                          [
                            0.1111111111111111,
                            "#46039f"
                          ],
                          [
                            0.2222222222222222,
                            "#7201a8"
                          ],
                          [
                            0.3333333333333333,
                            "#9c179e"
                          ],
                          [
                            0.4444444444444444,
                            "#bd3786"
                          ],
                          [
                            0.5555555555555556,
                            "#d8576b"
                          ],
                          [
                            0.6666666666666666,
                            "#ed7953"
                          ],
                          [
                            0.7777777777777778,
                            "#fb9f3a"
                          ],
                          [
                            0.8888888888888888,
                            "#fdca26"
                          ],
                          [
                            1,
                            "#f0f921"
                          ]
                        ]
                      }
                    ],
                    "choropleth": [
                      {
                        "type": "choropleth",
                        "colorbar": {
                          "outlinewidth": 0,
                          "ticks": ""
                        }
                      }
                    ],
                    "histogram2d": [
                      {
                        "type": "histogram2d",
                        "colorbar": {
                          "outlinewidth": 0,
                          "ticks": ""
                        },
                        "colorscale": [
                          [
                            0,
                            "#0d0887"
                          ],
                          [
                            0.1111111111111111,
                            "#46039f"
                          ],
                          [
                            0.2222222222222222,
                            "#7201a8"
                          ],
                          [
                            0.3333333333333333,
                            "#9c179e"
                          ],
                          [
                            0.4444444444444444,
                            "#bd3786"
                          ],
                          [
                            0.5555555555555556,
                            "#d8576b"
                          ],
                          [
                            0.6666666666666666,
                            "#ed7953"
                          ],
                          [
                            0.7777777777777778,
                            "#fb9f3a"
                          ],
                          [
                            0.8888888888888888,
                            "#fdca26"
                          ],
                          [
                            1,
                            "#f0f921"
                          ]
                        ]
                      }
                    ],
                    "heatmap": [
                      {
                        "type": "heatmap",
                        "colorbar": {
                          "outlinewidth": 0,
                          "ticks": ""
                        },
                        "colorscale": [
                          [
                            0,
                            "#0d0887"
                          ],
                          [
                            0.1111111111111111,
                            "#46039f"
                          ],
                          [
                            0.2222222222222222,
                            "#7201a8"
                          ],
                          [
                            0.3333333333333333,
                            "#9c179e"
                          ],
                          [
                            0.4444444444444444,
                            "#bd3786"
                          ],
                          [
                            0.5555555555555556,
                            "#d8576b"
                          ],
                          [
                            0.6666666666666666,
                            "#ed7953"
                          ],
                          [
                            0.7777777777777778,
                            "#fb9f3a"
                          ],
                          [
                            0.8888888888888888,
                            "#fdca26"
                          ],
                          [
                            1,
                            "#f0f921"
                          ]
                        ]
                      }
                    ],
                    "heatmapgl": [
                      {
                        "type": "heatmapgl",
                        "colorbar": {
                          "outlinewidth": 0,
                          "ticks": ""
                        },
                        "colorscale": [
                          [
                            0,
                            "#0d0887"
                          ],
                          [
                            0.1111111111111111,
                            "#46039f"
                          ],
                          [
                            0.2222222222222222,
                            "#7201a8"
                          ],
                          [
                            0.3333333333333333,
                            "#9c179e"
                          ],
                          [
                            0.4444444444444444,
                            "#bd3786"
                          ],
                          [
                            0.5555555555555556,
                            "#d8576b"
                          ],
                          [
                            0.6666666666666666,
                            "#ed7953"
                          ],
                          [
                            0.7777777777777778,
                            "#fb9f3a"
                          ],
                          [
                            0.8888888888888888,
                            "#fdca26"
                          ],
                          [
                            1,
                            "#f0f921"
                          ]
                        ]
                      }
                    ],
                    "contourcarpet": [
                      {
                        "type": "contourcarpet",
                        "colorbar": {
                          "outlinewidth": 0,
                          "ticks": ""
                        }
                      }
                    ],
                    "contour": [
                      {
                        "type": "contour",
                        "colorbar": {
                          "outlinewidth": 0,
                          "ticks": ""
                        },
                        "colorscale": [
                          [
                            0,
                            "#0d0887"
                          ],
                          [
                            0.1111111111111111,
                            "#46039f"
                          ],
                          [
                            0.2222222222222222,
                            "#7201a8"
                          ],
                          [
                            0.3333333333333333,
                            "#9c179e"
                          ],
                          [
                            0.4444444444444444,
                            "#bd3786"
                          ],
                          [
                            0.5555555555555556,
                            "#d8576b"
                          ],
                          [
                            0.6666666666666666,
                            "#ed7953"
                          ],
                          [
                            0.7777777777777778,
                            "#fb9f3a"
                          ],
                          [
                            0.8888888888888888,
                            "#fdca26"
                          ],
                          [
                            1,
                            "#f0f921"
                          ]
                        ]
                      }
                    ],
                    "surface": [
                      {
                        "type": "surface",
                        "colorbar": {
                          "outlinewidth": 0,
                          "ticks": ""
                        },
                        "colorscale": [
                          [
                            0,
                            "#0d0887"
                          ],
                          [
                            0.1111111111111111,
                            "#46039f"
                          ],
                          [
                            0.2222222222222222,
                            "#7201a8"
                          ],
                          [
                            0.3333333333333333,
                            "#9c179e"
                          ],
                          [
                            0.4444444444444444,
                            "#bd3786"
                          ],
                          [
                            0.5555555555555556,
                            "#d8576b"
                          ],
                          [
                            0.6666666666666666,
                            "#ed7953"
                          ],
                          [
                            0.7777777777777778,
                            "#fb9f3a"
                          ],
                          [
                            0.8888888888888888,
                            "#fdca26"
                          ],
                          [
                            1,
                            "#f0f921"
                          ]
                        ]
                      }
                    ],
                    "mesh3d": [
                      {
                        "type": "mesh3d",
                        "colorbar": {
                          "outlinewidth": 0,
                          "ticks": ""
                        }
                      }
                    ],
                    "scatter": [
                      {
                        "fillpattern": {
                          "fillmode": "overlay",
                          "size": 10,
                          "solidity": 0.2
                        },
                        "type": "scatter"
                      }
                    ],
                    "parcoords": [
                      {
                        "type": "parcoords",
                        "line": {
                          "colorbar": {
                            "outlinewidth": 0,
                            "ticks": ""
                          }
                        }
                      }
                    ],
                    "scatterpolargl": [
                      {
                        "type": "scatterpolargl",
                        "marker": {
                          "colorbar": {
                            "outlinewidth": 0,
                            "ticks": ""
                          }
                        }
                      }
                    ],
                    "bar": [
                      {
                        "error_x": {
                          "color": "#2a3f5f"
                        },
                        "error_y": {
                          "color": "#2a3f5f"
                        },
                        "marker": {
                          "line": {
                            "color": "#E5ECF6",
                            "width": 0.5
                          },
                          "pattern": {
                            "fillmode": "overlay",
                            "size": 10,
                            "solidity": 0.2
                          }
                        },
                        "type": "bar"
                      }
                    ],
                    "scattergeo": [
                      {
                        "type": "scattergeo",
                        "marker": {
                          "colorbar": {
                            "outlinewidth": 0,
                            "ticks": ""
                          }
                        }
                      }
                    ],
                    "scatterpolar": [
                      {
                        "type": "scatterpolar",
                        "marker": {
                          "colorbar": {
                            "outlinewidth": 0,
                            "ticks": ""
                          }
                        }
                      }
                    ],
                    "histogram": [
                      {
                        "marker": {
                          "pattern": {
                            "fillmode": "overlay",
                            "size": 10,
                            "solidity": 0.2
                          }
                        },
                        "type": "histogram"
                      }
                    ],
                    "scattergl": [
                      {
                        "type": "scattergl",
                        "marker": {
                          "colorbar": {
                            "outlinewidth": 0,
                            "ticks": ""
                          }
                        }
                      }
                    ],
                    "scatter3d": [
                      {
                        "type": "scatter3d",
                        "line": {
                          "colorbar": {
                            "outlinewidth": 0,
                            "ticks": ""
                          }
                        },
                        "marker": {
                          "colorbar": {
                            "outlinewidth": 0,
                            "ticks": ""
                          }
                        }
                      }
                    ],
                    "scattermapbox": [
                      {
                        "type": "scattermapbox",
                        "marker": {
                          "colorbar": {
                            "outlinewidth": 0,
                            "ticks": ""
                          }
                        }
                      }
                    ],
                    "scatterternary": [
                      {
                        "type": "scatterternary",
                        "marker": {
                          "colorbar": {
                            "outlinewidth": 0,
                            "ticks": ""
                          }
                        }
                      }
                    ],
                    "scattercarpet": [
                      {
                        "type": "scattercarpet",
                        "marker": {
                          "colorbar": {
                            "outlinewidth": 0,
                            "ticks": ""
                          }
                        }
                      }
                    ],
                    "carpet": [
                      {
                        "aaxis": {
                          "endlinecolor": "#2a3f5f",
                          "gridcolor": "white",
                          "linecolor": "white",
                          "minorgridcolor": "white",
                          "startlinecolor": "#2a3f5f"
                        },
                        "baxis": {
                          "endlinecolor": "#2a3f5f",
                          "gridcolor": "white",
                          "linecolor": "white",
                          "minorgridcolor": "white",
                          "startlinecolor": "#2a3f5f"
                        },
                        "type": "carpet"
                      }
                    ],
                    "table": [
                      {
                        "cells": {
                          "fill": {
                            "color": "#EBF0F8"
                          },
                          "line": {
                            "color": "white"
                          }
                        },
                        "header": {
                          "fill": {
                            "color": "#C8D4E3"
                          },
                          "line": {
                            "color": "white"
                          }
                        },
                        "type": "table"
                      }
                    ],
                    "barpolar": [
                      {
                        "marker": {
                          "line": {
                            "color": "#E5ECF6",
                            "width": 0.5
                          },
                          "pattern": {
                            "fillmode": "overlay",
                            "size": 10,
                            "solidity": 0.2
                          }
                        },
                        "type": "barpolar"
                      }
                    ],
                    "pie": [
                      {
                        "automargin": true,
                        "type": "pie"
                      }
                    ]
                  },
                  "layout": {
                    "autotypenumbers": "strict",
                    "colorway": [
                      "#636efa",
                      "#EF553B",
                      "#00cc96",
                      "#ab63fa",
                      "#FFA15A",
                      "#19d3f3",
                      "#FF6692",
                      "#B6E880",
                      "#FF97FF",
                      "#FECB52"
                    ],
                    "font": {
                      "color": "#2a3f5f"
                    },
                    "hovermode": "closest",
                    "hoverlabel": {
                      "align": "left"
                    },
                    "paper_bgcolor": "white",
                    "plot_bgcolor": "#E5ECF6",
                    "polar": {
                      "bgcolor": "#E5ECF6",
                      "angularaxis": {
                        "gridcolor": "white",
                        "linecolor": "white",
                        "ticks": ""
                      },
                      "radialaxis": {
                        "gridcolor": "white",
                        "linecolor": "white",
                        "ticks": ""
                      }
                    },
                    "ternary": {
                      "bgcolor": "#E5ECF6",
                      "aaxis": {
                        "gridcolor": "white",
                        "linecolor": "white",
                        "ticks": ""
                      },
                      "baxis": {
                        "gridcolor": "white",
                        "linecolor": "white",
                        "ticks": ""
                      },
                      "caxis": {
                        "gridcolor": "white",
                        "linecolor": "white",
                        "ticks": ""
                      }
                    },
                    "coloraxis": {
                      "colorbar": {
                        "outlinewidth": 0,
                        "ticks": ""
                      }
                    },
                    "colorscale": {
                      "sequential": [
                        [
                          0,
                          "#0d0887"
                        ],
                        [
                          0.1111111111111111,
                          "#46039f"
                        ],
                        [
                          0.2222222222222222,
                          "#7201a8"
                        ],
                        [
                          0.3333333333333333,
                          "#9c179e"
                        ],
                        [
                          0.4444444444444444,
                          "#bd3786"
                        ],
                        [
                          0.5555555555555556,
                          "#d8576b"
                        ],
                        [
                          0.6666666666666666,
                          "#ed7953"
                        ],
                        [
                          0.7777777777777778,
                          "#fb9f3a"
                        ],
                        [
                          0.8888888888888888,
                          "#fdca26"
                        ],
                        [
                          1,
                          "#f0f921"
                        ]
                      ],
                      "sequentialminus": [
                        [
                          0,
                          "#0d0887"
                        ],
                        [
                          0.1111111111111111,
                          "#46039f"
                        ],
                        [
                          0.2222222222222222,
                          "#7201a8"
                        ],
                        [
                          0.3333333333333333,
                          "#9c179e"
                        ],
                        [
                          0.4444444444444444,
                          "#bd3786"
                        ],
                        [
                          0.5555555555555556,
                          "#d8576b"
                        ],
                        [
                          0.6666666666666666,
                          "#ed7953"
                        ],
                        [
                          0.7777777777777778,
                          "#fb9f3a"
                        ],
                        [
                          0.8888888888888888,
                          "#fdca26"
                        ],
                        [
                          1,
                          "#f0f921"
                        ]
                      ],
                      "diverging": [
                        [
                          0,
                          "#8e0152"
                        ],
                        [
                          0.1,
                          "#c51b7d"
                        ],
                        [
                          0.2,
                          "#de77ae"
                        ],
                        [
                          0.3,
                          "#f1b6da"
                        ],
                        [
                          0.4,
                          "#fde0ef"
                        ],
                        [
                          0.5,
                          "#f7f7f7"
                        ],
                        [
                          0.6,
                          "#e6f5d0"
                        ],
                        [
                          0.7,
                          "#b8e186"
                        ],
                        [
                          0.8,
                          "#7fbc41"
                        ],
                        [
                          0.9,
                          "#4d9221"
                        ],
                        [
                          1,
                          "#276419"
                        ]
                      ]
                    },
                    "xaxis": {
                      "gridcolor": "white",
                      "linecolor": "white",
                      "ticks": "",
                      "title": {
                        "standoff": 15
                      },
                      "zerolinecolor": "white",
                      "automargin": true,
                      "zerolinewidth": 2
                    },
                    "yaxis": {
                      "gridcolor": "white",
                      "linecolor": "white",
                      "ticks": "",
                      "title": {
                        "standoff": 15
                      },
                      "zerolinecolor": "white",
                      "automargin": true,
                      "zerolinewidth": 2
                    },
                    "scene": {
                      "xaxis": {
                        "backgroundcolor": "#E5ECF6",
                        "gridcolor": "white",
                        "linecolor": "white",
                        "showbackground": true,
                        "ticks": "",
                        "zerolinecolor": "white",
                        "gridwidth": 2
                      },
                      "yaxis": {
                        "backgroundcolor": "#E5ECF6",
                        "gridcolor": "white",
                        "linecolor": "white",
                        "showbackground": true,
                        "ticks": "",
                        "zerolinecolor": "white",
                        "gridwidth": 2
                      },
                      "zaxis": {
                        "backgroundcolor": "#E5ECF6",
                        "gridcolor": "white",
                        "linecolor": "white",
                        "showbackground": true,
                        "ticks": "",
                        "zerolinecolor": "white",
                        "gridwidth": 2
                      }
                    },
                    "shapedefaults": {
                      "line": {
                        "color": "#2a3f5f"
                      }
                    },
                    "annotationdefaults": {
                      "arrowcolor": "#2a3f5f",
                      "arrowhead": 0,
                      "arrowwidth": 1
                    },
                    "geo": {
                      "bgcolor": "white",
                      "landcolor": "#E5ECF6",
                      "subunitcolor": "white",
                      "showland": true,
                      "showlakes": true,
                      "lakecolor": "white"
                    },
                    "title": {
                      "x": 0.05
                    },
                    "mapbox": {
                      "style": "light"
                    }
                  }
                },
                "xaxis": {
                  "anchor": "y",
                  "domain": [
                    0,
                    1
                  ],
                  "title": {
                    "text": "Tau",
                    "font": {
                      "size": 25
                    }
                  }
                },
                "yaxis": {
                  "anchor": "x",
                  "domain": [
                    0,
                    1
                  ],
                  "title": {
                    "text": "Ranker index",
                    "font": {
                      "size": 25
                    }
                  }
                },
                "legend": {
                  "tracegroupgap": 0
                },
                "margin": {
                  "t": 60
                },
                "shapes": [
                  {
                    "type": "line",
                    "x0": 0.2,
                    "x1": 0.2,
                    "xref": "x",
                    "y0": 0,
                    "y1": 1,
                    "yref": "y domain"
                  }
                ],
                "title": {
                  "font": {
                    "size": 25
                  },
                  "text": "Average agreement Tau per ranker"
                }
              },
              "config": {
                "plotlyServerURL": "https://plot.ly"
              }
            },
            "text/html": "<div>                            <div id=\"b6d7c587-b8c4-45d8-b793-1682dbe57543\" class=\"plotly-graph-div\" style=\"height:525px; width:100%;\"></div>            <script type=\"text/javascript\">                require([\"plotly\"], function(Plotly) {                    window.PLOTLYENV=window.PLOTLYENV || {};                                    if (document.getElementById(\"b6d7c587-b8c4-45d8-b793-1682dbe57543\")) {                    Plotly.newPlot(                        \"b6d7c587-b8c4-45d8-b793-1682dbe57543\",                        [{\"hovertemplate\":\"x=%{x}<br>index=%{y}<extra></extra>\",\"legendgroup\":\"\",\"marker\":{\"color\":\"#636efa\",\"symbol\":\"circle\",\"line\":{\"color\":\"DarkSlateGrey\",\"width\":2},\"size\":14},\"mode\":\"markers\",\"name\":\"\",\"orientation\":\"h\",\"showlegend\":false,\"x\":[0.6427777777777782,0.6738888888888893,0.042777777777777776,0.4761111111111115,0.6161111111111115,0.5694444444444451,-0.05388888888888889,0.3949999999999997,0.6694444444444448,0.6216666666666673,0.5783333333333339,0.5772222222222229,0.6627777777777781,0.45277777777777783,0.6472222222222227,0.5272222222222226,0.6572222222222226,0.5516666666666672,0.571666666666667,0.5794444444444451,0.4983333333333337,0.3983333333333333,0.41166666666666646,0.5472222222222227,0.5783333333333338,0.0016666666666666653,0.550555555555556,0.6416666666666672,0.6061111111111115,0.46388888888888913,0.3027777777777775,0.41277777777777763,0.6694444444444448,0.34277777777777757,0.6261111111111116,0.5672222222222225,0.571666666666667,0.6505555555555559,0.6061111111111115,0.569444444444445,0.5905555555555562,0.3038888888888887,0.48722222222222256,0.5983333333333338,0.6572222222222226,0.6738888888888893,-0.07277777777777776,0.560555555555556,0.5972222222222227,0.6350000000000005,0.6494444444444449,0.5827777777777783,0.5816666666666673,0.5050000000000003,0.6172222222222227,0.5061111111111114,0.10277777777777777,0.4616666666666669,0.5594444444444449,0.5116666666666674,0.6172222222222226,0.6194444444444449,0.5738888888888891,0.6005555555555561,0.4805555555555559,0.571666666666667,0.600555555555556,0.620555555555556,0.6427777777777783,0.023888888888888887,0.6516666666666671,0.5694444444444449,0.4438888888888889,0.6450000000000004,-0.09611111111111105,0.5372222222222227,0.4772222222222223,0.5850000000000006,0.5172222222222227,0.6172222222222227],\"xaxis\":\"x\",\"y\":[0,1,2,3,4,5,6,7,8,9,10,11,12,13,14,15,16,17,18,19,20,21,22,23,24,25,26,27,28,29,30,31,32,33,34,35,36,37,38,39,40,41,42,43,44,45,46,47,48,49,50,51,52,53,54,55,56,57,58,59,60,61,62,63,64,65,66,67,68,69,70,71,72,73,74,75,76,77,78,79],\"yaxis\":\"y\",\"type\":\"scatter\"}],                        {\"template\":{\"data\":{\"histogram2dcontour\":[{\"type\":\"histogram2dcontour\",\"colorbar\":{\"outlinewidth\":0,\"ticks\":\"\"},\"colorscale\":[[0.0,\"#0d0887\"],[0.1111111111111111,\"#46039f\"],[0.2222222222222222,\"#7201a8\"],[0.3333333333333333,\"#9c179e\"],[0.4444444444444444,\"#bd3786\"],[0.5555555555555556,\"#d8576b\"],[0.6666666666666666,\"#ed7953\"],[0.7777777777777778,\"#fb9f3a\"],[0.8888888888888888,\"#fdca26\"],[1.0,\"#f0f921\"]]}],\"choropleth\":[{\"type\":\"choropleth\",\"colorbar\":{\"outlinewidth\":0,\"ticks\":\"\"}}],\"histogram2d\":[{\"type\":\"histogram2d\",\"colorbar\":{\"outlinewidth\":0,\"ticks\":\"\"},\"colorscale\":[[0.0,\"#0d0887\"],[0.1111111111111111,\"#46039f\"],[0.2222222222222222,\"#7201a8\"],[0.3333333333333333,\"#9c179e\"],[0.4444444444444444,\"#bd3786\"],[0.5555555555555556,\"#d8576b\"],[0.6666666666666666,\"#ed7953\"],[0.7777777777777778,\"#fb9f3a\"],[0.8888888888888888,\"#fdca26\"],[1.0,\"#f0f921\"]]}],\"heatmap\":[{\"type\":\"heatmap\",\"colorbar\":{\"outlinewidth\":0,\"ticks\":\"\"},\"colorscale\":[[0.0,\"#0d0887\"],[0.1111111111111111,\"#46039f\"],[0.2222222222222222,\"#7201a8\"],[0.3333333333333333,\"#9c179e\"],[0.4444444444444444,\"#bd3786\"],[0.5555555555555556,\"#d8576b\"],[0.6666666666666666,\"#ed7953\"],[0.7777777777777778,\"#fb9f3a\"],[0.8888888888888888,\"#fdca26\"],[1.0,\"#f0f921\"]]}],\"heatmapgl\":[{\"type\":\"heatmapgl\",\"colorbar\":{\"outlinewidth\":0,\"ticks\":\"\"},\"colorscale\":[[0.0,\"#0d0887\"],[0.1111111111111111,\"#46039f\"],[0.2222222222222222,\"#7201a8\"],[0.3333333333333333,\"#9c179e\"],[0.4444444444444444,\"#bd3786\"],[0.5555555555555556,\"#d8576b\"],[0.6666666666666666,\"#ed7953\"],[0.7777777777777778,\"#fb9f3a\"],[0.8888888888888888,\"#fdca26\"],[1.0,\"#f0f921\"]]}],\"contourcarpet\":[{\"type\":\"contourcarpet\",\"colorbar\":{\"outlinewidth\":0,\"ticks\":\"\"}}],\"contour\":[{\"type\":\"contour\",\"colorbar\":{\"outlinewidth\":0,\"ticks\":\"\"},\"colorscale\":[[0.0,\"#0d0887\"],[0.1111111111111111,\"#46039f\"],[0.2222222222222222,\"#7201a8\"],[0.3333333333333333,\"#9c179e\"],[0.4444444444444444,\"#bd3786\"],[0.5555555555555556,\"#d8576b\"],[0.6666666666666666,\"#ed7953\"],[0.7777777777777778,\"#fb9f3a\"],[0.8888888888888888,\"#fdca26\"],[1.0,\"#f0f921\"]]}],\"surface\":[{\"type\":\"surface\",\"colorbar\":{\"outlinewidth\":0,\"ticks\":\"\"},\"colorscale\":[[0.0,\"#0d0887\"],[0.1111111111111111,\"#46039f\"],[0.2222222222222222,\"#7201a8\"],[0.3333333333333333,\"#9c179e\"],[0.4444444444444444,\"#bd3786\"],[0.5555555555555556,\"#d8576b\"],[0.6666666666666666,\"#ed7953\"],[0.7777777777777778,\"#fb9f3a\"],[0.8888888888888888,\"#fdca26\"],[1.0,\"#f0f921\"]]}],\"mesh3d\":[{\"type\":\"mesh3d\",\"colorbar\":{\"outlinewidth\":0,\"ticks\":\"\"}}],\"scatter\":[{\"fillpattern\":{\"fillmode\":\"overlay\",\"size\":10,\"solidity\":0.2},\"type\":\"scatter\"}],\"parcoords\":[{\"type\":\"parcoords\",\"line\":{\"colorbar\":{\"outlinewidth\":0,\"ticks\":\"\"}}}],\"scatterpolargl\":[{\"type\":\"scatterpolargl\",\"marker\":{\"colorbar\":{\"outlinewidth\":0,\"ticks\":\"\"}}}],\"bar\":[{\"error_x\":{\"color\":\"#2a3f5f\"},\"error_y\":{\"color\":\"#2a3f5f\"},\"marker\":{\"line\":{\"color\":\"#E5ECF6\",\"width\":0.5},\"pattern\":{\"fillmode\":\"overlay\",\"size\":10,\"solidity\":0.2}},\"type\":\"bar\"}],\"scattergeo\":[{\"type\":\"scattergeo\",\"marker\":{\"colorbar\":{\"outlinewidth\":0,\"ticks\":\"\"}}}],\"scatterpolar\":[{\"type\":\"scatterpolar\",\"marker\":{\"colorbar\":{\"outlinewidth\":0,\"ticks\":\"\"}}}],\"histogram\":[{\"marker\":{\"pattern\":{\"fillmode\":\"overlay\",\"size\":10,\"solidity\":0.2}},\"type\":\"histogram\"}],\"scattergl\":[{\"type\":\"scattergl\",\"marker\":{\"colorbar\":{\"outlinewidth\":0,\"ticks\":\"\"}}}],\"scatter3d\":[{\"type\":\"scatter3d\",\"line\":{\"colorbar\":{\"outlinewidth\":0,\"ticks\":\"\"}},\"marker\":{\"colorbar\":{\"outlinewidth\":0,\"ticks\":\"\"}}}],\"scattermapbox\":[{\"type\":\"scattermapbox\",\"marker\":{\"colorbar\":{\"outlinewidth\":0,\"ticks\":\"\"}}}],\"scatterternary\":[{\"type\":\"scatterternary\",\"marker\":{\"colorbar\":{\"outlinewidth\":0,\"ticks\":\"\"}}}],\"scattercarpet\":[{\"type\":\"scattercarpet\",\"marker\":{\"colorbar\":{\"outlinewidth\":0,\"ticks\":\"\"}}}],\"carpet\":[{\"aaxis\":{\"endlinecolor\":\"#2a3f5f\",\"gridcolor\":\"white\",\"linecolor\":\"white\",\"minorgridcolor\":\"white\",\"startlinecolor\":\"#2a3f5f\"},\"baxis\":{\"endlinecolor\":\"#2a3f5f\",\"gridcolor\":\"white\",\"linecolor\":\"white\",\"minorgridcolor\":\"white\",\"startlinecolor\":\"#2a3f5f\"},\"type\":\"carpet\"}],\"table\":[{\"cells\":{\"fill\":{\"color\":\"#EBF0F8\"},\"line\":{\"color\":\"white\"}},\"header\":{\"fill\":{\"color\":\"#C8D4E3\"},\"line\":{\"color\":\"white\"}},\"type\":\"table\"}],\"barpolar\":[{\"marker\":{\"line\":{\"color\":\"#E5ECF6\",\"width\":0.5},\"pattern\":{\"fillmode\":\"overlay\",\"size\":10,\"solidity\":0.2}},\"type\":\"barpolar\"}],\"pie\":[{\"automargin\":true,\"type\":\"pie\"}]},\"layout\":{\"autotypenumbers\":\"strict\",\"colorway\":[\"#636efa\",\"#EF553B\",\"#00cc96\",\"#ab63fa\",\"#FFA15A\",\"#19d3f3\",\"#FF6692\",\"#B6E880\",\"#FF97FF\",\"#FECB52\"],\"font\":{\"color\":\"#2a3f5f\"},\"hovermode\":\"closest\",\"hoverlabel\":{\"align\":\"left\"},\"paper_bgcolor\":\"white\",\"plot_bgcolor\":\"#E5ECF6\",\"polar\":{\"bgcolor\":\"#E5ECF6\",\"angularaxis\":{\"gridcolor\":\"white\",\"linecolor\":\"white\",\"ticks\":\"\"},\"radialaxis\":{\"gridcolor\":\"white\",\"linecolor\":\"white\",\"ticks\":\"\"}},\"ternary\":{\"bgcolor\":\"#E5ECF6\",\"aaxis\":{\"gridcolor\":\"white\",\"linecolor\":\"white\",\"ticks\":\"\"},\"baxis\":{\"gridcolor\":\"white\",\"linecolor\":\"white\",\"ticks\":\"\"},\"caxis\":{\"gridcolor\":\"white\",\"linecolor\":\"white\",\"ticks\":\"\"}},\"coloraxis\":{\"colorbar\":{\"outlinewidth\":0,\"ticks\":\"\"}},\"colorscale\":{\"sequential\":[[0.0,\"#0d0887\"],[0.1111111111111111,\"#46039f\"],[0.2222222222222222,\"#7201a8\"],[0.3333333333333333,\"#9c179e\"],[0.4444444444444444,\"#bd3786\"],[0.5555555555555556,\"#d8576b\"],[0.6666666666666666,\"#ed7953\"],[0.7777777777777778,\"#fb9f3a\"],[0.8888888888888888,\"#fdca26\"],[1.0,\"#f0f921\"]],\"sequentialminus\":[[0.0,\"#0d0887\"],[0.1111111111111111,\"#46039f\"],[0.2222222222222222,\"#7201a8\"],[0.3333333333333333,\"#9c179e\"],[0.4444444444444444,\"#bd3786\"],[0.5555555555555556,\"#d8576b\"],[0.6666666666666666,\"#ed7953\"],[0.7777777777777778,\"#fb9f3a\"],[0.8888888888888888,\"#fdca26\"],[1.0,\"#f0f921\"]],\"diverging\":[[0,\"#8e0152\"],[0.1,\"#c51b7d\"],[0.2,\"#de77ae\"],[0.3,\"#f1b6da\"],[0.4,\"#fde0ef\"],[0.5,\"#f7f7f7\"],[0.6,\"#e6f5d0\"],[0.7,\"#b8e186\"],[0.8,\"#7fbc41\"],[0.9,\"#4d9221\"],[1,\"#276419\"]]},\"xaxis\":{\"gridcolor\":\"white\",\"linecolor\":\"white\",\"ticks\":\"\",\"title\":{\"standoff\":15},\"zerolinecolor\":\"white\",\"automargin\":true,\"zerolinewidth\":2},\"yaxis\":{\"gridcolor\":\"white\",\"linecolor\":\"white\",\"ticks\":\"\",\"title\":{\"standoff\":15},\"zerolinecolor\":\"white\",\"automargin\":true,\"zerolinewidth\":2},\"scene\":{\"xaxis\":{\"backgroundcolor\":\"#E5ECF6\",\"gridcolor\":\"white\",\"linecolor\":\"white\",\"showbackground\":true,\"ticks\":\"\",\"zerolinecolor\":\"white\",\"gridwidth\":2},\"yaxis\":{\"backgroundcolor\":\"#E5ECF6\",\"gridcolor\":\"white\",\"linecolor\":\"white\",\"showbackground\":true,\"ticks\":\"\",\"zerolinecolor\":\"white\",\"gridwidth\":2},\"zaxis\":{\"backgroundcolor\":\"#E5ECF6\",\"gridcolor\":\"white\",\"linecolor\":\"white\",\"showbackground\":true,\"ticks\":\"\",\"zerolinecolor\":\"white\",\"gridwidth\":2}},\"shapedefaults\":{\"line\":{\"color\":\"#2a3f5f\"}},\"annotationdefaults\":{\"arrowcolor\":\"#2a3f5f\",\"arrowhead\":0,\"arrowwidth\":1},\"geo\":{\"bgcolor\":\"white\",\"landcolor\":\"#E5ECF6\",\"subunitcolor\":\"white\",\"showland\":true,\"showlakes\":true,\"lakecolor\":\"white\"},\"title\":{\"x\":0.05},\"mapbox\":{\"style\":\"light\"}}},\"xaxis\":{\"anchor\":\"y\",\"domain\":[0.0,1.0],\"title\":{\"text\":\"Tau\",\"font\":{\"size\":25}}},\"yaxis\":{\"anchor\":\"x\",\"domain\":[0.0,1.0],\"title\":{\"text\":\"Ranker index\",\"font\":{\"size\":25}}},\"legend\":{\"tracegroupgap\":0},\"margin\":{\"t\":60},\"shapes\":[{\"type\":\"line\",\"x0\":0.2,\"x1\":0.2,\"xref\":\"x\",\"y0\":0,\"y1\":1,\"yref\":\"y domain\"}],\"title\":{\"font\":{\"size\":25},\"text\":\"Average agreement Tau per ranker\"}},                        {\"responsive\": true}                    ).then(function(){\n                            \nvar gd = document.getElementById('b6d7c587-b8c4-45d8-b793-1682dbe57543');\nvar x = new MutationObserver(function (mutations, observer) {{\n        var display = window.getComputedStyle(gd).display;\n        if (!display || display === 'none') {{\n            console.log([gd, 'removed!']);\n            Plotly.purge(gd);\n            observer.disconnect();\n        }}\n}});\n\n// Listen for the removal of the full notebook cells\nvar notebookContainer = gd.closest('#notebook-container');\nif (notebookContainer) {{\n    x.observe(notebookContainer, {childList: true});\n}}\n\n// Listen for the clearing of the current output cell\nvar outputEl = gd.closest('.output');\nif (outputEl) {{\n    x.observe(outputEl, {childList: true});\n}}\n\n                        })                };                });            </script>        </div>"
          },
          "metadata": {}
        }
      ],
      "execution_count": 45,
      "metadata": {
        "gather": {
          "logged": 1692971146006
        }
      }
    },
    {
      "cell_type": "code",
      "source": [
        "# ex74 = set0.iloc[74,:]\n",
        "# ex45= set0.iloc[6,:]\n",
        "\n",
        "# print(ex74)\n",
        "# print(ex45)\n",
        "len(ranking_sets)\n",
        "ranking_sets = ranking_sets[:-1]"
      ],
      "outputs": [],
      "execution_count": 145,
      "metadata": {}
    },
    {
      "cell_type": "code",
      "source": [
        "mean[mean<threshold]"
      ],
      "outputs": [
        {
          "output_type": "execute_result",
          "execution_count": 115,
          "data": {
            "text/plain": "2     0.042778\n6    -0.053889\n25    0.001667\n46   -0.072778\n56    0.102778\n69    0.023889\n74   -0.096111\ndtype: float64"
          },
          "metadata": {}
        }
      ],
      "execution_count": 115,
      "metadata": {}
    },
    {
      "cell_type": "code",
      "source": [
        "def get_outliers(ranking_sets):\n",
        "    outliers_dict = {}\n",
        "    lst =[]\n",
        "    for i,set in enumerate(ranking_sets):\n",
        "        set = set.drop(labels=0, axis=0)\n",
        "        set = set.drop(labels=1, axis=0) \n",
        "        set = set.astype(int)\n",
        "\n",
        "        df_tau = pairwise_kendall_tau(set)\n",
        "        mean = df_tau.mean(axis=0)\n",
        "        mean_mean = mean.mean()\n",
        "        std_mean = mean.std()\n",
        "\n",
        "        threshold = mean_mean - std_mean*2\n",
        "        filtered = mean[mean<threshold]\n",
        "        filtered  = filtered[filtered<0.2]\n",
        "        if len(filtered)>0:\n",
        "            outliers_dict[i] = filtered.index.values\n",
        "        #lst.append(mean[mean<threshold])\n",
        "\n",
        "    return outliers_dict"
      ],
      "outputs": [],
      "execution_count": 14,
      "metadata": {}
    },
    {
      "cell_type": "code",
      "source": [
        "lst = get_outliers(ranking_sets=ranking_sets)\n",
        "lst\n"
      ],
      "outputs": [
        {
          "output_type": "execute_result",
          "execution_count": 24,
          "data": {
            "text/plain": "{0: array([ 2,  6, 25, 46, 56, 69, 74]),\n 5: array([10]),\n 6: array([9]),\n 7: array([ 6, 11]),\n 8: array([ 6, 11]),\n 10: array([12, 17]),\n 11: array([0]),\n 13: array([ 2, 32])}"
          },
          "metadata": {}
        }
      ],
      "execution_count": 24,
      "metadata": {}
    },
    {
      "cell_type": "code",
      "source": [
        "# ranking_sets[0].index[69]\n",
        "print(ranking_sets[11].iloc[0])\n",
        "# print(ranking_sets[].iloc[74])\n",
        "# rank_drop = ranking_sets[0].drop(ranking_sets[0].index[[69,74]],axis=0)\n",
        "\n",
        "# print(rank_drop.iloc[69])\n",
        "# print(rank_drop.iloc[74])\n",
        "# print(ranking_sets[0].index[69])"
      ],
      "outputs": [
        {
          "output_type": "stream",
          "name": "stdout",
          "text": "Q6_1.3     Drag the explanations in order such that the f...\nQ6_2.3     Drag the explanations in order such that the f...\nQ6_3.3     Drag the explanations in order such that the f...\nQ6_4.3     Drag the explanations in order such that the f...\nQ6_5.3     Drag the explanations in order such that the f...\nQ6_6.3     Drag the explanations in order such that the f...\nQ6_7.3     Drag the explanations in order such that the f...\nQ6_8.3     Drag the explanations in order such that the f...\nQ6_9.3     Drag the explanations in order such that the f...\nQ6_10.3    Drag the explanations in order such that the f...\nName: 0, dtype: object\n"
        }
      ],
      "execution_count": 40,
      "metadata": {}
    },
    {
      "cell_type": "code",
      "source": [
        "import csv\n",
        "import pickle\n",
        "with open('outliers.pkl', 'wb') as fp:\n",
        "    pickle.dump(lst, fp)\n",
        "    print('dictionary saved successfully to file')\n",
        "\n",
        "# # open file for writing, \"w\" is writing\n",
        "# w = csv.writer(open(\"outliers.csv\", \"w\"))\n",
        "\n",
        "# # loop over dictionary keys and values\n",
        "# for key, val in lst.items():\n",
        "\n",
        "#     # write every key and value to file\n",
        "#     w.writerow([key, val])\n",
        "\n",
        "with open('outliers.pkl', 'rb') as fp:\n",
        "    outliers = pickle.load(fp)\n",
        "    print('outliers dictionary')\n",
        "    print(outliers)\n",
        "\n",
        "i = 13\n",
        "\n",
        "x = outliers.get(i)\n",
        "result = {key: values for key, values in outliers.items() if i in outliers}\n",
        "z = result.get(i)\n",
        "x"
      ],
      "outputs": [
        {
          "output_type": "stream",
          "name": "stdout",
          "text": "dictionary saved successfully to file\noutliers dictionary\n{0: array([ 2,  6, 25, 46, 56, 69, 74]), 5: array([10]), 6: array([9]), 7: array([ 6, 11]), 8: array([ 6, 11]), 10: array([12, 17]), 11: array([0]), 13: array([ 2, 32])}\n"
        },
        {
          "output_type": "execute_result",
          "execution_count": 31,
          "data": {
            "text/plain": "array([ 2, 32])"
          },
          "metadata": {}
        }
      ],
      "execution_count": 31,
      "metadata": {}
    },
    {
      "cell_type": "code",
      "source": [
        "outlier_lst = outliers.get(11)\n",
        "print(outlier_lst)"
      ],
      "outputs": [
        {
          "output_type": "stream",
          "name": "stdout",
          "text": "[0]\n"
        }
      ],
      "execution_count": 36,
      "metadata": {}
    },
    {
      "cell_type": "code",
      "source": [
        "for i, set in enumerate(ranking_sets):\n",
        "        #print(i)\n",
        "        # if i>0:\n",
        "        #     break\n",
        "        # insert outlier removal function here\n",
        "        if i ==11:\n",
        "            print(set.index)\n",
        "        outlier_lst = outliers.get(i)\n",
        "        # print(outlier_lst)\n",
        "        if outlier_lst is not None:\n",
        "            set = set.drop(set.index[[outlier_lst]], axis=0)\n",
        "        # set = set.drop(labels=74, axis=0)\n",
        "        if i ==11:\n",
        "            print(set.index)"
      ],
      "outputs": [
        {
          "output_type": "stream",
          "name": "stdout",
          "text": "Int64Index([ 0,  1,  3,  4,  5,  6,  8, 12, 15, 18, 20, 27, 30, 34, 36, 43, 44,\n            46, 49, 57, 62, 68, 71, 76],\n           dtype='int64')\nInt64Index([ 1,  3,  4,  5,  6,  8, 12, 15, 18, 20, 27, 30, 34, 36, 43, 44, 46,\n            49, 57, 62, 68, 71, 76],\n           dtype='int64')\n"
        }
      ],
      "execution_count": 39,
      "metadata": {}
    },
    {
      "cell_type": "code",
      "source": [
        "mean < threshold"
      ],
      "outputs": [
        {
          "output_type": "execute_result",
          "execution_count": 64,
          "data": {
            "text/plain": "0     False\n1     False\n2      True\n3     False\n4     False\n      ...  \n75    False\n76    False\n77    False\n78    False\n79    False\nLength: 80, dtype: bool"
          },
          "metadata": {}
        }
      ],
      "execution_count": 64,
      "metadata": {}
    },
    {
      "cell_type": "code",
      "source": [],
      "outputs": [],
      "execution_count": null,
      "metadata": {}
    },
    {
      "cell_type": "markdown",
      "source": [
        "## Consistency"
      ],
      "metadata": {}
    },
    {
      "cell_type": "code",
      "source": [
        "rankings.head()"
      ],
      "outputs": [
        {
          "output_type": "execute_result",
          "execution_count": 76,
          "data": {
            "text/html": "<div>\n<style scoped>\n    .dataframe tbody tr th:only-of-type {\n        vertical-align: middle;\n    }\n\n    .dataframe tbody tr th {\n        vertical-align: top;\n    }\n\n    .dataframe thead th {\n        text-align: right;\n    }\n</style>\n<table border=\"1\" class=\"dataframe\">\n  <thead>\n    <tr style=\"text-align: right;\">\n      <th></th>\n      <th>Q4_1</th>\n      <th>Q4_2</th>\n      <th>Q4_3</th>\n      <th>Q4_4</th>\n      <th>Q4_5</th>\n      <th>Q4_6</th>\n      <th>Q4_7</th>\n      <th>Q4_8</th>\n      <th>Q4_9</th>\n      <th>Q4_10</th>\n      <th>...</th>\n      <th>Q8_1</th>\n      <th>Q8_2</th>\n      <th>Q8_3</th>\n      <th>Q8_4</th>\n      <th>Q8_5</th>\n      <th>Q8_6</th>\n      <th>Q8_7</th>\n      <th>Q8_8</th>\n      <th>Q8_9</th>\n      <th>Q8_10</th>\n    </tr>\n  </thead>\n  <tbody>\n    <tr>\n      <th>0</th>\n      <td>Drag the explanations in order such that the f...</td>\n      <td>Drag the explanations in order such that the f...</td>\n      <td>Drag the explanations in order such that the f...</td>\n      <td>Drag the explanations in order such that the f...</td>\n      <td>Drag the explanations in order such that the f...</td>\n      <td>Drag the explanations in order such that the f...</td>\n      <td>Drag the explanations in order such that the f...</td>\n      <td>Drag the explanations in order such that the f...</td>\n      <td>Drag the explanations in order such that the f...</td>\n      <td>Drag the explanations in order such that the f...</td>\n      <td>...</td>\n      <td>Drag the explanations in order such that the f...</td>\n      <td>Drag the explanations in order such that the f...</td>\n      <td>Drag the explanations in order such that the f...</td>\n      <td>Drag the explanations in order such that the f...</td>\n      <td>Drag the explanations in order such that the f...</td>\n      <td>Drag the explanations in order such that the f...</td>\n      <td>Drag the explanations in order such that the f...</td>\n      <td>Drag the explanations in order such that the f...</td>\n      <td>Drag the explanations in order such that the f...</td>\n      <td>Drag the explanations in order such that the f...</td>\n    </tr>\n    <tr>\n      <th>1</th>\n      <td>{\"ImportId\":\"QID30_1\"}</td>\n      <td>{\"ImportId\":\"QID30_2\"}</td>\n      <td>{\"ImportId\":\"QID30_3\"}</td>\n      <td>{\"ImportId\":\"QID30_4\"}</td>\n      <td>{\"ImportId\":\"QID30_5\"}</td>\n      <td>{\"ImportId\":\"QID30_6\"}</td>\n      <td>{\"ImportId\":\"QID30_7\"}</td>\n      <td>{\"ImportId\":\"QID30_8\"}</td>\n      <td>{\"ImportId\":\"QID30_9\"}</td>\n      <td>{\"ImportId\":\"QID30_10\"}</td>\n      <td>...</td>\n      <td>{\"ImportId\":\"QID31_1\"}</td>\n      <td>{\"ImportId\":\"QID31_2\"}</td>\n      <td>{\"ImportId\":\"QID31_3\"}</td>\n      <td>{\"ImportId\":\"QID31_4\"}</td>\n      <td>{\"ImportId\":\"QID31_5\"}</td>\n      <td>{\"ImportId\":\"QID31_6\"}</td>\n      <td>{\"ImportId\":\"QID31_7\"}</td>\n      <td>{\"ImportId\":\"QID31_8\"}</td>\n      <td>{\"ImportId\":\"QID31_9\"}</td>\n      <td>{\"ImportId\":\"QID31_10\"}</td>\n    </tr>\n    <tr>\n      <th>2</th>\n      <td>2</td>\n      <td>3</td>\n      <td>4</td>\n      <td>8</td>\n      <td>1</td>\n      <td>10</td>\n      <td>9</td>\n      <td>7</td>\n      <td>6</td>\n      <td>5</td>\n      <td>...</td>\n      <td>2</td>\n      <td>3</td>\n      <td>4</td>\n      <td>6</td>\n      <td>1</td>\n      <td>9</td>\n      <td>10</td>\n      <td>8</td>\n      <td>7</td>\n      <td>5</td>\n    </tr>\n    <tr>\n      <th>3</th>\n      <td>2</td>\n      <td>3</td>\n      <td>4</td>\n      <td>6</td>\n      <td>1</td>\n      <td>9</td>\n      <td>10</td>\n      <td>8</td>\n      <td>7</td>\n      <td>5</td>\n      <td>...</td>\n      <td>1</td>\n      <td>4</td>\n      <td>7</td>\n      <td>5</td>\n      <td>2</td>\n      <td>9</td>\n      <td>10</td>\n      <td>6</td>\n      <td>8</td>\n      <td>3</td>\n    </tr>\n    <tr>\n      <th>4</th>\n      <td>7</td>\n      <td>6</td>\n      <td>4</td>\n      <td>2</td>\n      <td>5</td>\n      <td>9</td>\n      <td>10</td>\n      <td>1</td>\n      <td>3</td>\n      <td>8</td>\n      <td>...</td>\n      <td>7</td>\n      <td>10</td>\n      <td>6</td>\n      <td>3</td>\n      <td>9</td>\n      <td>2</td>\n      <td>5</td>\n      <td>1</td>\n      <td>4</td>\n      <td>8</td>\n    </tr>\n  </tbody>\n</table>\n<p>5 rows × 140 columns</p>\n</div>",
            "text/plain": "                                                Q4_1  \\\n0  Drag the explanations in order such that the f...   \n1                             {\"ImportId\":\"QID30_1\"}   \n2                                                  2   \n3                                                  2   \n4                                                  7   \n\n                                                Q4_2  \\\n0  Drag the explanations in order such that the f...   \n1                             {\"ImportId\":\"QID30_2\"}   \n2                                                  3   \n3                                                  3   \n4                                                  6   \n\n                                                Q4_3  \\\n0  Drag the explanations in order such that the f...   \n1                             {\"ImportId\":\"QID30_3\"}   \n2                                                  4   \n3                                                  4   \n4                                                  4   \n\n                                                Q4_4  \\\n0  Drag the explanations in order such that the f...   \n1                             {\"ImportId\":\"QID30_4\"}   \n2                                                  8   \n3                                                  6   \n4                                                  2   \n\n                                                Q4_5  \\\n0  Drag the explanations in order such that the f...   \n1                             {\"ImportId\":\"QID30_5\"}   \n2                                                  1   \n3                                                  1   \n4                                                  5   \n\n                                                Q4_6  \\\n0  Drag the explanations in order such that the f...   \n1                             {\"ImportId\":\"QID30_6\"}   \n2                                                 10   \n3                                                  9   \n4                                                  9   \n\n                                                Q4_7  \\\n0  Drag the explanations in order such that the f...   \n1                             {\"ImportId\":\"QID30_7\"}   \n2                                                  9   \n3                                                 10   \n4                                                 10   \n\n                                                Q4_8  \\\n0  Drag the explanations in order such that the f...   \n1                             {\"ImportId\":\"QID30_8\"}   \n2                                                  7   \n3                                                  8   \n4                                                  1   \n\n                                                Q4_9  \\\n0  Drag the explanations in order such that the f...   \n1                             {\"ImportId\":\"QID30_9\"}   \n2                                                  6   \n3                                                  7   \n4                                                  3   \n\n                                               Q4_10  ...  \\\n0  Drag the explanations in order such that the f...  ...   \n1                            {\"ImportId\":\"QID30_10\"}  ...   \n2                                                  5  ...   \n3                                                  5  ...   \n4                                                  8  ...   \n\n                                                Q8_1  \\\n0  Drag the explanations in order such that the f...   \n1                             {\"ImportId\":\"QID31_1\"}   \n2                                                  2   \n3                                                  1   \n4                                                  7   \n\n                                                Q8_2  \\\n0  Drag the explanations in order such that the f...   \n1                             {\"ImportId\":\"QID31_2\"}   \n2                                                  3   \n3                                                  4   \n4                                                 10   \n\n                                                Q8_3  \\\n0  Drag the explanations in order such that the f...   \n1                             {\"ImportId\":\"QID31_3\"}   \n2                                                  4   \n3                                                  7   \n4                                                  6   \n\n                                                Q8_4  \\\n0  Drag the explanations in order such that the f...   \n1                             {\"ImportId\":\"QID31_4\"}   \n2                                                  6   \n3                                                  5   \n4                                                  3   \n\n                                                Q8_5  \\\n0  Drag the explanations in order such that the f...   \n1                             {\"ImportId\":\"QID31_5\"}   \n2                                                  1   \n3                                                  2   \n4                                                  9   \n\n                                                Q8_6  \\\n0  Drag the explanations in order such that the f...   \n1                             {\"ImportId\":\"QID31_6\"}   \n2                                                  9   \n3                                                  9   \n4                                                  2   \n\n                                                Q8_7  \\\n0  Drag the explanations in order such that the f...   \n1                             {\"ImportId\":\"QID31_7\"}   \n2                                                 10   \n3                                                 10   \n4                                                  5   \n\n                                                Q8_8  \\\n0  Drag the explanations in order such that the f...   \n1                             {\"ImportId\":\"QID31_8\"}   \n2                                                  8   \n3                                                  6   \n4                                                  1   \n\n                                                Q8_9  \\\n0  Drag the explanations in order such that the f...   \n1                             {\"ImportId\":\"QID31_9\"}   \n2                                                  7   \n3                                                  8   \n4                                                  4   \n\n                                               Q8_10  \n0  Drag the explanations in order such that the f...  \n1                            {\"ImportId\":\"QID31_10\"}  \n2                                                  5  \n3                                                  3  \n4                                                  8  \n\n[5 rows x 140 columns]"
          },
          "metadata": {}
        }
      ],
      "execution_count": 76,
      "metadata": {}
    },
    {
      "cell_type": "code",
      "source": [
        "\n",
        "# rankings = rankings.drop(labels=0, axis=0)\n",
        "# rankings = rankings.drop(labels=1, axis=0)\n",
        "rankings.head()\n"
      ],
      "outputs": [
        {
          "output_type": "execute_result",
          "execution_count": 82,
          "data": {
            "text/html": "<div>\n<style scoped>\n    .dataframe tbody tr th:only-of-type {\n        vertical-align: middle;\n    }\n\n    .dataframe tbody tr th {\n        vertical-align: top;\n    }\n\n    .dataframe thead th {\n        text-align: right;\n    }\n</style>\n<table border=\"1\" class=\"dataframe\">\n  <thead>\n    <tr style=\"text-align: right;\">\n      <th></th>\n      <th>Q4_1</th>\n      <th>Q4_2</th>\n      <th>Q4_3</th>\n      <th>Q4_4</th>\n      <th>Q4_5</th>\n      <th>Q4_6</th>\n      <th>Q4_7</th>\n      <th>Q4_8</th>\n      <th>Q4_9</th>\n      <th>Q4_10</th>\n      <th>...</th>\n      <th>Q8_1</th>\n      <th>Q8_2</th>\n      <th>Q8_3</th>\n      <th>Q8_4</th>\n      <th>Q8_5</th>\n      <th>Q8_6</th>\n      <th>Q8_7</th>\n      <th>Q8_8</th>\n      <th>Q8_9</th>\n      <th>Q8_10</th>\n    </tr>\n  </thead>\n  <tbody>\n    <tr>\n      <th>2</th>\n      <td>2</td>\n      <td>3</td>\n      <td>4</td>\n      <td>8</td>\n      <td>1</td>\n      <td>10</td>\n      <td>9</td>\n      <td>7</td>\n      <td>6</td>\n      <td>5</td>\n      <td>...</td>\n      <td>2</td>\n      <td>3</td>\n      <td>4</td>\n      <td>6</td>\n      <td>1</td>\n      <td>9</td>\n      <td>10</td>\n      <td>8</td>\n      <td>7</td>\n      <td>5</td>\n    </tr>\n    <tr>\n      <th>3</th>\n      <td>2</td>\n      <td>3</td>\n      <td>4</td>\n      <td>6</td>\n      <td>1</td>\n      <td>9</td>\n      <td>10</td>\n      <td>8</td>\n      <td>7</td>\n      <td>5</td>\n      <td>...</td>\n      <td>1</td>\n      <td>4</td>\n      <td>7</td>\n      <td>5</td>\n      <td>2</td>\n      <td>9</td>\n      <td>10</td>\n      <td>6</td>\n      <td>8</td>\n      <td>3</td>\n    </tr>\n    <tr>\n      <th>4</th>\n      <td>7</td>\n      <td>6</td>\n      <td>4</td>\n      <td>2</td>\n      <td>5</td>\n      <td>9</td>\n      <td>10</td>\n      <td>1</td>\n      <td>3</td>\n      <td>8</td>\n      <td>...</td>\n      <td>7</td>\n      <td>10</td>\n      <td>6</td>\n      <td>3</td>\n      <td>9</td>\n      <td>2</td>\n      <td>5</td>\n      <td>1</td>\n      <td>4</td>\n      <td>8</td>\n    </tr>\n    <tr>\n      <th>5</th>\n      <td>4</td>\n      <td>6</td>\n      <td>3</td>\n      <td>5</td>\n      <td>2</td>\n      <td>8</td>\n      <td>10</td>\n      <td>9</td>\n      <td>7</td>\n      <td>1</td>\n      <td>...</td>\n      <td>2</td>\n      <td>3</td>\n      <td>6</td>\n      <td>7</td>\n      <td>1</td>\n      <td>10</td>\n      <td>8</td>\n      <td>9</td>\n      <td>4</td>\n      <td>5</td>\n    </tr>\n    <tr>\n      <th>6</th>\n      <td>2</td>\n      <td>3</td>\n      <td>5</td>\n      <td>4</td>\n      <td>1</td>\n      <td>10</td>\n      <td>9</td>\n      <td>8</td>\n      <td>6</td>\n      <td>7</td>\n      <td>...</td>\n      <td>2</td>\n      <td>4</td>\n      <td>5</td>\n      <td>3</td>\n      <td>1</td>\n      <td>10</td>\n      <td>9</td>\n      <td>8</td>\n      <td>7</td>\n      <td>6</td>\n    </tr>\n  </tbody>\n</table>\n<p>5 rows × 140 columns</p>\n</div>",
            "text/plain": "  Q4_1 Q4_2 Q4_3 Q4_4 Q4_5 Q4_6 Q4_7 Q4_8 Q4_9 Q4_10  ... Q8_1 Q8_2 Q8_3 Q8_4  \\\n2    2    3    4    8    1   10    9    7    6     5  ...    2    3    4    6   \n3    2    3    4    6    1    9   10    8    7     5  ...    1    4    7    5   \n4    7    6    4    2    5    9   10    1    3     8  ...    7   10    6    3   \n5    4    6    3    5    2    8   10    9    7     1  ...    2    3    6    7   \n6    2    3    5    4    1   10    9    8    6     7  ...    2    4    5    3   \n\n  Q8_5 Q8_6 Q8_7 Q8_8 Q8_9 Q8_10  \n2    1    9   10    8    7     5  \n3    2    9   10    6    8     3  \n4    9    2    5    1    4     8  \n5    1   10    8    9    4     5  \n6    1   10    9    8    7     6  \n\n[5 rows x 140 columns]"
          },
          "metadata": {}
        }
      ],
      "execution_count": 82,
      "metadata": {}
    },
    {
      "cell_type": "code",
      "source": [
        "consistency_set = pd.concat([rankings.iloc[:, :10], rankings.iloc[:, -10:]], axis=1)\n",
        "# first_set_cons = rankings.iloc[:,0:10]\n",
        "# last_set_cons = rankings.iloc[:,0:10]\n",
        "consistency_set.head() \n",
        "print(\"shape\", consistency_set.shape)"
      ],
      "outputs": [
        {
          "output_type": "stream",
          "name": "stdout",
          "text": "shape (84, 20)\n"
        }
      ],
      "execution_count": 85,
      "metadata": {}
    },
    {
      "cell_type": "code",
      "source": [
        "consistency_set = consistency_set.dropna()\n",
        "print(\"shape\", consistency_set.shape)\n",
        "\n",
        "taus = np.zeros(consistency_set.shape[0])\n",
        "for i in range(consistency_set.shape[0]):\n",
        "    first = consistency_set.iloc[i,:10]\n",
        "    second = consistency_set.iloc[i,-10:]\n",
        "    tau, _ = kendalltau(first, second)\n",
        "    taus[i] = tau\n",
        "\n",
        "np.savetxt(fname='consistency.csv', X=taus, delimiter=',')\n",
        "print(taus.mean())\n",
        "print(taus.max())\n",
        "print(taus.min())\n",
        "print(taus.argmin())\n",
        "\n",
        "print(consistency_set.iloc[28,:])"
      ],
      "outputs": [
        {
          "output_type": "stream",
          "name": "stdout",
          "text": "shape (69, 20)\n0.3256038647342994\n0.9999999999999999\n-0.37777777777777777\n28\nQ4_1      2\nQ4_2      4\nQ4_3      3\nQ4_4      5\nQ4_5      1\nQ4_6     10\nQ4_7      7\nQ4_8      9\nQ4_9      8\nQ4_10     6\nQ8_1      2\nQ8_2      7\nQ8_3      3\nQ8_4      6\nQ8_5      8\nQ8_6      9\nQ8_7      5\nQ8_8      4\nQ8_9     10\nQ8_10     1\nName: 32, dtype: object\n"
        }
      ],
      "execution_count": 100,
      "metadata": {}
    },
    {
      "cell_type": "markdown",
      "source": [],
      "metadata": {}
    }
  ],
  "metadata": {
    "kernelspec": {
      "name": "python38-azureml",
      "language": "python",
      "display_name": "Python 3.8 - AzureML"
    },
    "language_info": {
      "name": "python",
      "version": "3.8.5",
      "mimetype": "text/x-python",
      "codemirror_mode": {
        "name": "ipython",
        "version": 3
      },
      "pygments_lexer": "ipython3",
      "nbconvert_exporter": "python",
      "file_extension": ".py"
    },
    "orig_nbformat": 4,
    "microsoft": {
      "ms_spell_check": {
        "ms_spell_check_language": "en"
      }
    },
    "kernel_info": {
      "name": "python38-azureml"
    },
    "nteract": {
      "version": "nteract-front-end@1.0.0"
    }
  },
  "nbformat": 4,
  "nbformat_minor": 2
}