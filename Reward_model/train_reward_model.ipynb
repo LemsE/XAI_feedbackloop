{
  "cells": [
    {
      "cell_type": "code",
      "source": [
        "import torch\n",
        "import torch.nn as nn\n",
        "import torch.optim as optim\n",
        "import torchvision.transforms as transforms\n",
        "import torchvision\n",
        "from torch.utils.data import DataLoader\n",
        "from PIL import Image\n",
        "import os\n",
        "import numpy as np\n",
        "from  custom_dataset  import CustomDataset\n",
        "from tqdm import tqdm\n",
        "from reward_model import RewardModel\n",
        "import timeit\n",
        "from sklearn.metrics import top_k_accuracy_score\n",
        "import pandas as pd\n",
        "from utils import save_model\n",
        "from torchsummary import summary\n",
        "import random\n",
        "from sklearn.model_selection import KFold\n",
        "from custom_dataset2 import CustomDataset2\n",
        "# random_seed = 42\n",
        "# torch.manual_seed(random_seed)"
      ],
      "outputs": [],
      "execution_count": 1,
      "metadata": {
        "gather": {
          "logged": 1692968650620
        }
      }
    },
    {
      "cell_type": "code",
      "source": [
        "# Set device\n",
        "device = torch.device('cuda' if torch.cuda.is_available() else 'cpu')"
      ],
      "outputs": [],
      "execution_count": 2,
      "metadata": {
        "gather": {
          "logged": 1692968654472
        }
      }
    },
    {
      "cell_type": "code",
      "source": [
        "def setup_seed( cuda,seed=42):\n",
        "    # Creates global random seed across torch, cuda and numpy \n",
        "    np.random.seed(seed)\n",
        "    torch.manual_seed(seed)\n",
        "    if cuda:\n",
        "        torch.cuda.manual_seed_all(seed)\n",
        "    random.seed(seed)\n",
        "    torch.backends.cudnn.deterministic=True\n"
      ],
      "outputs": [],
      "execution_count": 3,
      "metadata": {
        "gather": {
          "logged": 1692968655919
        }
      }
    },
    {
      "cell_type": "code",
      "source": [
        "setup_seed(cuda=device)"
      ],
      "outputs": [],
      "execution_count": 4,
      "metadata": {
        "gather": {
          "logged": 1692968657602
        }
      }
    },
    {
      "cell_type": "code",
      "source": [
        "# Settings\n",
        "img_size = 224\n",
        "mean = (0.485, 0.456, 0.406)\n",
        "std = (0.229, 0.224, 0.225)"
      ],
      "outputs": [],
      "execution_count": 5,
      "metadata": {
        "gather": {
          "logged": 1692968662942
        }
      }
    },
    {
      "cell_type": "code",
      "source": [
        "\n",
        "# df = pd.read_csv('test_custom_dataset.csv', sep=';', header=None)\n",
        "df = pd.read_csv('data/ranking_dataset_outlier_rem.csv', sep=',', header=None)\n",
        "\n",
        "#df = df.drop(labels=0, axis=0)\n",
        "df.head()\n"
      ],
      "outputs": [
        {
          "output_type": "execute_result",
          "execution_count": 6,
          "data": {
            "text/plain": "                    0  1\n0  IM_bTkVTbpcDgYoRJA  2\n1  IM_mHXwAfdWoPQfqAN  3\n2  IM_JL0VD0AuSA2Glrs  4\n3  IM_wd5NoxRxawdAN9L  8\n4  IM_BahdUhDKLPY0xJ9  1",
            "text/html": "<div>\n<style scoped>\n    .dataframe tbody tr th:only-of-type {\n        vertical-align: middle;\n    }\n\n    .dataframe tbody tr th {\n        vertical-align: top;\n    }\n\n    .dataframe thead th {\n        text-align: right;\n    }\n</style>\n<table border=\"1\" class=\"dataframe\">\n  <thead>\n    <tr style=\"text-align: right;\">\n      <th></th>\n      <th>0</th>\n      <th>1</th>\n    </tr>\n  </thead>\n  <tbody>\n    <tr>\n      <th>0</th>\n      <td>IM_bTkVTbpcDgYoRJA</td>\n      <td>2</td>\n    </tr>\n    <tr>\n      <th>1</th>\n      <td>IM_mHXwAfdWoPQfqAN</td>\n      <td>3</td>\n    </tr>\n    <tr>\n      <th>2</th>\n      <td>IM_JL0VD0AuSA2Glrs</td>\n      <td>4</td>\n    </tr>\n    <tr>\n      <th>3</th>\n      <td>IM_wd5NoxRxawdAN9L</td>\n      <td>8</td>\n    </tr>\n    <tr>\n      <th>4</th>\n      <td>IM_BahdUhDKLPY0xJ9</td>\n      <td>1</td>\n    </tr>\n  </tbody>\n</table>\n</div>"
          },
          "metadata": {}
        }
      ],
      "execution_count": 6,
      "metadata": {
        "gather": {
          "logged": 1692968668348
        }
      }
    },
    {
      "cell_type": "code",
      "source": [
        "train = pd.read_csv('data/train.csv', sep=',', header=None)\n",
        "\n",
        "\n",
        "train.head()\n"
      ],
      "outputs": [
        {
          "output_type": "execute_result",
          "execution_count": 7,
          "data": {
            "text/plain": "                    0  1\n0  IM_bTkVTbpcDgYoRJA  4\n1  IM_mHXwAfdWoPQfqAN  2\n2  IM_JL0VD0AuSA2Glrs  3\n3  IM_wd5NoxRxawdAN9L  6\n4  IM_BahdUhDKLPY0xJ9  1",
            "text/html": "<div>\n<style scoped>\n    .dataframe tbody tr th:only-of-type {\n        vertical-align: middle;\n    }\n\n    .dataframe tbody tr th {\n        vertical-align: top;\n    }\n\n    .dataframe thead th {\n        text-align: right;\n    }\n</style>\n<table border=\"1\" class=\"dataframe\">\n  <thead>\n    <tr style=\"text-align: right;\">\n      <th></th>\n      <th>0</th>\n      <th>1</th>\n    </tr>\n  </thead>\n  <tbody>\n    <tr>\n      <th>0</th>\n      <td>IM_bTkVTbpcDgYoRJA</td>\n      <td>4</td>\n    </tr>\n    <tr>\n      <th>1</th>\n      <td>IM_mHXwAfdWoPQfqAN</td>\n      <td>2</td>\n    </tr>\n    <tr>\n      <th>2</th>\n      <td>IM_JL0VD0AuSA2Glrs</td>\n      <td>3</td>\n    </tr>\n    <tr>\n      <th>3</th>\n      <td>IM_wd5NoxRxawdAN9L</td>\n      <td>6</td>\n    </tr>\n    <tr>\n      <th>4</th>\n      <td>IM_BahdUhDKLPY0xJ9</td>\n      <td>1</td>\n    </tr>\n  </tbody>\n</table>\n</div>"
          },
          "metadata": {}
        }
      ],
      "execution_count": 7,
      "metadata": {
        "gather": {
          "logged": 1692968669989
        }
      }
    },
    {
      "cell_type": "code",
      "source": [
        "# Create transform\n",
        "normalize = transforms.Normalize(mean=mean,\n",
        "                                    std=std)\n",
        "transform = transforms.Compose([\n",
        "        transforms.Resize(size=(img_size, img_size)),\n",
        "        transforms.ToTensor(),\n",
        "        normalize,\n",
        "    ])\n",
        "\n",
        "\n",
        "# Load data\n",
        "# dataset = CustomDataset(data_file='data/ranking_dataset_outlier_rem.csv',image_folder_prototype='prototype_acts', image_folder_inputx = 'prototype_input_img', transform=transform) \n",
        "# print(len(dataset))\n",
        "\n",
        "train_set = CustomDataset(data_file='data/train.csv',image_folder_prototype='prototype_acts', image_folder_inputx = 'prototype_input_img', transform=transform) \n",
        "print(len(train_set))\n",
        "\n",
        "test_set = CustomDataset(data_file='data/test.csv',image_folder_prototype='prototype_acts', image_folder_inputx = 'prototype_input_img', transform=transform) \n",
        "print(len(test_set))\n",
        "\n"
      ],
      "outputs": [
        {
          "output_type": "stream",
          "name": "stdout",
          "text": "2640\n280\n"
        }
      ],
      "execution_count": 8,
      "metadata": {
        "gather": {
          "logged": 1692968671347
        }
      }
    },
    {
      "cell_type": "code",
      "source": [
        "# Hyperparameters\n",
        "train_batch_size = 128\n",
        "test_batch_size = 128\n",
        "num_epochs = 5\n",
        "lr = 0.0001\n",
        "t_max = ((len(train_set)/train_batch_size)*num_epochs)/2\n",
        "print('t_max: ', t_max)\n",
        "seed=42"
      ],
      "outputs": [
        {
          "output_type": "stream",
          "name": "stdout",
          "text": "t_max:  51.5625\n"
        }
      ],
      "execution_count": 9,
      "metadata": {
        "gather": {
          "logged": 1692968671913
        }
      }
    },
    {
      "cell_type": "code",
      "source": [
        "\n",
        "dataloaders = {\n",
        "    'train':\n",
        "    torch.utils.data.DataLoader(\n",
        "    train_set, batch_size=train_batch_size, shuffle=True,\n",
        "    num_workers=4, pin_memory=False),\n",
        "    'test':\n",
        "    torch.utils.data.DataLoader(\n",
        "    test_set, batch_size=test_batch_size, shuffle=False,\n",
        "    num_workers=4, pin_memory=False)\n",
        "    }\n",
        "\n"
      ],
      "outputs": [],
      "execution_count": 10,
      "metadata": {
        "gather": {
          "logged": 1692968675155
        }
      }
    },
    {
      "cell_type": "code",
      "source": [
        "input_size_1 = (1,7,7)\n",
        "input_size_2 = (3,224,224)\n",
        "\n",
        "#### INIT MODEL ####\n",
        "model = RewardModel(input_size_1,input_size_2)\n",
        "model.to(device=device)\n",
        "criterion = nn.MSELoss()\n",
        "optimizer = optim.AdamW(model.parameters(), lr=lr)\n",
        "scheduler = optim.lr_scheduler.CosineAnnealingLR(optimizer=optimizer,T_max=t_max)\n"
      ],
      "outputs": [],
      "execution_count": 11,
      "metadata": {
        "gather": {
          "logged": 1692968678531
        }
      }
    },
    {
      "cell_type": "code",
      "source": [
        "\n",
        "# Print the model summary with two inputs\n",
        "summary(model, input_size=[input_size_1, input_size_2])"
      ],
      "outputs": [
        {
          "output_type": "stream",
          "name": "stdout",
          "text": "----------------------------------------------------------------\n        Layer (type)               Output Shape         Param #\n================================================================\n            Conv2d-1             [-1, 32, 7, 7]             320\n              ReLU-2             [-1, 32, 7, 7]               0\n            Conv2d-3             [-1, 64, 7, 7]          18,496\n              ReLU-4             [-1, 64, 7, 7]               0\n         MaxPool2d-5             [-1, 64, 3, 3]               0\n            Conv2d-6         [-1, 32, 224, 224]             896\n              ReLU-7         [-1, 32, 224, 224]               0\n            Conv2d-8         [-1, 64, 224, 224]          18,496\n              ReLU-9         [-1, 64, 224, 224]               0\n        MaxPool2d-10         [-1, 64, 112, 112]               0\n           Conv2d-11        [-1, 128, 112, 112]          73,856\n             ReLU-12        [-1, 128, 112, 112]               0\n        MaxPool2d-13          [-1, 128, 56, 56]               0\n           Linear-14                  [-1, 128]      51,454,080\n             ReLU-15                  [-1, 128]               0\n           Linear-16                   [-1, 64]           8,256\n             ReLU-17                   [-1, 64]               0\n           Linear-18                    [-1, 1]              65\n================================================================\nTotal params: 51,574,465\nTrainable params: 51,574,465\nNon-trainable params: 0\n----------------------------------------------------------------\nInput size (MB): 28.14\nForward/backward pass size (MB): 107.27\nParams size (MB): 196.74\nEstimated Total Size (MB): 332.14\n----------------------------------------------------------------\n"
        }
      ],
      "execution_count": 12,
      "metadata": {
        "collapsed": false,
        "gather": {
          "logged": 1692968684069
        }
      }
    },
    {
      "cell_type": "code",
      "source": [
        "def train_model(model, optimizer, scheduler, criterion, dataloaders, num_epochs):\n",
        "\n",
        "    train_msa = []\n",
        "    train_loss_lst = []\n",
        "\n",
        "    for epoch in range(num_epochs):\n",
        "        print('Epoch {}/{}'.format(epoch+1, num_epochs))\n",
        "        print('-' * 10)\n",
        "        dataset_size = 0\n",
        "        for phase in ['train']:\n",
        "            \n",
        "            start = timeit.default_timer()\n",
        "\n",
        "            dataset_size = len(train_set)\n",
        "            model.train()\n",
        "\n",
        "            running_loss = 0.0\n",
        "            running_rsme_loss = 0.0\n",
        "\n",
        "\n",
        "            for i, (prototype, labels, inputx) in enumerate(tqdm(dataloaders[phase])):\n",
        "\n",
        "                prototype = prototype.to(device=device)\n",
        "                inputx = inputx.to(device=device)\n",
        "                labels = labels.to(device=device)\n",
        "                \n",
        "                labels = labels.to(torch.float32)\n",
        "                labels =  labels.unsqueeze(1)\n",
        "          \n",
        "                outputs = model(prototype,inputx)\n",
        "\n",
        "                loss = criterion(outputs, labels)\n",
        "                rsme = torch.sqrt(loss)\n",
        "\n",
        "\n",
        "\n",
        "                optimizer.zero_grad()\n",
        "                loss.backward()\n",
        "                optimizer.step()\n",
        "\n",
        "                running_loss += loss.item() \n",
        "                running_rsme_loss += rsme.item()\n",
        "\n",
        "            scheduler.step()\n",
        "\n",
        "            epoch_loss = running_loss / dataset_size\n",
        "            epoch_rsme = running_rsme_loss / dataset_size\n",
        "    \n",
        "            train_loss_lst.append(epoch_loss)\n",
        " \n",
        "\n",
        "            print('MSE {} loss: {:.4f}'.format(phase,epoch_loss))\n",
        "            print('RMSE {} loss: {:.4f}'.format(phase,epoch_rsme))\n",
        "            \n",
        "\n",
        "            stop = timeit.default_timer()\n",
        "            time = stop - start\n",
        "            print('{} time in s: {} '.format(phase, time) )\n",
        "\n",
        "    return model,  train_loss_lst"
      ],
      "outputs": [],
      "execution_count": 13,
      "metadata": {
        "gather": {
          "logged": 1692968684238
        }
      }
    },
    {
      "cell_type": "code",
      "source": [
        "trained_model, loss_lst = train_model(model=model, optimizer=optimizer, criterion=criterion,scheduler=scheduler, dataloaders=dataloaders, num_epochs=num_epochs)\n",
        "# save_model(trained_model, save_path='./trained_models/')\n",
        "# print('Model saved')"
      ],
      "outputs": [
        {
          "output_type": "stream",
          "name": "stdout",
          "text": "Epoch 1/5\n----------\nMSE train loss: 0.1082\nRMSE train loss: 0.0283\ntrain time in s: 40.39569934300016 \nEpoch 2/5\n----------\nMSE train loss: 0.0611\nRMSE train loss: 0.0220\ntrain time in s: 39.77329781700064 \nEpoch 3/5\n----------\nMSE train loss: 0.0505\nRMSE train loss: 0.0200\ntrain time in s: 40.16165310799988 \nEpoch 4/5\n----------\nMSE train loss: 0.0404\nRMSE train loss: 0.0179\ntrain time in s: 40.494790711998576 \nEpoch 5/5\n----------\nMSE train loss: 0.0357\nRMSE train loss: 0.0168\ntrain time in s: 40.26370519300144 \n"
        },
        {
          "output_type": "stream",
          "name": "stderr",
          "text": "100%|██████████| 21/21 [00:40<00:00,  1.92s/it]\n100%|██████████| 21/21 [00:39<00:00,  1.89s/it]\n100%|██████████| 21/21 [00:40<00:00,  1.91s/it]\n100%|██████████| 21/21 [00:40<00:00,  1.93s/it]\n100%|██████████| 21/21 [00:40<00:00,  1.92s/it]\n"
        }
      ],
      "execution_count": 14,
      "metadata": {
        "gather": {
          "logged": 1692968885410
        }
      }
    },
    {
      "cell_type": "code",
      "source": [
        "torch.save(trained_model.state_dict(),  'weights_reward_CV.h5')"
      ],
      "outputs": [],
      "execution_count": 16,
      "metadata": {}
    },
    {
      "cell_type": "code",
      "source": [
        "device = torch.device(\"cuda:0\" if torch.cuda.is_available() else \"cpu\")\n",
        "start = timeit.default_timer()\n",
        "trained_model.eval()\n",
        "history = []\n",
        "mse=0.0\n",
        "rmse=0.0\n",
        "with torch.no_grad():\n",
        "   \n",
        "    for (prototype, labels, inputx) in tqdm(dataloaders['test']):\n",
        "\n",
        "        prototype = prototype.to(device=device)\n",
        "        inputx = inputx.to(device=device)\n",
        "        labels = labels.to(device=device)\n",
        "        labels = labels.to(torch.float32)\n",
        "        labels =  labels.unsqueeze(1)\n",
        "\n",
        "        outputs = trained_model(prototype, inputx)\n",
        "\n",
        "        mse_crit = criterion(outputs, labels)\n",
        "        rmse_crit = torch.sqrt(mse_crit)\n",
        "        mse += float(mse_crit)\n",
        "        rmse+= float(rmse_crit)\n",
        "        history.append(mse)\n",
        "\n",
        "\n",
        "print(mse/len(test_set))\n",
        "print(rmse/len(test_set))\n",
        "stop = timeit.default_timer()\n",
        "time = stop - start\n",
        "print('Test time in s: {} '.format(time) )"
      ],
      "outputs": [
        {
          "output_type": "stream",
          "name": "stderr",
          "text": "100%|████████████████████████████████████████████████████████████████████████████████████████████████████████████████████████████████████████████████████████████████████████████████████████████████████████████████████████████████████████████████████████████████████████████████████████████████████████████████████████████████████████████████████████████████████████████████████████████████████████████████████████████████████████████████████████████████████████████████████████████████████████████████████████████████████████████████████████████████████████████████████████████████████████████████████████████████████████████████████████████████████████████████████████████████████████████████████████████████████████████████████████████████████████████████████████████████████████████████████████████████████████████████████████████████████████████████████████████████████████████████████████████████████████████████████████████████████████████████████████████████████| 3/3 [00:02<00:00,  1.16it/s]"
        },
        {
          "output_type": "stream",
          "name": "stdout",
          "text": "0.051070421082632884\n0.023186240025929044\nTest time in s: 2.595136626999988 \n"
        },
        {
          "output_type": "stream",
          "name": "stderr",
          "text": "\n"
        }
      ],
      "execution_count": 17,
      "metadata": {}
    },
    {
      "cell_type": "code",
      "source": [
        "def plot_metric(metric_lst : list, metric_name: str, num_epochs: int):\n",
        "    \"\"\"\n",
        "    Plots the metric from metric list\n",
        "\n",
        "    Parameters\n",
        "    -----------\n",
        "        metric_lst : List\n",
        "            List containing a train metric of the model\n",
        "        metric_name : str\n",
        "            Name of the metric to be plotted\n",
        "        num_epochs : int\n",
        "            Number of epochs used to train\n",
        "    \n",
        "    \"\"\"\n",
        "    x = range(0,num_epochs,1)\n",
        "    plt.plot(x, metric_lst)\n",
        "    plt.xlabel('Epochs')\n",
        "    plt.ylabel(metric_name)\n",
        "    plt.title('Train {} reward model'.format(metric_name))\n",
        "    plt.legend()\n",
        "    plt.savefig('loss_reward_model_CV.pdf')\n",
        "    plt.show()\n",
        "    "
      ],
      "outputs": [],
      "execution_count": 15,
      "metadata": {
        "gather": {
          "logged": 1692968885558
        }
      }
    },
    {
      "cell_type": "code",
      "source": [
        "import matplotlib.pyplot as plt\n",
        "plot_metric(metric_lst=loss_lst, metric_name='loss', num_epochs=num_epochs)"
      ],
      "outputs": [
        {
          "output_type": "stream",
          "name": "stderr",
          "text": "No artists with labels found to put in legend.  Note that artists whose label start with an underscore are ignored when legend() is called with no argument.\n"
        },
        {
          "output_type": "display_data",
          "data": {
            "text/plain": "<Figure size 640x480 with 1 Axes>",
            "image/png": "[encoded data removed]"
          },
          "metadata": {}
        }
      ],
      "execution_count": 16,
      "metadata": {
        "gather": {
          "logged": 1692968886540
        }
      }
    },
    {
      "cell_type": "markdown",
      "source": [
        "## KFOLD CROSS VALIDATION"
      ],
      "metadata": {}
    },
    {
      "cell_type": "code",
      "source": [
        "########### IMPORTS ###########\n",
        "import torch\n",
        "import torch.nn as nn\n",
        "import torch.optim as optim\n",
        "import torchvision.transforms as transforms\n",
        "import torchvision\n",
        "from torch.utils.data import DataLoader\n",
        "from PIL import Image\n",
        "import os\n",
        "import numpy as np\n",
        "from  custom_dataset  import CustomDataset\n",
        "from tqdm import tqdm\n",
        "from reward_model import RewardModel\n",
        "import timeit\n",
        "from sklearn.metrics import top_k_accuracy_score\n",
        "import pandas as pd\n",
        "from utils import save_model\n",
        "from torchsummary import summary\n",
        "import random\n",
        "from sklearn.model_selection import KFold\n",
        "from custom_dataset2 import CustomDataset2"
      ],
      "outputs": [],
      "execution_count": 1,
      "metadata": {}
    },
    {
      "cell_type": "code",
      "source": [
        "# Set device\n",
        "device = torch.device('cuda' if torch.cuda.is_available() else 'cpu')"
      ],
      "outputs": [],
      "execution_count": 2,
      "metadata": {}
    },
    {
      "cell_type": "code",
      "source": [
        "def setup_seed( cuda,seed=42):\n",
        "    # Creates global random seed across torch, cuda and numpy \n",
        "    np.random.seed(seed)\n",
        "    torch.manual_seed(seed)\n",
        "    if cuda:\n",
        "        torch.cuda.manual_seed_all(seed)\n",
        "    random.seed(seed)\n",
        "    torch.backends.cudnn.deterministic=True"
      ],
      "outputs": [],
      "execution_count": 3,
      "metadata": {}
    },
    {
      "cell_type": "code",
      "source": [
        "setup_seed(cuda=device)"
      ],
      "outputs": [],
      "execution_count": 4,
      "metadata": {}
    },
    {
      "cell_type": "code",
      "source": [
        "# Settings\n",
        "img_size = 224\n",
        "mean = (0.485, 0.456, 0.406)\n",
        "std = (0.229, 0.224, 0.225)"
      ],
      "outputs": [],
      "execution_count": 5,
      "metadata": {}
    },
    {
      "cell_type": "code",
      "source": [
        "# Hyperparameters\n",
        "train_batch_size = 128\n",
        "test_batch_size = 128\n",
        "num_epochs = 15\n",
        "lr = 0.0001\n",
        "t_max = ((2112/train_batch_size)*num_epochs)/2\n",
        "print('t_max: ', t_max)\n",
        "seed=42"
      ],
      "outputs": [
        {
          "output_type": "stream",
          "name": "stdout",
          "text": "t_max:  123.75\n"
        }
      ],
      "execution_count": 6,
      "metadata": {}
    },
    {
      "cell_type": "code",
      "source": [
        "def validate(trained_model, dataloaders, val_set):\n",
        "   \n",
        "    start = timeit.default_timer()\n",
        "    trained_model.eval()\n",
        "    history = []\n",
        "    mse=0.0\n",
        "    rmse=0.0\n",
        "    with torch.no_grad():\n",
        "    \n",
        "        for (prototype, labels, inputx) in tqdm(dataloaders['val']):\n",
        "\n",
        "            prototype = prototype.to(device=device)\n",
        "            inputx = inputx.to(device=device)\n",
        "            labels = labels.to(device=device)\n",
        "            labels = labels.to(torch.float32)\n",
        "            labels =  labels.unsqueeze(1)\n",
        "\n",
        "            outputs = trained_model(prototype, inputx)\n",
        "\n",
        "            mse_crit = criterion(outputs, labels)\n",
        "            rmse_crit = torch.sqrt(mse_crit)\n",
        "            mse += float(mse_crit)\n",
        "            rmse+= float(rmse_crit)\n",
        "            history.append(mse)\n",
        "\n",
        "\n",
        "    # print(mse/len(val_set))\n",
        "    # print(rmse/len(val_set))\n",
        "    stop = timeit.default_timer()\n",
        "    time = stop - start\n",
        "    mse_final =  mse/len(val_set)\n",
        "    rmse_final =  rmse/len(val_set)\n",
        "    print('Validation time in s: {} '.format(time) )\n",
        "    print('Validation mse score fold {}: {}'.format(i, mse/len(val_set)))\n",
        "    print('Validation rmse score fold {}: {}'.format(i, rmse/len(val_set)))\n",
        "    return mse_final, rmse_final"
      ],
      "outputs": [],
      "execution_count": 7,
      "metadata": {}
    },
    {
      "cell_type": "code",
      "source": [
        "def train_val_model(model, optimizer, scheduler, criterion, dataloaders, num_epochs, train_set):\n",
        "\n",
        "    train_msa = []\n",
        "    train_loss_lst = []\n",
        "\n",
        "    for epoch in range(num_epochs):\n",
        "        print('Epoch {}/{}'.format(epoch+1, num_epochs))\n",
        "        print('-' * 10)\n",
        "\n",
        "        model.train()\n",
        "\n",
        "        start = timeit.default_timer()\n",
        "\n",
        "        dataset_size = len(train_set)\n",
        "        model.train()\n",
        "\n",
        "        running_loss = 0.0\n",
        "        running_rsme_loss = 0.0\n",
        "\n",
        "\n",
        "        for i, (prototype, labels, inputx) in enumerate(tqdm(dataloaders['train'])):\n",
        "\n",
        "            prototype = prototype.to(device=device)\n",
        "            inputx = inputx.to(device=device)\n",
        "            labels = labels.to(device=device)\n",
        "            \n",
        "            labels = labels.to(torch.float32)\n",
        "            labels =  labels.unsqueeze(1)\n",
        "        \n",
        "            outputs = model(prototype,inputx)\n",
        "\n",
        "            loss = criterion(outputs, labels)\n",
        "            rsme = torch.sqrt(loss)\n",
        "\n",
        "\n",
        "\n",
        "            optimizer.zero_grad()\n",
        "            loss.backward()\n",
        "            optimizer.step()\n",
        "\n",
        "            running_loss += loss.item() \n",
        "            running_rsme_loss += rsme.item()\n",
        "\n",
        "        scheduler.step()\n",
        "\n",
        "        epoch_loss = running_loss / dataset_size\n",
        "        epoch_rsme = running_rsme_loss / dataset_size\n",
        "\n",
        "        train_loss_lst.append(epoch_loss)\n",
        "\n",
        "        \n",
        "\n",
        "\n",
        "        print('MSE {} loss: {:.4f}'.format('train',epoch_loss))\n",
        "        print('RMSE {} loss: {:.4f}'.format('train',epoch_rsme))\n",
        "\n",
        "        \n",
        "        \n",
        "\n",
        "        stop = timeit.default_timer()\n",
        "        time = stop - start\n",
        "        print('{} time in s: {} '.format('train', time) )\n",
        "\n",
        "    return model,  train_loss_lst"
      ],
      "outputs": [],
      "execution_count": 8,
      "metadata": {}
    },
    {
      "cell_type": "code",
      "source": [
        "##### INIT MODEL #####\n",
        "input_size_1 = (1,7,7)\n",
        "input_size_2 = (3,224,224)\n",
        "model = RewardModel(input_size_1,input_size_2)\n",
        "model.to(device=device)\n",
        "criterion = nn.MSELoss()\n",
        "optimizer = optim.AdamW(model.parameters(), lr=lr)\n",
        "scheduler = optim.lr_scheduler.CosineAnnealingLR(optimizer=optimizer,T_max=t_max)"
      ],
      "outputs": [],
      "execution_count": 9,
      "metadata": {}
    },
    {
      "cell_type": "code",
      "source": [
        "\n",
        "\n",
        "##### KFOLD CROSS VALIDATION #####\n",
        "train_df = pd.read_csv('data/train.csv', sep=',', header=None)\n",
        "kf = KFold(n_splits=5)\n",
        "print(kf.get_n_splits(train_df))\n",
        "\n",
        "\n",
        "\n",
        "normalize = transforms.Normalize(mean=mean,\n",
        "                                    std=std)\n",
        "transform = transforms.Compose([\n",
        "        transforms.Resize(size=(img_size, img_size)),\n",
        "        transforms.ToTensor(),\n",
        "        normalize,\n",
        "    ])\n",
        "mse_fold = []\n",
        "rmse_fold =[]\n",
        "for i,(train_index, val_index) in enumerate(kf.split(train_df)):\n",
        "    train_set_df = train_df.iloc[train_index]\n",
        "    val_set_df = train_df.iloc[val_index]\n",
        "    \n",
        "    train_set = CustomDataset2(data=train_set_df,image_folder_prototype='prototype_acts', image_folder_inputx = 'prototype_input_img', transform=transform) \n",
        "    val_set = CustomDataset2(data=val_set_df,image_folder_prototype='prototype_acts', image_folder_inputx = 'prototype_input_img', transform=transform) \n",
        "    # print(len(train_set))\n",
        "    # print(len(val_set))\n",
        "    \n",
        "  \n",
        "    dataloaders = {\n",
        "    'train':\n",
        "    torch.utils.data.DataLoader(\n",
        "    train_set, batch_size=train_batch_size, shuffle=True,\n",
        "    num_workers=4, pin_memory=False),\n",
        "    'val':\n",
        "    torch.utils.data.DataLoader(\n",
        "    val_set, batch_size=train_batch_size, shuffle=True,\n",
        "    num_workers=4, pin_memory=False),\n",
        "\n",
        "    }\n",
        "\n",
        "    \n",
        "\n",
        "    trained_model, loss_lst = train_val_model(model=model, optimizer=optimizer, criterion=criterion,scheduler=scheduler, dataloaders=dataloaders, num_epochs=num_epochs,train_set=train_set)\n",
        "\n",
        "    mse, rsme = validate(trained_model=trained_model, dataloaders=dataloaders, val_set=val_set)\n",
        "    mse_fold.append(mse)\n",
        "    rmse_fold.append(rsme)\n",
        "\n",
        "print(\"Final MSE: \", mse_fold)\n",
        "print(\"Final RMSE: \", rmse_fold)"
      ],
      "outputs": [
        {
          "output_type": "stream",
          "name": "stdout",
          "text": "5\nEpoch 1/15\n----------\n"
        },
        {
          "output_type": "stream",
          "name": "stderr",
          "text": "  0%|                                                                                                                                                                                                                                                                                                                                                                                                                                                                                                                                                                                                                                                                                                                                                                                                                                                                                                                                                                                                           | 0/17 [00:00<?, ?it/s]"
        },
        {
          "output_type": "stream",
          "name": "stderr",
          "text": "100%|██████████████████████████████████████████████████████████████████████████████████████████████████████████████████████████████████████████████████████████████████████████████████████████████████████████████████████████████████████████████████████████████████████████████████████████████████████████████████████████████████████████████████████████████████████████████████████████████████████████████████████████████████████████████████████████████████████████████████████████████████████████████████████████████████████████████████████████████████████████████████████████████████████████████████████████████████████████████████████████████████████████████████████████████████████████████████████████████████████████████████████████████████████████████████████████████████████████████████████████████████████████████████████████████████████████████████████████████████████████████████████████████████████████████████████████████████████████████████████████████████| 17/17 [00:30<00:00,  1.82s/it]\n"
        },
        {
          "output_type": "stream",
          "name": "stdout",
          "text": "MSE train loss: 0.1100\nRMSE train loss: 0.0288\ntrain time in s: 30.971169414000542 \nEpoch 2/15\n----------\n"
        },
        {
          "output_type": "stream",
          "name": "stderr",
          "text": "100%|██████████████████████████████████████████████████████████████████████████████████████████████████████████████████████████████████████████████████████████████████████████████████████████████████████████████████████████████████████████████████████████████████████████████████████████████████████████████████████████████████████████████████████████████████████████████████████████████████████████████████████████████████████████████████████████████████████████████████████████████████████████████████████████████████████████████████████████████████████████████████████████████████████████████████████████████████████████████████████████████████████████████████████████████████████████████████████████████████████████████████████████████████████████████████████████████████████████████████████████████████████████████████████████████████████████████████████████████████████████████████████████████████████████████████████████████████████████████████████████████████| 17/17 [00:30<00:00,  1.82s/it]\n"
        },
        {
          "output_type": "stream",
          "name": "stdout",
          "text": "MSE train loss: 0.0670\nRMSE train loss: 0.0232\ntrain time in s: 30.876733541999783 \nEpoch 3/15\n----------\n"
        },
        {
          "output_type": "stream",
          "name": "stderr",
          "text": "100%|██████████████████████████████████████████████████████████████████████████████████████████████████████████████████████████████████████████████████████████████████████████████████████████████████████████████████████████████████████████████████████████████████████████████████████████████████████████████████████████████████████████████████████████████████████████████████████████████████████████████████████████████████████████████████████████████████████████████████████████████████████████████████████████████████████████████████████████████████████████████████████████████████████████████████████████████████████████████████████████████████████████████████████████████████████████████████████████████████████████████████████████████████████████████████████████████████████████████████████████████████████████████████████████████████████████████████████████████████████████████████████████████████████████████████████████████████████████████████████████████████| 17/17 [00:30<00:00,  1.81s/it]\n"
        },
        {
          "output_type": "stream",
          "name": "stdout",
          "text": "MSE train loss: 0.0564\nRMSE train loss: 0.0213\ntrain time in s: 30.82146169800035 \nEpoch 4/15\n----------\n"
        },
        {
          "output_type": "stream",
          "name": "stderr",
          "text": "100%|██████████████████████████████████████████████████████████████████████████████████████████████████████████████████████████████████████████████████████████████████████████████████████████████████████████████████████████████████████████████████████████████████████████████████████████████████████████████████████████████████████████████████████████████████████████████████████████████████████████████████████████████████████████████████████████████████████████████████████████████████████████████████████████████████████████████████████████████████████████████████████████████████████████████████████████████████████████████████████████████████████████████████████████████████████████████████████████████████████████████████████████████████████████████████████████████████████████████████████████████████████████████████████████████████████████████████████████████████████████████████████████████████████████████████████████████████████████████████████████████████| 17/17 [00:30<00:00,  1.80s/it]\n"
        },
        {
          "output_type": "stream",
          "name": "stdout",
          "text": "MSE train loss: 0.0455\nRMSE train loss: 0.0191\ntrain time in s: 30.67850584000007 \nEpoch 5/15\n----------\n"
        },
        {
          "output_type": "stream",
          "name": "stderr",
          "text": "100%|██████████████████████████████████████████████████████████████████████████████████████████████████████████████████████████████████████████████████████████████████████████████████████████████████████████████████████████████████████████████████████████████████████████████████████████████████████████████████████████████████████████████████████████████████████████████████████████████████████████████████████████████████████████████████████████████████████████████████████████████████████████████████████████████████████████████████████████████████████████████████████████████████████████████████████████████████████████████████████████████████████████████████████████████████████████████████████████████████████████████████████████████████████████████████████████████████████████████████████████████████████████████████████████████████████████████████████████████████████████████████████████████████████████████████████████████████████████████████████████████████| 17/17 [00:30<00:00,  1.82s/it]\n"
        },
        {
          "output_type": "stream",
          "name": "stdout",
          "text": "MSE train loss: 0.0382\nRMSE train loss: 0.0175\ntrain time in s: 30.95109839699944 \nEpoch 6/15\n----------\n"
        },
        {
          "output_type": "stream",
          "name": "stderr",
          "text": "100%|██████████████████████████████████████████████████████████████████████████████████████████████████████████████████████████████████████████████████████████████████████████████████████████████████████████████████████████████████████████████████████████████████████████████████████████████████████████████████████████████████████████████████████████████████████████████████████████████████████████████████████████████████████████████████████████████████████████████████████████████████████████████████████████████████████████████████████████████████████████████████████████████████████████████████████████████████████████████████████████████████████████████████████████████████████████████████████████████████████████████████████████████████████████████████████████████████████████████████████████████████████████████████████████████████████████████████████████████████████████████████████████████████████████████████████████████████████████████████████████████████| 17/17 [00:30<00:00,  1.82s/it]\n"
        },
        {
          "output_type": "stream",
          "name": "stdout",
          "text": "MSE train loss: 0.0360\nRMSE train loss: 0.0170\ntrain time in s: 30.920219784000437 \nEpoch 7/15\n----------\n"
        },
        {
          "output_type": "stream",
          "name": "stderr",
          "text": "100%|██████████████████████████████████████████████████████████████████████████████████████████████████████████████████████████████████████████████████████████████████████████████████████████████████████████████████████████████████████████████████████████████████████████████████████████████████████████████████████████████████████████████████████████████████████████████████████████████████████████████████████████████████████████████████████████████████████████████████████████████████████████████████████████████████████████████████████████████████████████████████████████████████████████████████████████████████████████████████████████████████████████████████████████████████████████████████████████████████████████████████████████████████████████████████████████████████████████████████████████████████████████████████████████████████████████████████████████████████████████████████████████████████████████████████████████████████████████████████████████████████| 17/17 [00:30<00:00,  1.82s/it]\n"
        },
        {
          "output_type": "stream",
          "name": "stdout",
          "text": "MSE train loss: 0.0348\nRMSE train loss: 0.0167\ntrain time in s: 31.01348226600021 \nEpoch 8/15\n----------\n"
        },
        {
          "output_type": "stream",
          "name": "stderr",
          "text": "100%|██████████████████████████████████████████████████████████████████████████████████████████████████████████████████████████████████████████████████████████████████████████████████████████████████████████████████████████████████████████████████████████████████████████████████████████████████████████████████████████████████████████████████████████████████████████████████████████████████████████████████████████████████████████████████████████████████████████████████████████████████████████████████████████████████████████████████████████████████████████████████████████████████████████████████████████████████████████████████████████████████████████████████████████████████████████████████████████████████████████████████████████████████████████████████████████████████████████████████████████████████████████████████████████████████████████████████████████████████████████████████████████████████████████████████████████████████████████████████████████████████| 17/17 [00:31<00:00,  1.83s/it]\n"
        },
        {
          "output_type": "stream",
          "name": "stdout",
          "text": "MSE train loss: 0.0342\nRMSE train loss: 0.0166\ntrain time in s: 31.15641503400002 \nEpoch 9/15\n----------\n"
        },
        {
          "output_type": "stream",
          "name": "stderr",
          "text": "100%|██████████████████████████████████████████████████████████████████████████████████████████████████████████████████████████████████████████████████████████████████████████████████████████████████████████████████████████████████████████████████████████████████████████████████████████████████████████████████████████████████████████████████████████████████████████████████████████████████████████████████████████████████████████████████████████████████████████████████████████████████████████████████████████████████████████████████████████████████████████████████████████████████████████████████████████████████████████████████████████████████████████████████████████████████████████████████████████████████████████████████████████████████████████████████████████████████████████████████████████████████████████████████████████████████████████████████████████████████████████████████████████████████████████████████████████████████████████████████████████████████| 17/17 [00:31<00:00,  1.83s/it]\n"
        },
        {
          "output_type": "stream",
          "name": "stdout",
          "text": "MSE train loss: 0.0352\nRMSE train loss: 0.0168\ntrain time in s: 31.187481724000463 \nEpoch 10/15\n----------\n"
        },
        {
          "output_type": "stream",
          "name": "stderr",
          "text": "100%|██████████████████████████████████████████████████████████████████████████████████████████████████████████████████████████████████████████████████████████████████████████████████████████████████████████████████████████████████████████████████████████████████████████████████████████████████████████████████████████████████████████████████████████████████████████████████████████████████████████████████████████████████████████████████████████████████████████████████████████████████████████████████████████████████████████████████████████████████████████████████████████████████████████████████████████████████████████████████████████████████████████████████████████████████████████████████████████████████████████████████████████████████████████████████████████████████████████████████████████████████████████████████████████████████████████████████████████████████████████████████████████████████████████████████████████████████████████████████████████████████| 17/17 [00:31<00:00,  1.83s/it]\n"
        },
        {
          "output_type": "stream",
          "name": "stdout",
          "text": "MSE train loss: 0.0340\nRMSE train loss: 0.0165\ntrain time in s: 31.064376620000985 \nEpoch 11/15\n----------\n"
        },
        {
          "output_type": "stream",
          "name": "stderr",
          "text": "100%|██████████████████████████████████████████████████████████████████████████████████████████████████████████████████████████████████████████████████████████████████████████████████████████████████████████████████████████████████████████████████████████████████████████████████████████████████████████████████████████████████████████████████████████████████████████████████████████████████████████████████████████████████████████████████████████████████████████████████████████████████████████████████████████████████████████████████████████████████████████████████████████████████████████████████████████████████████████████████████████████████████████████████████████████████████████████████████████████████████████████████████████████████████████████████████████████████████████████████████████████████████████████████████████████████████████████████████████████████████████████████████████████████████████████████████████████████████████████████████████████████| 17/17 [00:30<00:00,  1.82s/it]\n"
        },
        {
          "output_type": "stream",
          "name": "stdout",
          "text": "MSE train loss: 0.0342\nRMSE train loss: 0.0166\ntrain time in s: 30.983910703998845 \nEpoch 12/15\n----------\n"
        },
        {
          "output_type": "stream",
          "name": "stderr",
          "text": "100%|██████████████████████████████████████████████████████████████████████████████████████████████████████████████████████████████████████████████████████████████████████████████████████████████████████████████████████████████████████████████████████████████████████████████████████████████████████████████████████████████████████████████████████████████████████████████████████████████████████████████████████████████████████████████████████████████████████████████████████████████████████████████████████████████████████████████████████████████████████████████████████████████████████████████████████████████████████████████████████████████████████████████████████████████████████████████████████████████████████████████████████████████████████████████████████████████████████████████████████████████████████████████████████████████████████████████████████████████████████████████████████████████████████████████████████████████████████████████████████████████████| 17/17 [00:30<00:00,  1.82s/it]\n"
        },
        {
          "output_type": "stream",
          "name": "stdout",
          "text": "MSE train loss: 0.0334\nRMSE train loss: 0.0163\ntrain time in s: 31.00052328700076 \nEpoch 13/15\n----------\n"
        },
        {
          "output_type": "stream",
          "name": "stderr",
          "text": "100%|██████████████████████████████████████████████████████████████████████████████████████████████████████████████████████████████████████████████████████████████████████████████████████████████████████████████████████████████████████████████████████████████████████████████████████████████████████████████████████████████████████████████████████████████████████████████████████████████████████████████████████████████████████████████████████████████████████████████████████████████████████████████████████████████████████████████████████████████████████████████████████████████████████████████████████████████████████████████████████████████████████████████████████████████████████████████████████████████████████████████████████████████████████████████████████████████████████████████████████████████████████████████████████████████████████████████████████████████████████████████████████████████████████████████████████████████████████████████████████████████████| 17/17 [00:31<00:00,  1.83s/it]\n"
        },
        {
          "output_type": "stream",
          "name": "stdout",
          "text": "MSE train loss: 0.0335\nRMSE train loss: 0.0164\ntrain time in s: 31.13023826099925 \nEpoch 14/15\n----------\n"
        },
        {
          "output_type": "stream",
          "name": "stderr",
          "text": "100%|██████████████████████████████████████████████████████████████████████████████████████████████████████████████████████████████████████████████████████████████████████████████████████████████████████████████████████████████████████████████████████████████████████████████████████████████████████████████████████████████████████████████████████████████████████████████████████████████████████████████████████████████████████████████████████████████████████████████████████████████████████████████████████████████████████████████████████████████████████████████████████████████████████████████████████████████████████████████████████████████████████████████████████████████████████████████████████████████████████████████████████████████████████████████████████████████████████████████████████████████████████████████████████████████████████████████████████████████████████████████████████████████████████████████████████████████████████████████████████████████████| 17/17 [00:31<00:00,  1.84s/it]\n"
        },
        {
          "output_type": "stream",
          "name": "stdout",
          "text": "MSE train loss: 0.0327\nRMSE train loss: 0.0162\ntrain time in s: 31.253377744000318 \nEpoch 15/15\n----------\n"
        },
        {
          "output_type": "stream",
          "name": "stderr",
          "text": "100%|██████████████████████████████████████████████████████████████████████████████████████████████████████████████████████████████████████████████████████████████████████████████████████████████████████████████████████████████████████████████████████████████████████████████████████████████████████████████████████████████████████████████████████████████████████████████████████████████████████████████████████████████████████████████████████████████████████████████████████████████████████████████████████████████████████████████████████████████████████████████████████████████████████████████████████████████████████████████████████████████████████████████████████████████████████████████████████████████████████████████████████████████████████████████████████████████████████████████████████████████████████████████████████████████████████████████████████████████████████████████████████████████████████████████████████████████████████████████████████████████████| 17/17 [00:31<00:00,  1.83s/it]\n"
        },
        {
          "output_type": "stream",
          "name": "stdout",
          "text": "MSE train loss: 0.0329\nRMSE train loss: 0.0163\ntrain time in s: 31.165789718999804 \n"
        },
        {
          "output_type": "stream",
          "name": "stderr",
          "text": "100%|████████████████████████████████████████████████████████████████████████████████████████████████████████████████████████████████████████████████████████████████████████████████████████████████████████████████████████████████████████████████████████████████████████████████████████████████████████████████████████████████████████████████████████████████████████████████████████████████████████████████████████████████████████████████████████████████████████████████████████████████████████████████████████████████████████████████████████████████████████████████████████████████████████████████████████████████████████████████████████████████████████████████████████████████████████████████████████████████████████████████████████████████████████████████████████████████████████████████████████████████████████████████████████████████████████████████████████████████████████████████████████████████████████████████████████████████████████████████████████████████████| 5/5 [00:03<00:00,  1.58it/s]\n"
        },
        {
          "output_type": "stream",
          "name": "stdout",
          "text": "Validation time in s: 3.16877962900071 \nValidation mse score fold 0: 0.02908478361187559\nValidation rmse score fold 0: 0.01655051586302844\nEpoch 1/15\n----------\n"
        },
        {
          "output_type": "stream",
          "name": "stderr",
          "text": "100%|██████████████████████████████████████████████████████████████████████████████████████████████████████████████████████████████████████████████████████████████████████████████████████████████████████████████████████████████████████████████████████████████████████████████████████████████████████████████████████████████████████████████████████████████████████████████████████████████████████████████████████████████████████████████████████████████████████████████████████████████████████████████████████████████████████████████████████████████████████████████████████████████████████████████████████████████████████████████████████████████████████████████████████████████████████████████████████████████████████████████████████████████████████████████████████████████████████████████████████████████████████████████████████████████████████████████████████████████████████████████████████████████████████████████████████████████████████████████████████████████████| 17/17 [00:30<00:00,  1.80s/it]\n"
        },
        {
          "output_type": "stream",
          "name": "stdout",
          "text": "MSE train loss: 0.0309\nRMSE train loss: 0.0157\ntrain time in s: 30.64798728599999 \nEpoch 2/15\n----------\n"
        },
        {
          "output_type": "stream",
          "name": "stderr",
          "text": "100%|██████████████████████████████████████████████████████████████████████████████████████████████████████████████████████████████████████████████████████████████████████████████████████████████████████████████████████████████████████████████████████████████████████████████████████████████████████████████████████████████████████████████████████████████████████████████████████████████████████████████████████████████████████████████████████████████████████████████████████████████████████████████████████████████████████████████████████████████████████████████████████████████████████████████████████████████████████████████████████████████████████████████████████████████████████████████████████████████████████████████████████████████████████████████████████████████████████████████████████████████████████████████████████████████████████████████████████████████████████████████████████████████████████████████████████████████████████████████████████████████████| 17/17 [00:30<00:00,  1.81s/it]\n"
        },
        {
          "output_type": "stream",
          "name": "stdout",
          "text": "MSE train loss: 0.0303\nRMSE train loss: 0.0156\ntrain time in s: 30.82709063100083 \nEpoch 3/15\n----------\n"
        },
        {
          "output_type": "stream",
          "name": "stderr",
          "text": "100%|██████████████████████████████████████████████████████████████████████████████████████████████████████████████████████████████████████████████████████████████████████████████████████████████████████████████████████████████████████████████████████████████████████████████████████████████████████████████████████████████████████████████████████████████████████████████████████████████████████████████████████████████████████████████████████████████████████████████████████████████████████████████████████████████████████████████████████████████████████████████████████████████████████████████████████████████████████████████████████████████████████████████████████████████████████████████████████████████████████████████████████████████████████████████████████████████████████████████████████████████████████████████████████████████████████████████████████████████████████████████████████████████████████████████████████████████████████████████████████████████████| 17/17 [00:30<00:00,  1.82s/it]\n"
        },
        {
          "output_type": "stream",
          "name": "stdout",
          "text": "MSE train loss: 0.0299\nRMSE train loss: 0.0155\ntrain time in s: 30.982550857001115 \nEpoch 4/15\n----------\n"
        },
        {
          "output_type": "stream",
          "name": "stderr",
          "text": "100%|██████████████████████████████████████████████████████████████████████████████████████████████████████████████████████████████████████████████████████████████████████████████████████████████████████████████████████████████████████████████████████████████████████████████████████████████████████████████████████████████████████████████████████████████████████████████████████████████████████████████████████████████████████████████████████████████████████████████████████████████████████████████████████████████████████████████████████████████████████████████████████████████████████████████████████████████████████████████████████████████████████████████████████████████████████████████████████████████████████████████████████████████████████████████████████████████████████████████████████████████████████████████████████████████████████████████████████████████████████████████████████████████████████████████████████████████████████████████████████████████████| 17/17 [00:30<00:00,  1.82s/it]\n"
        },
        {
          "output_type": "stream",
          "name": "stdout",
          "text": "MSE train loss: 0.0301\nRMSE train loss: 0.0155\ntrain time in s: 30.865179428001284 \nEpoch 5/15\n----------\n"
        },
        {
          "output_type": "stream",
          "name": "stderr",
          "text": "100%|██████████████████████████████████████████████████████████████████████████████████████████████████████████████████████████████████████████████████████████████████████████████████████████████████████████████████████████████████████████████████████████████████████████████████████████████████████████████████████████████████████████████████████████████████████████████████████████████████████████████████████████████████████████████████████████████████████████████████████████████████████████████████████████████████████████████████████████████████████████████████████████████████████████████████████████████████████████████████████████████████████████████████████████████████████████████████████████████████████████████████████████████████████████████████████████████████████████████████████████████████████████████████████████████████████████████████████████████████████████████████████████████████████████████████████████████████████████████████████████████████| 17/17 [00:30<00:00,  1.82s/it]\n"
        },
        {
          "output_type": "stream",
          "name": "stdout",
          "text": "MSE train loss: 0.0297\nRMSE train loss: 0.0154\ntrain time in s: 30.894111084000542 \nEpoch 6/15\n----------\n"
        },
        {
          "output_type": "stream",
          "name": "stderr",
          "text": "100%|██████████████████████████████████████████████████████████████████████████████████████████████████████████████████████████████████████████████████████████████████████████████████████████████████████████████████████████████████████████████████████████████████████████████████████████████████████████████████████████████████████████████████████████████████████████████████████████████████████████████████████████████████████████████████████████████████████████████████████████████████████████████████████████████████████████████████████████████████████████████████████████████████████████████████████████████████████████████████████████████████████████████████████████████████████████████████████████████████████████████████████████████████████████████████████████████████████████████████████████████████████████████████████████████████████████████████████████████████████████████████████████████████████████████████████████████████████████████████████████████████| 17/17 [00:30<00:00,  1.81s/it]\n"
        },
        {
          "output_type": "stream",
          "name": "stdout",
          "text": "MSE train loss: 0.0306\nRMSE train loss: 0.0157\ntrain time in s: 30.76847279300091 \nEpoch 7/15\n----------\n"
        },
        {
          "output_type": "stream",
          "name": "stderr",
          "text": "100%|██████████████████████████████████████████████████████████████████████████████████████████████████████████████████████████████████████████████████████████████████████████████████████████████████████████████████████████████████████████████████████████████████████████████████████████████████████████████████████████████████████████████████████████████████████████████████████████████████████████████████████████████████████████████████████████████████████████████████████████████████████████████████████████████████████████████████████████████████████████████████████████████████████████████████████████████████████████████████████████████████████████████████████████████████████████████████████████████████████████████████████████████████████████████████████████████████████████████████████████████████████████████████████████████████████████████████████████████████████████████████████████████████████████████████████████████████████████████████████████████████| 17/17 [00:30<00:00,  1.81s/it]\n"
        },
        {
          "output_type": "stream",
          "name": "stdout",
          "text": "MSE train loss: 0.0296\nRMSE train loss: 0.0154\ntrain time in s: 30.716324106000684 \nEpoch 8/15\n----------\n"
        },
        {
          "output_type": "stream",
          "name": "stderr",
          "text": "100%|██████████████████████████████████████████████████████████████████████████████████████████████████████████████████████████████████████████████████████████████████████████████████████████████████████████████████████████████████████████████████████████████████████████████████████████████████████████████████████████████████████████████████████████████████████████████████████████████████████████████████████████████████████████████████████████████████████████████████████████████████████████████████████████████████████████████████████████████████████████████████████████████████████████████████████████████████████████████████████████████████████████████████████████████████████████████████████████████████████████████████████████████████████████████████████████████████████████████████████████████████████████████████████████████████████████████████████████████████████████████████████████████████████████████████████████████████████████████████████████████████| 17/17 [00:30<00:00,  1.81s/it]\n"
        },
        {
          "output_type": "stream",
          "name": "stdout",
          "text": "MSE train loss: 0.0299\nRMSE train loss: 0.0155\ntrain time in s: 30.758885814999303 \nEpoch 9/15\n----------\n"
        },
        {
          "output_type": "stream",
          "name": "stderr",
          "text": "100%|██████████████████████████████████████████████████████████████████████████████████████████████████████████████████████████████████████████████████████████████████████████████████████████████████████████████████████████████████████████████████████████████████████████████████████████████████████████████████████████████████████████████████████████████████████████████████████████████████████████████████████████████████████████████████████████████████████████████████████████████████████████████████████████████████████████████████████████████████████████████████████████████████████████████████████████████████████████████████████████████████████████████████████████████████████████████████████████████████████████████████████████████████████████████████████████████████████████████████████████████████████████████████████████████████████████████████████████████████████████████████████████████████████████████████████████████████████████████████████████████████| 17/17 [00:30<00:00,  1.81s/it]\n"
        },
        {
          "output_type": "stream",
          "name": "stdout",
          "text": "MSE train loss: 0.0298\nRMSE train loss: 0.0155\ntrain time in s: 30.801749496999037 \nEpoch 10/15\n----------\n"
        },
        {
          "output_type": "stream",
          "name": "stderr",
          "text": "100%|██████████████████████████████████████████████████████████████████████████████████████████████████████████████████████████████████████████████████████████████████████████████████████████████████████████████████████████████████████████████████████████████████████████████████████████████████████████████████████████████████████████████████████████████████████████████████████████████████████████████████████████████████████████████████████████████████████████████████████████████████████████████████████████████████████████████████████████████████████████████████████████████████████████████████████████████████████████████████████████████████████████████████████████████████████████████████████████████████████████████████████████████████████████████████████████████████████████████████████████████████████████████████████████████████████████████████████████████████████████████████████████████████████████████████████████████████████████████████████████████████| 17/17 [00:30<00:00,  1.82s/it]\n"
        },
        {
          "output_type": "stream",
          "name": "stdout",
          "text": "MSE train loss: 0.0294\nRMSE train loss: 0.0153\ntrain time in s: 30.9487390639988 \nEpoch 11/15\n----------\n"
        },
        {
          "output_type": "stream",
          "name": "stderr",
          "text": "100%|██████████████████████████████████████████████████████████████████████████████████████████████████████████████████████████████████████████████████████████████████████████████████████████████████████████████████████████████████████████████████████████████████████████████████████████████████████████████████████████████████████████████████████████████████████████████████████████████████████████████████████████████████████████████████████████████████████████████████████████████████████████████████████████████████████████████████████████████████████████████████████████████████████████████████████████████████████████████████████████████████████████████████████████████████████████████████████████████████████████████████████████████████████████████████████████████████████████████████████████████████████████████████████████████████████████████████████████████████████████████████████████████████████████████████████████████████████████████████████████████████| 17/17 [00:30<00:00,  1.81s/it]\n"
        },
        {
          "output_type": "stream",
          "name": "stdout",
          "text": "MSE train loss: 0.0298\nRMSE train loss: 0.0155\ntrain time in s: 30.760231628999463 \nEpoch 12/15\n----------\n"
        },
        {
          "output_type": "stream",
          "name": "stderr",
          "text": "100%|██████████████████████████████████████████████████████████████████████████████████████████████████████████████████████████████████████████████████████████████████████████████████████████████████████████████████████████████████████████████████████████████████████████████████████████████████████████████████████████████████████████████████████████████████████████████████████████████████████████████████████████████████████████████████████████████████████████████████████████████████████████████████████████████████████████████████████████████████████████████████████████████████████████████████████████████████████████████████████████████████████████████████████████████████████████████████████████████████████████████████████████████████████████████████████████████████████████████████████████████████████████████████████████████████████████████████████████████████████████████████████████████████████████████████████████████████████████████████████████████████| 17/17 [00:30<00:00,  1.82s/it]\n"
        },
        {
          "output_type": "stream",
          "name": "stdout",
          "text": "MSE train loss: 0.0300\nRMSE train loss: 0.0155\ntrain time in s: 30.91015190899998 \nEpoch 13/15\n----------\n"
        },
        {
          "output_type": "stream",
          "name": "stderr",
          "text": "100%|██████████████████████████████████████████████████████████████████████████████████████████████████████████████████████████████████████████████████████████████████████████████████████████████████████████████████████████████████████████████████████████████████████████████████████████████████████████████████████████████████████████████████████████████████████████████████████████████████████████████████████████████████████████████████████████████████████████████████████████████████████████████████████████████████████████████████████████████████████████████████████████████████████████████████████████████████████████████████████████████████████████████████████████████████████████████████████████████████████████████████████████████████████████████████████████████████████████████████████████████████████████████████████████████████████████████████████████████████████████████████████████████████████████████████████████████████████████████████████████████████| 17/17 [00:30<00:00,  1.82s/it]\n"
        },
        {
          "output_type": "stream",
          "name": "stdout",
          "text": "MSE train loss: 0.0303\nRMSE train loss: 0.0156\ntrain time in s: 30.908378517999154 \nEpoch 14/15\n----------\n"
        },
        {
          "output_type": "stream",
          "name": "stderr",
          "text": "100%|██████████████████████████████████████████████████████████████████████████████████████████████████████████████████████████████████████████████████████████████████████████████████████████████████████████████████████████████████████████████████████████████████████████████████████████████████████████████████████████████████████████████████████████████████████████████████████████████████████████████████████████████████████████████████████████████████████████████████████████████████████████████████████████████████████████████████████████████████████████████████████████████████████████████████████████████████████████████████████████████████████████████████████████████████████████████████████████████████████████████████████████████████████████████████████████████████████████████████████████████████████████████████████████████████████████████████████████████████████████████████████████████████████████████████████████████████████████████████████████████████| 17/17 [00:30<00:00,  1.80s/it]\n"
        },
        {
          "output_type": "stream",
          "name": "stdout",
          "text": "MSE train loss: 0.0296\nRMSE train loss: 0.0154\ntrain time in s: 30.595641293999506 \nEpoch 15/15\n----------\n"
        },
        {
          "output_type": "stream",
          "name": "stderr",
          "text": "100%|██████████████████████████████████████████████████████████████████████████████████████████████████████████████████████████████████████████████████████████████████████████████████████████████████████████████████████████████████████████████████████████████████████████████████████████████████████████████████████████████████████████████████████████████████████████████████████████████████████████████████████████████████████████████████████████████████████████████████████████████████████████████████████████████████████████████████████████████████████████████████████████████████████████████████████████████████████████████████████████████████████████████████████████████████████████████████████████████████████████████████████████████████████████████████████████████████████████████████████████████████████████████████████████████████████████████████████████████████████████████████████████████████████████████████████████████████████████████████████████████████| 17/17 [00:30<00:00,  1.82s/it]\n"
        },
        {
          "output_type": "stream",
          "name": "stdout",
          "text": "MSE train loss: 0.0296\nRMSE train loss: 0.0154\ntrain time in s: 30.916920672998458 \n"
        },
        {
          "output_type": "stream",
          "name": "stderr",
          "text": "100%|████████████████████████████████████████████████████████████████████████████████████████████████████████████████████████████████████████████████████████████████████████████████████████████████████████████████████████████████████████████████████████████████████████████████████████████████████████████████████████████████████████████████████████████████████████████████████████████████████████████████████████████████████████████████████████████████████████████████████████████████████████████████████████████████████████████████████████████████████████████████████████████████████████████████████████████████████████████████████████████████████████████████████████████████████████████████████████████████████████████████████████████████████████████████████████████████████████████████████████████████████████████████████████████████████████████████████████████████████████████████████████████████████████████████████████████████████████████████████████████████████| 5/5 [00:03<00:00,  1.38it/s]\n"
        },
        {
          "output_type": "stream",
          "name": "stdout",
          "text": "Validation time in s: 3.618760265000674 \nValidation mse score fold 1: 0.045752547004006126\nValidation rmse score fold 1: 0.02071808097940503\nEpoch 1/15\n----------\n"
        },
        {
          "output_type": "stream",
          "name": "stderr",
          "text": "100%|██████████████████████████████████████████████████████████████████████████████████████████████████████████████████████████████████████████████████████████████████████████████████████████████████████████████████████████████████████████████████████████████████████████████████████████████████████████████████████████████████████████████████████████████████████████████████████████████████████████████████████████████████████████████████████████████████████████████████████████████████████████████████████████████████████████████████████████████████████████████████████████████████████████████████████████████████████████████████████████████████████████████████████████████████████████████████████████████████████████████████████████████████████████████████████████████████████████████████████████████████████████████████████████████████████████████████████████████████████████████████████████████████████████████████████████████████████████████████████████████████| 17/17 [00:30<00:00,  1.78s/it]\n"
        },
        {
          "output_type": "stream",
          "name": "stdout",
          "text": "MSE train loss: 0.0321\nRMSE train loss: 0.0160\ntrain time in s: 30.270916241999657 \nEpoch 2/15\n----------\n"
        },
        {
          "output_type": "stream",
          "name": "stderr",
          "text": "100%|██████████████████████████████████████████████████████████████████████████████████████████████████████████████████████████████████████████████████████████████████████████████████████████████████████████████████████████████████████████████████████████████████████████████████████████████████████████████████████████████████████████████████████████████████████████████████████████████████████████████████████████████████████████████████████████████████████████████████████████████████████████████████████████████████████████████████████████████████████████████████████████████████████████████████████████████████████████████████████████████████████████████████████████████████████████████████████████████████████████████████████████████████████████████████████████████████████████████████████████████████████████████████████████████████████████████████████████████████████████████████████████████████████████████████████████████████████████████████████████████████| 17/17 [00:30<00:00,  1.82s/it]\n"
        },
        {
          "output_type": "stream",
          "name": "stdout",
          "text": "MSE train loss: 0.0315\nRMSE train loss: 0.0159\ntrain time in s: 30.928259877000528 \nEpoch 3/15\n----------\n"
        },
        {
          "output_type": "stream",
          "name": "stderr",
          "text": "100%|██████████████████████████████████████████████████████████████████████████████████████████████████████████████████████████████████████████████████████████████████████████████████████████████████████████████████████████████████████████████████████████████████████████████████████████████████████████████████████████████████████████████████████████████████████████████████████████████████████████████████████████████████████████████████████████████████████████████████████████████████████████████████████████████████████████████████████████████████████████████████████████████████████████████████████████████████████████████████████████████████████████████████████████████████████████████████████████████████████████████████████████████████████████████████████████████████████████████████████████████████████████████████████████████████████████████████████████████████████████████████████████████████████████████████████████████████████████████████████████████████| 17/17 [00:30<00:00,  1.82s/it]\n"
        },
        {
          "output_type": "stream",
          "name": "stdout",
          "text": "MSE train loss: 0.0314\nRMSE train loss: 0.0158\ntrain time in s: 30.957088568999097 \nEpoch 4/15\n----------\n"
        },
        {
          "output_type": "stream",
          "name": "stderr",
          "text": "100%|██████████████████████████████████████████████████████████████████████████████████████████████████████████████████████████████████████████████████████████████████████████████████████████████████████████████████████████████████████████████████████████████████████████████████████████████████████████████████████████████████████████████████████████████████████████████████████████████████████████████████████████████████████████████████████████████████████████████████████████████████████████████████████████████████████████████████████████████████████████████████████████████████████████████████████████████████████████████████████████████████████████████████████████████████████████████████████████████████████████████████████████████████████████████████████████████████████████████████████████████████████████████████████████████████████████████████████████████████████████████████████████████████████████████████████████████████████████████████████████████████| 17/17 [00:30<00:00,  1.82s/it]\n"
        },
        {
          "output_type": "stream",
          "name": "stdout",
          "text": "MSE train loss: 0.0318\nRMSE train loss: 0.0159\ntrain time in s: 30.90511641899866 \nEpoch 5/15\n----------\n"
        },
        {
          "output_type": "stream",
          "name": "stderr",
          "text": "100%|██████████████████████████████████████████████████████████████████████████████████████████████████████████████████████████████████████████████████████████████████████████████████████████████████████████████████████████████████████████████████████████████████████████████████████████████████████████████████████████████████████████████████████████████████████████████████████████████████████████████████████████████████████████████████████████████████████████████████████████████████████████████████████████████████████████████████████████████████████████████████████████████████████████████████████████████████████████████████████████████████████████████████████████████████████████████████████████████████████████████████████████████████████████████████████████████████████████████████████████████████████████████████████████████████████████████████████████████████████████████████████████████████████████████████████████████████████████████████████████████████| 17/17 [00:30<00:00,  1.82s/it]\n"
        },
        {
          "output_type": "stream",
          "name": "stdout",
          "text": "MSE train loss: 0.0308\nRMSE train loss: 0.0157\ntrain time in s: 30.977635520999684 \nEpoch 6/15\n----------\n"
        },
        {
          "output_type": "stream",
          "name": "stderr",
          "text": "100%|██████████████████████████████████████████████████████████████████████████████████████████████████████████████████████████████████████████████████████████████████████████████████████████████████████████████████████████████████████████████████████████████████████████████████████████████████████████████████████████████████████████████████████████████████████████████████████████████████████████████████████████████████████████████████████████████████████████████████████████████████████████████████████████████████████████████████████████████████████████████████████████████████████████████████████████████████████████████████████████████████████████████████████████████████████████████████████████████████████████████████████████████████████████████████████████████████████████████████████████████████████████████████████████████████████████████████████████████████████████████████████████████████████████████████████████████████████████████████████████████████| 17/17 [00:31<00:00,  1.84s/it]\n"
        },
        {
          "output_type": "stream",
          "name": "stdout",
          "text": "MSE train loss: 0.0312\nRMSE train loss: 0.0158\ntrain time in s: 31.22720005500014 \nEpoch 7/15\n----------\n"
        },
        {
          "output_type": "stream",
          "name": "stderr",
          "text": "100%|██████████████████████████████████████████████████████████████████████████████████████████████████████████████████████████████████████████████████████████████████████████████████████████████████████████████████████████████████████████████████████████████████████████████████████████████████████████████████████████████████████████████████████████████████████████████████████████████████████████████████████████████████████████████████████████████████████████████████████████████████████████████████████████████████████████████████████████████████████████████████████████████████████████████████████████████████████████████████████████████████████████████████████████████████████████████████████████████████████████████████████████████████████████████████████████████████████████████████████████████████████████████████████████████████████████████████████████████████████████████████████████████████████████████████████████████████████████████████████████████████| 17/17 [00:30<00:00,  1.82s/it]\n"
        },
        {
          "output_type": "stream",
          "name": "stdout",
          "text": "MSE train loss: 0.0311\nRMSE train loss: 0.0158\ntrain time in s: 30.92529096800172 \nEpoch 8/15\n----------\n"
        },
        {
          "output_type": "stream",
          "name": "stderr",
          "text": "100%|██████████████████████████████████████████████████████████████████████████████████████████████████████████████████████████████████████████████████████████████████████████████████████████████████████████████████████████████████████████████████████████████████████████████████████████████████████████████████████████████████████████████████████████████████████████████████████████████████████████████████████████████████████████████████████████████████████████████████████████████████████████████████████████████████████████████████████████████████████████████████████████████████████████████████████████████████████████████████████████████████████████████████████████████████████████████████████████████████████████████████████████████████████████████████████████████████████████████████████████████████████████████████████████████████████████████████████████████████████████████████████████████████████████████████████████████████████████████████████████████████| 17/17 [00:31<00:00,  1.83s/it]\n"
        },
        {
          "output_type": "stream",
          "name": "stdout",
          "text": "MSE train loss: 0.0308\nRMSE train loss: 0.0157\ntrain time in s: 31.052359315001013 \nEpoch 9/15\n----------\n"
        },
        {
          "output_type": "stream",
          "name": "stderr",
          "text": "100%|██████████████████████████████████████████████████████████████████████████████████████████████████████████████████████████████████████████████████████████████████████████████████████████████████████████████████████████████████████████████████████████████████████████████████████████████████████████████████████████████████████████████████████████████████████████████████████████████████████████████████████████████████████████████████████████████████████████████████████████████████████████████████████████████████████████████████████████████████████████████████████████████████████████████████████████████████████████████████████████████████████████████████████████████████████████████████████████████████████████████████████████████████████████████████████████████████████████████████████████████████████████████████████████████████████████████████████████████████████████████████████████████████████████████████████████████████████████████████████████████████| 17/17 [00:30<00:00,  1.82s/it]\n"
        },
        {
          "output_type": "stream",
          "name": "stdout",
          "text": "MSE train loss: 0.0309\nRMSE train loss: 0.0157\ntrain time in s: 30.94462164500146 \nEpoch 10/15\n----------\n"
        },
        {
          "output_type": "stream",
          "name": "stderr",
          "text": "100%|██████████████████████████████████████████████████████████████████████████████████████████████████████████████████████████████████████████████████████████████████████████████████████████████████████████████████████████████████████████████████████████████████████████████████████████████████████████████████████████████████████████████████████████████████████████████████████████████████████████████████████████████████████████████████████████████████████████████████████████████████████████████████████████████████████████████████████████████████████████████████████████████████████████████████████████████████████████████████████████████████████████████████████████████████████████████████████████████████████████████████████████████████████████████████████████████████████████████████████████████████████████████████████████████████████████████████████████████████████████████████████████████████████████████████████████████████████████████████████████████████| 17/17 [00:30<00:00,  1.82s/it]\n"
        },
        {
          "output_type": "stream",
          "name": "stdout",
          "text": "MSE train loss: 0.0310\nRMSE train loss: 0.0158\ntrain time in s: 30.94782758099973 \nEpoch 11/15\n----------\n"
        },
        {
          "output_type": "stream",
          "name": "stderr",
          "text": "100%|██████████████████████████████████████████████████████████████████████████████████████████████████████████████████████████████████████████████████████████████████████████████████████████████████████████████████████████████████████████████████████████████████████████████████████████████████████████████████████████████████████████████████████████████████████████████████████████████████████████████████████████████████████████████████████████████████████████████████████████████████████████████████████████████████████████████████████████████████████████████████████████████████████████████████████████████████████████████████████████████████████████████████████████████████████████████████████████████████████████████████████████████████████████████████████████████████████████████████████████████████████████████████████████████████████████████████████████████████████████████████████████████████████████████████████████████████████████████████████████████████| 17/17 [00:30<00:00,  1.82s/it]\n"
        },
        {
          "output_type": "stream",
          "name": "stdout",
          "text": "MSE train loss: 0.0310\nRMSE train loss: 0.0158\ntrain time in s: 30.905469575000097 \nEpoch 12/15\n----------\n"
        },
        {
          "output_type": "stream",
          "name": "stderr",
          "text": "100%|██████████████████████████████████████████████████████████████████████████████████████████████████████████████████████████████████████████████████████████████████████████████████████████████████████████████████████████████████████████████████████████████████████████████████████████████████████████████████████████████████████████████████████████████████████████████████████████████████████████████████████████████████████████████████████████████████████████████████████████████████████████████████████████████████████████████████████████████████████████████████████████████████████████████████████████████████████████████████████████████████████████████████████████████████████████████████████████████████████████████████████████████████████████████████████████████████████████████████████████████████████████████████████████████████████████████████████████████████████████████████████████████████████████████████████████████████████████████████████████████████| 17/17 [00:30<00:00,  1.82s/it]\n"
        },
        {
          "output_type": "stream",
          "name": "stdout",
          "text": "MSE train loss: 0.0305\nRMSE train loss: 0.0156\ntrain time in s: 30.931456070000422 \nEpoch 13/15\n----------\n"
        },
        {
          "output_type": "stream",
          "name": "stderr",
          "text": "100%|██████████████████████████████████████████████████████████████████████████████████████████████████████████████████████████████████████████████████████████████████████████████████████████████████████████████████████████████████████████████████████████████████████████████████████████████████████████████████████████████████████████████████████████████████████████████████████████████████████████████████████████████████████████████████████████████████████████████████████████████████████████████████████████████████████████████████████████████████████████████████████████████████████████████████████████████████████████████████████████████████████████████████████████████████████████████████████████████████████████████████████████████████████████████████████████████████████████████████████████████████████████████████████████████████████████████████████████████████████████████████████████████████████████████████████████████████████████████████████████████████| 17/17 [00:30<00:00,  1.82s/it]\n"
        },
        {
          "output_type": "stream",
          "name": "stdout",
          "text": "MSE train loss: 0.0306\nRMSE train loss: 0.0157\ntrain time in s: 31.002818106000632 \nEpoch 14/15\n----------\n"
        },
        {
          "output_type": "stream",
          "name": "stderr",
          "text": "100%|██████████████████████████████████████████████████████████████████████████████████████████████████████████████████████████████████████████████████████████████████████████████████████████████████████████████████████████████████████████████████████████████████████████████████████████████████████████████████████████████████████████████████████████████████████████████████████████████████████████████████████████████████████████████████████████████████████████████████████████████████████████████████████████████████████████████████████████████████████████████████████████████████████████████████████████████████████████████████████████████████████████████████████████████████████████████████████████████████████████████████████████████████████████████████████████████████████████████████████████████████████████████████████████████████████████████████████████████████████████████████████████████████████████████████████████████████████████████████████████████████| 17/17 [00:31<00:00,  1.83s/it]\n"
        },
        {
          "output_type": "stream",
          "name": "stdout",
          "text": "MSE train loss: 0.0313\nRMSE train loss: 0.0158\ntrain time in s: 31.064059053000165 \nEpoch 15/15\n----------\n"
        },
        {
          "output_type": "stream",
          "name": "stderr",
          "text": "100%|██████████████████████████████████████████████████████████████████████████████████████████████████████████████████████████████████████████████████████████████████████████████████████████████████████████████████████████████████████████████████████████████████████████████████████████████████████████████████████████████████████████████████████████████████████████████████████████████████████████████████████████████████████████████████████████████████████████████████████████████████████████████████████████████████████████████████████████████████████████████████████████████████████████████████████████████████████████████████████████████████████████████████████████████████████████████████████████████████████████████████████████████████████████████████████████████████████████████████████████████████████████████████████████████████████████████████████████████████████████████████████████████████████████████████████████████████████████████████████████████████| 17/17 [00:31<00:00,  1.83s/it]\n"
        },
        {
          "output_type": "stream",
          "name": "stdout",
          "text": "MSE train loss: 0.0307\nRMSE train loss: 0.0157\ntrain time in s: 31.105978778999997 \n"
        },
        {
          "output_type": "stream",
          "name": "stderr",
          "text": "100%|████████████████████████████████████████████████████████████████████████████████████████████████████████████████████████████████████████████████████████████████████████████████████████████████████████████████████████████████████████████████████████████████████████████████████████████████████████████████████████████████████████████████████████████████████████████████████████████████████████████████████████████████████████████████████████████████████████████████████████████████████████████████████████████████████████████████████████████████████████████████████████████████████████████████████████████████████████████████████████████████████████████████████████████████████████████████████████████████████████████████████████████████████████████████████████████████████████████████████████████████████████████████████████████████████████████████████████████████████████████████████████████████████████████████████████████████████████████████████████████████████| 5/5 [00:03<00:00,  1.41it/s]\n"
        },
        {
          "output_type": "stream",
          "name": "stdout",
          "text": "Validation time in s: 3.5440792919998785 \nValidation mse score fold 2: 0.03696154238599719\nValidation rmse score fold 2: 0.018517695141561104\nEpoch 1/15\n----------\n"
        },
        {
          "output_type": "stream",
          "name": "stderr",
          "text": "100%|██████████████████████████████████████████████████████████████████████████████████████████████████████████████████████████████████████████████████████████████████████████████████████████████████████████████████████████████████████████████████████████████████████████████████████████████████████████████████████████████████████████████████████████████████████████████████████████████████████████████████████████████████████████████████████████████████████████████████████████████████████████████████████████████████████████████████████████████████████████████████████████████████████████████████████████████████████████████████████████████████████████████████████████████████████████████████████████████████████████████████████████████████████████████████████████████████████████████████████████████████████████████████████████████████████████████████████████████████████████████████████████████████████████████████████████████████████████████████████████████████| 17/17 [00:30<00:00,  1.79s/it]\n"
        },
        {
          "output_type": "stream",
          "name": "stdout",
          "text": "MSE train loss: 0.0283\nRMSE train loss: 0.0151\ntrain time in s: 30.427467741999862 \nEpoch 2/15\n----------\n"
        },
        {
          "output_type": "stream",
          "name": "stderr",
          "text": "100%|██████████████████████████████████████████████████████████████████████████████████████████████████████████████████████████████████████████████████████████████████████████████████████████████████████████████████████████████████████████████████████████████████████████████████████████████████████████████████████████████████████████████████████████████████████████████████████████████████████████████████████████████████████████████████████████████████████████████████████████████████████████████████████████████████████████████████████████████████████████████████████████████████████████████████████████████████████████████████████████████████████████████████████████████████████████████████████████████████████████████████████████████████████████████████████████████████████████████████████████████████████████████████████████████████████████████████████████████████████████████████████████████████████████████████████████████████████████████████████████████████| 17/17 [00:31<00:00,  1.82s/it]\n"
        },
        {
          "output_type": "stream",
          "name": "stdout",
          "text": "MSE train loss: 0.0277\nRMSE train loss: 0.0149\ntrain time in s: 31.01357284200094 \nEpoch 3/15\n----------\n"
        },
        {
          "output_type": "stream",
          "name": "stderr",
          "text": "100%|██████████████████████████████████████████████████████████████████████████████████████████████████████████████████████████████████████████████████████████████████████████████████████████████████████████████████████████████████████████████████████████████████████████████████████████████████████████████████████████████████████████████████████████████████████████████████████████████████████████████████████████████████████████████████████████████████████████████████████████████████████████████████████████████████████████████████████████████████████████████████████████████████████████████████████████████████████████████████████████████████████████████████████████████████████████████████████████████████████████████████████████████████████████████████████████████████████████████████████████████████████████████████████████████████████████████████████████████████████████████████████████████████████████████████████████████████████████████████████████████████| 17/17 [00:31<00:00,  1.82s/it]\n"
        },
        {
          "output_type": "stream",
          "name": "stdout",
          "text": "MSE train loss: 0.0268\nRMSE train loss: 0.0147\ntrain time in s: 31.02511867300018 \nEpoch 4/15\n----------\n"
        },
        {
          "output_type": "stream",
          "name": "stderr",
          "text": "100%|██████████████████████████████████████████████████████████████████████████████████████████████████████████████████████████████████████████████████████████████████████████████████████████████████████████████████████████████████████████████████████████████████████████████████████████████████████████████████████████████████████████████████████████████████████████████████████████████████████████████████████████████████████████████████████████████████████████████████████████████████████████████████████████████████████████████████████████████████████████████████████████████████████████████████████████████████████████████████████████████████████████████████████████████████████████████████████████████████████████████████████████████████████████████████████████████████████████████████████████████████████████████████████████████████████████████████████████████████████████████████████████████████████████████████████████████████████████████████████████████████| 17/17 [00:31<00:00,  1.83s/it]\n"
        },
        {
          "output_type": "stream",
          "name": "stdout",
          "text": "MSE train loss: 0.0265\nRMSE train loss: 0.0146\ntrain time in s: 31.041825637999864 \nEpoch 5/15\n----------\n"
        },
        {
          "output_type": "stream",
          "name": "stderr",
          "text": "100%|██████████████████████████████████████████████████████████████████████████████████████████████████████████████████████████████████████████████████████████████████████████████████████████████████████████████████████████████████████████████████████████████████████████████████████████████████████████████████████████████████████████████████████████████████████████████████████████████████████████████████████████████████████████████████████████████████████████████████████████████████████████████████████████████████████████████████████████████████████████████████████████████████████████████████████████████████████████████████████████████████████████████████████████████████████████████████████████████████████████████████████████████████████████████████████████████████████████████████████████████████████████████████████████████████████████████████████████████████████████████████████████████████████████████████████████████████████████████████████████████████| 17/17 [00:31<00:00,  1.82s/it]\n"
        },
        {
          "output_type": "stream",
          "name": "stdout",
          "text": "MSE train loss: 0.0265\nRMSE train loss: 0.0146\ntrain time in s: 31.016197396998905 \nEpoch 6/15\n----------\n"
        },
        {
          "output_type": "stream",
          "name": "stderr",
          "text": "100%|██████████████████████████████████████████████████████████████████████████████████████████████████████████████████████████████████████████████████████████████████████████████████████████████████████████████████████████████████████████████████████████████████████████████████████████████████████████████████████████████████████████████████████████████████████████████████████████████████████████████████████████████████████████████████████████████████████████████████████████████████████████████████████████████████████████████████████████████████████████████████████████████████████████████████████████████████████████████████████████████████████████████████████████████████████████████████████████████████████████████████████████████████████████████████████████████████████████████████████████████████████████████████████████████████████████████████████████████████████████████████████████████████████████████████████████████████████████████████████████████████| 17/17 [00:30<00:00,  1.82s/it]\n"
        },
        {
          "output_type": "stream",
          "name": "stdout",
          "text": "MSE train loss: 0.0266\nRMSE train loss: 0.0146\ntrain time in s: 30.958276837000085 \nEpoch 7/15\n----------\n"
        },
        {
          "output_type": "stream",
          "name": "stderr",
          "text": "100%|██████████████████████████████████████████████████████████████████████████████████████████████████████████████████████████████████████████████████████████████████████████████████████████████████████████████████████████████████████████████████████████████████████████████████████████████████████████████████████████████████████████████████████████████████████████████████████████████████████████████████████████████████████████████████████████████████████████████████████████████████████████████████████████████████████████████████████████████████████████████████████████████████████████████████████████████████████████████████████████████████████████████████████████████████████████████████████████████████████████████████████████████████████████████████████████████████████████████████████████████████████████████████████████████████████████████████████████████████████████████████████████████████████████████████████████████████████████████████████████████████| 17/17 [00:31<00:00,  1.83s/it]\n"
        },
        {
          "output_type": "stream",
          "name": "stdout",
          "text": "MSE train loss: 0.0263\nRMSE train loss: 0.0145\ntrain time in s: 31.09412242200051 \nEpoch 8/15\n----------\n"
        },
        {
          "output_type": "stream",
          "name": "stderr",
          "text": "100%|██████████████████████████████████████████████████████████████████████████████████████████████████████████████████████████████████████████████████████████████████████████████████████████████████████████████████████████████████████████████████████████████████████████████████████████████████████████████████████████████████████████████████████████████████████████████████████████████████████████████████████████████████████████████████████████████████████████████████████████████████████████████████████████████████████████████████████████████████████████████████████████████████████████████████████████████████████████████████████████████████████████████████████████████████████████████████████████████████████████████████████████████████████████████████████████████████████████████████████████████████████████████████████████████████████████████████████████████████████████████████████████████████████████████████████████████████████████████████████████████████| 17/17 [00:30<00:00,  1.82s/it]\n"
        },
        {
          "output_type": "stream",
          "name": "stdout",
          "text": "MSE train loss: 0.0264\nRMSE train loss: 0.0145\ntrain time in s: 30.928794595 \nEpoch 9/15\n----------\n"
        },
        {
          "output_type": "stream",
          "name": "stderr",
          "text": "100%|██████████████████████████████████████████████████████████████████████████████████████████████████████████████████████████████████████████████████████████████████████████████████████████████████████████████████████████████████████████████████████████████████████████████████████████████████████████████████████████████████████████████████████████████████████████████████████████████████████████████████████████████████████████████████████████████████████████████████████████████████████████████████████████████████████████████████████████████████████████████████████████████████████████████████████████████████████████████████████████████████████████████████████████████████████████████████████████████████████████████████████████████████████████████████████████████████████████████████████████████████████████████████████████████████████████████████████████████████████████████████████████████████████████████████████████████████████████████████████████████████| 17/17 [00:30<00:00,  1.82s/it]\n"
        },
        {
          "output_type": "stream",
          "name": "stdout",
          "text": "MSE train loss: 0.0262\nRMSE train loss: 0.0145\ntrain time in s: 30.977151175000472 \nEpoch 10/15\n----------\n"
        },
        {
          "output_type": "stream",
          "name": "stderr",
          "text": "100%|██████████████████████████████████████████████████████████████████████████████████████████████████████████████████████████████████████████████████████████████████████████████████████████████████████████████████████████████████████████████████████████████████████████████████████████████████████████████████████████████████████████████████████████████████████████████████████████████████████████████████████████████████████████████████████████████████████████████████████████████████████████████████████████████████████████████████████████████████████████████████████████████████████████████████████████████████████████████████████████████████████████████████████████████████████████████████████████████████████████████████████████████████████████████████████████████████████████████████████████████████████████████████████████████████████████████████████████████████████████████████████████████████████████████████████████████████████████████████████████████████| 17/17 [00:30<00:00,  1.81s/it]\n"
        },
        {
          "output_type": "stream",
          "name": "stdout",
          "text": "MSE train loss: 0.0261\nRMSE train loss: 0.0144\ntrain time in s: 30.810658983000394 \nEpoch 11/15\n----------\n"
        },
        {
          "output_type": "stream",
          "name": "stderr",
          "text": "100%|██████████████████████████████████████████████████████████████████████████████████████████████████████████████████████████████████████████████████████████████████████████████████████████████████████████████████████████████████████████████████████████████████████████████████████████████████████████████████████████████████████████████████████████████████████████████████████████████████████████████████████████████████████████████████████████████████████████████████████████████████████████████████████████████████████████████████████████████████████████████████████████████████████████████████████████████████████████████████████████████████████████████████████████████████████████████████████████████████████████████████████████████████████████████████████████████████████████████████████████████████████████████████████████████████████████████████████████████████████████████████████████████████████████████████████████████████████████████████████████████████| 17/17 [00:30<00:00,  1.82s/it]\n"
        },
        {
          "output_type": "stream",
          "name": "stdout",
          "text": "MSE train loss: 0.0261\nRMSE train loss: 0.0145\ntrain time in s: 30.971063598999535 \nEpoch 12/15\n----------\n"
        },
        {
          "output_type": "stream",
          "name": "stderr",
          "text": "100%|██████████████████████████████████████████████████████████████████████████████████████████████████████████████████████████████████████████████████████████████████████████████████████████████████████████████████████████████████████████████████████████████████████████████████████████████████████████████████████████████████████████████████████████████████████████████████████████████████████████████████████████████████████████████████████████████████████████████████████████████████████████████████████████████████████████████████████████████████████████████████████████████████████████████████████████████████████████████████████████████████████████████████████████████████████████████████████████████████████████████████████████████████████████████████████████████████████████████████████████████████████████████████████████████████████████████████████████████████████████████████████████████████████████████████████████████████████████████████████████████████| 17/17 [00:30<00:00,  1.82s/it]\n"
        },
        {
          "output_type": "stream",
          "name": "stdout",
          "text": "MSE train loss: 0.0262\nRMSE train loss: 0.0145\ntrain time in s: 30.872176463999494 \nEpoch 13/15\n----------\n"
        },
        {
          "output_type": "stream",
          "name": "stderr",
          "text": "100%|██████████████████████████████████████████████████████████████████████████████████████████████████████████████████████████████████████████████████████████████████████████████████████████████████████████████████████████████████████████████████████████████████████████████████████████████████████████████████████████████████████████████████████████████████████████████████████████████████████████████████████████████████████████████████████████████████████████████████████████████████████████████████████████████████████████████████████████████████████████████████████████████████████████████████████████████████████████████████████████████████████████████████████████████████████████████████████████████████████████████████████████████████████████████████████████████████████████████████████████████████████████████████████████████████████████████████████████████████████████████████████████████████████████████████████████████████████████████████████████████████| 17/17 [00:30<00:00,  1.81s/it]\n"
        },
        {
          "output_type": "stream",
          "name": "stdout",
          "text": "MSE train loss: 0.0262\nRMSE train loss: 0.0145\ntrain time in s: 30.83265601899984 \nEpoch 14/15\n----------\n"
        },
        {
          "output_type": "stream",
          "name": "stderr",
          "text": "100%|██████████████████████████████████████████████████████████████████████████████████████████████████████████████████████████████████████████████████████████████████████████████████████████████████████████████████████████████████████████████████████████████████████████████████████████████████████████████████████████████████████████████████████████████████████████████████████████████████████████████████████████████████████████████████████████████████████████████████████████████████████████████████████████████████████████████████████████████████████████████████████████████████████████████████████████████████████████████████████████████████████████████████████████████████████████████████████████████████████████████████████████████████████████████████████████████████████████████████████████████████████████████████████████████████████████████████████████████████████████████████████████████████████████████████████████████████████████████████████████████████| 17/17 [00:31<00:00,  1.83s/it]\n"
        },
        {
          "output_type": "stream",
          "name": "stdout",
          "text": "MSE train loss: 0.0260\nRMSE train loss: 0.0144\ntrain time in s: 31.094133877000786 \nEpoch 15/15\n----------\n"
        },
        {
          "output_type": "stream",
          "name": "stderr",
          "text": "100%|██████████████████████████████████████████████████████████████████████████████████████████████████████████████████████████████████████████████████████████████████████████████████████████████████████████████████████████████████████████████████████████████████████████████████████████████████████████████████████████████████████████████████████████████████████████████████████████████████████████████████████████████████████████████████████████████████████████████████████████████████████████████████████████████████████████████████████████████████████████████████████████████████████████████████████████████████████████████████████████████████████████████████████████████████████████████████████████████████████████████████████████████████████████████████████████████████████████████████████████████████████████████████████████████████████████████████████████████████████████████████████████████████████████████████████████████████████████████████████████████████| 17/17 [00:30<00:00,  1.81s/it]\n"
        },
        {
          "output_type": "stream",
          "name": "stdout",
          "text": "MSE train loss: 0.0262\nRMSE train loss: 0.0145\ntrain time in s: 30.863932657999612 \n"
        },
        {
          "output_type": "stream",
          "name": "stderr",
          "text": "100%|████████████████████████████████████████████████████████████████████████████████████████████████████████████████████████████████████████████████████████████████████████████████████████████████████████████████████████████████████████████████████████████████████████████████████████████████████████████████████████████████████████████████████████████████████████████████████████████████████████████████████████████████████████████████████████████████████████████████████████████████████████████████████████████████████████████████████████████████████████████████████████████████████████████████████████████████████████████████████████████████████████████████████████████████████████████████████████████████████████████████████████████████████████████████████████████████████████████████████████████████████████████████████████████████████████████████████████████████████████████████████████████████████████████████████████████████████████████████████████████████████| 5/5 [00:03<00:00,  1.42it/s]\n"
        },
        {
          "output_type": "stream",
          "name": "stdout",
          "text": "Validation time in s: 3.522871288998431 \nValidation mse score fold 3: 0.07788770758744443\nValidation rmse score fold 3: 0.02707817473194816\nEpoch 1/15\n----------\n"
        },
        {
          "output_type": "stream",
          "name": "stderr",
          "text": "100%|██████████████████████████████████████████████████████████████████████████████████████████████████████████████████████████████████████████████████████████████████████████████████████████████████████████████████████████████████████████████████████████████████████████████████████████████████████████████████████████████████████████████████████████████████████████████████████████████████████████████████████████████████████████████████████████████████████████████████████████████████████████████████████████████████████████████████████████████████████████████████████████████████████████████████████████████████████████████████████████████████████████████████████████████████████████████████████████████████████████████████████████████████████████████████████████████████████████████████████████████████████████████████████████████████████████████████████████████████████████████████████████████████████████████████████████████████████████████████████████████████| 17/17 [00:30<00:00,  1.80s/it]\n"
        },
        {
          "output_type": "stream",
          "name": "stdout",
          "text": "MSE train loss: 0.0317\nRMSE train loss: 0.0159\ntrain time in s: 30.589186270999562 \nEpoch 2/15\n----------\n"
        },
        {
          "output_type": "stream",
          "name": "stderr",
          "text": "100%|██████████████████████████████████████████████████████████████████████████████████████████████████████████████████████████████████████████████████████████████████████████████████████████████████████████████████████████████████████████████████████████████████████████████████████████████████████████████████████████████████████████████████████████████████████████████████████████████████████████████████████████████████████████████████████████████████████████████████████████████████████████████████████████████████████████████████████████████████████████████████████████████████████████████████████████████████████████████████████████████████████████████████████████████████████████████████████████████████████████████████████████████████████████████████████████████████████████████████████████████████████████████████████████████████████████████████████████████████████████████████████████████████████████████████████████████████████████████████████████████████| 17/17 [00:31<00:00,  1.83s/it]\n"
        },
        {
          "output_type": "stream",
          "name": "stdout",
          "text": "MSE train loss: 0.0295\nRMSE train loss: 0.0154\ntrain time in s: 31.087763896999604 \nEpoch 3/15\n----------\n"
        },
        {
          "output_type": "stream",
          "name": "stderr",
          "text": "100%|██████████████████████████████████████████████████████████████████████████████████████████████████████████████████████████████████████████████████████████████████████████████████████████████████████████████████████████████████████████████████████████████████████████████████████████████████████████████████████████████████████████████████████████████████████████████████████████████████████████████████████████████████████████████████████████████████████████████████████████████████████████████████████████████████████████████████████████████████████████████████████████████████████████████████████████████████████████████████████████████████████████████████████████████████████████████████████████████████████████████████████████████████████████████████████████████████████████████████████████████████████████████████████████████████████████████████████████████████████████████████████████████████████████████████████████████████████████████████████████████████| 17/17 [00:30<00:00,  1.82s/it]\n"
        },
        {
          "output_type": "stream",
          "name": "stdout",
          "text": "MSE train loss: 0.0284\nRMSE train loss: 0.0151\ntrain time in s: 30.98682197999915 \nEpoch 4/15\n----------\n"
        },
        {
          "output_type": "stream",
          "name": "stderr",
          "text": "100%|██████████████████████████████████████████████████████████████████████████████████████████████████████████████████████████████████████████████████████████████████████████████████████████████████████████████████████████████████████████████████████████████████████████████████████████████████████████████████████████████████████████████████████████████████████████████████████████████████████████████████████████████████████████████████████████████████████████████████████████████████████████████████████████████████████████████████████████████████████████████████████████████████████████████████████████████████████████████████████████████████████████████████████████████████████████████████████████████████████████████████████████████████████████████████████████████████████████████████████████████████████████████████████████████████████████████████████████████████████████████████████████████████████████████████████████████████████████████████████████████████| 17/17 [00:30<00:00,  1.82s/it]\n"
        },
        {
          "output_type": "stream",
          "name": "stdout",
          "text": "MSE train loss: 0.0278\nRMSE train loss: 0.0149\ntrain time in s: 30.93208682799923 \nEpoch 5/15\n----------\n"
        },
        {
          "output_type": "stream",
          "name": "stderr",
          "text": "100%|██████████████████████████████████████████████████████████████████████████████████████████████████████████████████████████████████████████████████████████████████████████████████████████████████████████████████████████████████████████████████████████████████████████████████████████████████████████████████████████████████████████████████████████████████████████████████████████████████████████████████████████████████████████████████████████████████████████████████████████████████████████████████████████████████████████████████████████████████████████████████████████████████████████████████████████████████████████████████████████████████████████████████████████████████████████████████████████████████████████████████████████████████████████████████████████████████████████████████████████████████████████████████████████████████████████████████████████████████████████████████████████████████████████████████████████████████████████████████████████████████| 17/17 [00:30<00:00,  1.82s/it]\n"
        },
        {
          "output_type": "stream",
          "name": "stdout",
          "text": "MSE train loss: 0.0270\nRMSE train loss: 0.0147\ntrain time in s: 30.903656450998824 \nEpoch 6/15\n----------\n"
        },
        {
          "output_type": "stream",
          "name": "stderr",
          "text": "100%|██████████████████████████████████████████████████████████████████████████████████████████████████████████████████████████████████████████████████████████████████████████████████████████████████████████████████████████████████████████████████████████████████████████████████████████████████████████████████████████████████████████████████████████████████████████████████████████████████████████████████████████████████████████████████████████████████████████████████████████████████████████████████████████████████████████████████████████████████████████████████████████████████████████████████████████████████████████████████████████████████████████████████████████████████████████████████████████████████████████████████████████████████████████████████████████████████████████████████████████████████████████████████████████████████████████████████████████████████████████████████████████████████████████████████████████████████████████████████████████████████| 17/17 [00:31<00:00,  1.82s/it]\n"
        },
        {
          "output_type": "stream",
          "name": "stdout",
          "text": "MSE train loss: 0.0265\nRMSE train loss: 0.0146\ntrain time in s: 31.011050387998694 \nEpoch 7/15\n----------\n"
        },
        {
          "output_type": "stream",
          "name": "stderr",
          "text": "100%|██████████████████████████████████████████████████████████████████████████████████████████████████████████████████████████████████████████████████████████████████████████████████████████████████████████████████████████████████████████████████████████████████████████████████████████████████████████████████████████████████████████████████████████████████████████████████████████████████████████████████████████████████████████████████████████████████████████████████████████████████████████████████████████████████████████████████████████████████████████████████████████████████████████████████████████████████████████████████████████████████████████████████████████████████████████████████████████████████████████████████████████████████████████████████████████████████████████████████████████████████████████████████████████████████████████████████████████████████████████████████████████████████████████████████████████████████████████████████████████████████| 17/17 [00:30<00:00,  1.82s/it]\n"
        },
        {
          "output_type": "stream",
          "name": "stdout",
          "text": "MSE train loss: 0.0263\nRMSE train loss: 0.0145\ntrain time in s: 30.96695445199839 \nEpoch 8/15\n----------\n"
        },
        {
          "output_type": "stream",
          "name": "stderr",
          "text": "100%|██████████████████████████████████████████████████████████████████████████████████████████████████████████████████████████████████████████████████████████████████████████████████████████████████████████████████████████████████████████████████████████████████████████████████████████████████████████████████████████████████████████████████████████████████████████████████████████████████████████████████████████████████████████████████████████████████████████████████████████████████████████████████████████████████████████████████████████████████████████████████████████████████████████████████████████████████████████████████████████████████████████████████████████████████████████████████████████████████████████████████████████████████████████████████████████████████████████████████████████████████████████████████████████████████████████████████████████████████████████████████████████████████████████████████████████████████████████████████████████████████| 17/17 [00:30<00:00,  1.82s/it]\n"
        },
        {
          "output_type": "stream",
          "name": "stdout",
          "text": "MSE train loss: 0.0260\nRMSE train loss: 0.0144\ntrain time in s: 30.892279081001107 \nEpoch 9/15\n----------\n"
        },
        {
          "output_type": "stream",
          "name": "stderr",
          "text": "100%|██████████████████████████████████████████████████████████████████████████████████████████████████████████████████████████████████████████████████████████████████████████████████████████████████████████████████████████████████████████████████████████████████████████████████████████████████████████████████████████████████████████████████████████████████████████████████████████████████████████████████████████████████████████████████████████████████████████████████████████████████████████████████████████████████████████████████████████████████████████████████████████████████████████████████████████████████████████████████████████████████████████████████████████████████████████████████████████████████████████████████████████████████████████████████████████████████████████████████████████████████████████████████████████████████████████████████████████████████████████████████████████████████████████████████████████████████████████████████████████████████| 17/17 [00:30<00:00,  1.82s/it]\n"
        },
        {
          "output_type": "stream",
          "name": "stdout",
          "text": "MSE train loss: 0.0264\nRMSE train loss: 0.0145\ntrain time in s: 30.87734853799884 \nEpoch 10/15\n----------\n"
        },
        {
          "output_type": "stream",
          "name": "stderr",
          "text": "100%|██████████████████████████████████████████████████████████████████████████████████████████████████████████████████████████████████████████████████████████████████████████████████████████████████████████████████████████████████████████████████████████████████████████████████████████████████████████████████████████████████████████████████████████████████████████████████████████████████████████████████████████████████████████████████████████████████████████████████████████████████████████████████████████████████████████████████████████████████████████████████████████████████████████████████████████████████████████████████████████████████████████████████████████████████████████████████████████████████████████████████████████████████████████████████████████████████████████████████████████████████████████████████████████████████████████████████████████████████████████████████████████████████████████████████████████████████████████████████████████████████| 17/17 [00:30<00:00,  1.82s/it]\n"
        },
        {
          "output_type": "stream",
          "name": "stdout",
          "text": "MSE train loss: 0.0259\nRMSE train loss: 0.0144\ntrain time in s: 30.916402409999137 \nEpoch 11/15\n----------\n"
        },
        {
          "output_type": "stream",
          "name": "stderr",
          "text": "100%|██████████████████████████████████████████████████████████████████████████████████████████████████████████████████████████████████████████████████████████████████████████████████████████████████████████████████████████████████████████████████████████████████████████████████████████████████████████████████████████████████████████████████████████████████████████████████████████████████████████████████████████████████████████████████████████████████████████████████████████████████████████████████████████████████████████████████████████████████████████████████████████████████████████████████████████████████████████████████████████████████████████████████████████████████████████████████████████████████████████████████████████████████████████████████████████████████████████████████████████████████████████████████████████████████████████████████████████████████████████████████████████████████████████████████████████████████████████████████████████████████| 17/17 [00:30<00:00,  1.81s/it]\n"
        },
        {
          "output_type": "stream",
          "name": "stdout",
          "text": "MSE train loss: 0.0257\nRMSE train loss: 0.0143\ntrain time in s: 30.766846300000907 \nEpoch 12/15\n----------\n"
        },
        {
          "output_type": "stream",
          "name": "stderr",
          "text": "100%|██████████████████████████████████████████████████████████████████████████████████████████████████████████████████████████████████████████████████████████████████████████████████████████████████████████████████████████████████████████████████████████████████████████████████████████████████████████████████████████████████████████████████████████████████████████████████████████████████████████████████████████████████████████████████████████████████████████████████████████████████████████████████████████████████████████████████████████████████████████████████████████████████████████████████████████████████████████████████████████████████████████████████████████████████████████████████████████████████████████████████████████████████████████████████████████████████████████████████████████████████████████████████████████████████████████████████████████████████████████████████████████████████████████████████████████████████████████████████████████████████| 17/17 [00:30<00:00,  1.82s/it]\n"
        },
        {
          "output_type": "stream",
          "name": "stdout",
          "text": "MSE train loss: 0.0258\nRMSE train loss: 0.0143\ntrain time in s: 30.946007997999914 \nEpoch 13/15\n----------\n"
        },
        {
          "output_type": "stream",
          "name": "stderr",
          "text": "100%|██████████████████████████████████████████████████████████████████████████████████████████████████████████████████████████████████████████████████████████████████████████████████████████████████████████████████████████████████████████████████████████████████████████████████████████████████████████████████████████████████████████████████████████████████████████████████████████████████████████████████████████████████████████████████████████████████████████████████████████████████████████████████████████████████████████████████████████████████████████████████████████████████████████████████████████████████████████████████████████████████████████████████████████████████████████████████████████████████████████████████████████████████████████████████████████████████████████████████████████████████████████████████████████████████████████████████████████████████████████████████████████████████████████████████████████████████████████████████████████████████| 17/17 [00:30<00:00,  1.82s/it]\n"
        },
        {
          "output_type": "stream",
          "name": "stdout",
          "text": "MSE train loss: 0.0257\nRMSE train loss: 0.0144\ntrain time in s: 30.9996413129993 \nEpoch 14/15\n----------\n"
        },
        {
          "output_type": "stream",
          "name": "stderr",
          "text": "100%|██████████████████████████████████████████████████████████████████████████████████████████████████████████████████████████████████████████████████████████████████████████████████████████████████████████████████████████████████████████████████████████████████████████████████████████████████████████████████████████████████████████████████████████████████████████████████████████████████████████████████████████████████████████████████████████████████████████████████████████████████████████████████████████████████████████████████████████████████████████████████████████████████████████████████████████████████████████████████████████████████████████████████████████████████████████████████████████████████████████████████████████████████████████████████████████████████████████████████████████████████████████████████████████████████████████████████████████████████████████████████████████████████████████████████████████████████████████████████████████████████| 17/17 [00:30<00:00,  1.82s/it]\n"
        },
        {
          "output_type": "stream",
          "name": "stdout",
          "text": "MSE train loss: 0.0256\nRMSE train loss: 0.0143\ntrain time in s: 30.90811598000073 \nEpoch 15/15\n----------\n"
        },
        {
          "output_type": "stream",
          "name": "stderr",
          "text": "100%|██████████████████████████████████████████████████████████████████████████████████████████████████████████████████████████████████████████████████████████████████████████████████████████████████████████████████████████████████████████████████████████████████████████████████████████████████████████████████████████████████████████████████████████████████████████████████████████████████████████████████████████████████████████████████████████████████████████████████████████████████████████████████████████████████████████████████████████████████████████████████████████████████████████████████████████████████████████████████████████████████████████████████████████████████████████████████████████████████████████████████████████████████████████████████████████████████████████████████████████████████████████████████████████████████████████████████████████████████████████████████████████████████████████████████████████████████████████████████████████████████| 17/17 [00:31<00:00,  1.83s/it]\n"
        },
        {
          "output_type": "stream",
          "name": "stdout",
          "text": "MSE train loss: 0.0258\nRMSE train loss: 0.0144\ntrain time in s: 31.05119310199916 \n"
        },
        {
          "output_type": "stream",
          "name": "stderr",
          "text": "100%|████████████████████████████████████████████████████████████████████████████████████████████████████████████████████████████████████████████████████████████████████████████████████████████████████████████████████████████████████████████████████████████████████████████████████████████████████████████████████████████████████████████████████████████████████████████████████████████████████████████████████████████████████████████████████████████████████████████████████████████████████████████████████████████████████████████████████████████████████████████████████████████████████████████████████████████████████████████████████████████████████████████████████████████████████████████████████████████████████████████████████████████████████████████████████████████████████████████████████████████████████████████████████████████████████████████████████████████████████████████████████████████████████████████████████████████████████████████████████████████████████| 5/5 [00:03<00:00,  1.48it/s]"
        },
        {
          "output_type": "stream",
          "name": "stdout",
          "text": "Validation time in s: 3.3789462450004066 \nValidation mse score fold 4: 0.07153398791948955\nValidation rmse score fold 4: 0.025963923244765312\nFinal MSE:  [0.02908478361187559, 0.045752547004006126, 0.03696154238599719, 0.07788770758744443, 0.07153398791948955]\nFinal RMSE:  [0.01655051586302844, 0.02071808097940503, 0.018517695141561104, 0.02707817473194816, 0.025963923244765312]\n"
        },
        {
          "output_type": "stream",
          "name": "stderr",
          "text": "\n"
        }
      ],
      "execution_count": 10,
      "metadata": {}
    },
    {
      "cell_type": "code",
      "source": [],
      "outputs": [],
      "execution_count": null,
      "metadata": {}
    },
    {
      "cell_type": "code",
      "source": [
        "lr01_num5_mse =  np.array([0.08089837522217722, 0.08388225056908348, 0.08026731285181912, 0.07212411002679305, 0.0779607892036438])\n",
        "mean_lr01_num5 = lr01_num5_mse.mean()\n",
        "\n",
        "print('mean lr01_num5 mse: ',mean_lr01_num5)\n",
        "\n",
        "lr001_num5_mse =  np.array([0.08243271618178397, 0.08409663944533377, 0.08150867079243515, 0.07394477905649127, 0.0775947083126415])\n",
        "mean_lr001_num5 = lr001_num5_mse.mean()\n",
        "\n",
        "print('mean lr001_num5 mse: ',mean_lr001_num5)\n",
        "\n",
        "lr0001_num5_mse =  np.array([0.025660378011790188, 0.04407150907949968, 0.035743414452581695, 0.06550777680946118, 0.054257504190459396])\n",
        "mean_lr0001_num5 = lr0001_num5_mse.mean()\n",
        "\n",
        "print('mean lr0001_num5 mse: ',mean_lr0001_num5)\n",
        "\n",
        "lr00001_num5_mse =  np.array([0.029803551056168297, 0.046361023729497734, 0.0357314357251832, 0.061823494506604744, 0.048684691389401756])\n",
        "mean_lr00001_num5 = lr00001_num5_mse.mean()\n",
        "\n",
        "print('mean lr00001_num5 mse: ',mean_lr00001_num5)"
      ],
      "outputs": [
        {
          "output_type": "stream",
          "name": "stdout",
          "text": "mean lr01_num5 mse:  0.07902656757470333\nmean lr001_num5 mse:  0.07991550275773714\nmean lr0001_num5 mse:  0.04504811650875843\nmean lr00001_num5 mse:  0.04448083928137115\n"
        }
      ],
      "execution_count": 11,
      "metadata": {}
    },
    {
      "cell_type": "code",
      "source": [
        "lr01_num10_mse =  np.array([0.08024654785792033, 0.0773543959314173, 0.0772040630831863, 0.07646059357758725, 0.08012982209523518])\n",
        "mean_lr01_num10 = lr01_num10_mse.mean()\n",
        "\n",
        "print('mean lr01_num10 mse: ',mean_lr01_num10)\n",
        "\n",
        "lr001_num10_mse =  np.array( [0.07973951281923236, 0.07735637372190302, 0.0771788340626341, 0.07590108206777861, 0.08017119945901813])\n",
        "mean_lr001_num10 = lr001_num10_mse.mean()\n",
        "\n",
        "print('mean lr001_num10 mse: ',mean_lr001_num10)\n",
        "\n",
        "lr0001_num10_mse =  np.array([0.03900086157249682, 0.04791224454388474, 0.031974303451451386, 0.07488793315309467, 0.07537882887955868])\n",
        "mean_lr0001_num10 = lr0001_num10_mse.mean()\n",
        "\n",
        "print('mean lr0001_num10 mse: ',mean_lr0001_num10)\n",
        "\n",
        "lr00001_num10_mse =  np.array([0.031298570560686516, 0.04716732872254921, 0.030173963218024284, 0.07165829521236998, 0.06589859272494461])\n",
        "mean_lr00001_num10 = lr00001_num10_mse.mean()\n",
        "\n",
        "print('mean lr00001_num10 mse: ',mean_lr00001_num10)"
      ],
      "outputs": [
        {
          "output_type": "stream",
          "name": "stdout",
          "text": "mean lr01_num10 mse:  0.07827908450906927\nmean lr001_num10 mse:  0.07806940042611324\nmean lr0001_num10 mse:  0.053830834320097255\nmean lr00001_num10 mse:  0.04923935008771492\n"
        }
      ],
      "execution_count": 11,
      "metadata": {}
    },
    {
      "cell_type": "code",
      "source": [
        "lr01_num15_mse =  np.array([0.07830383199633974, 0.07569043925314238, 0.08388715259956592, 0.08156823028217662, 0.08134004563996286])\n",
        "mean_lr01_num15 = lr01_num15_mse.mean()\n",
        "\n",
        "print('mean lr01_num15 mse: ',mean_lr01_num15)\n",
        "\n",
        "lr001_num15_mse =  np.array([0.07870631326328624, 0.07592091596487796, 0.08441690242651737, 0.08184370308211356, 0.08187264113715201])\n",
        "mean_lr001_num15 = lr001_num15_mse.mean()\n",
        "\n",
        "print('mean lr001_num15 mse: ',mean_lr001_num15)\n",
        "\n",
        "lr0001_num15_mse =  np.array([0.027212316339666195, 0.04563984726414536, 0.03674491382006443, 0.07934221535017996, 0.0799138094439651])\n",
        "mean_lr0001_num15 = lr0001_num15_mse.mean()\n",
        "\n",
        "print('mean lr0001_num15 mse: ',mean_lr0001_num15)\n",
        "\n",
        "lr00001_num15_mse =  np.array([0.02908478361187559, 0.045752547004006126, 0.03696154238599719, 0.07788770758744443, 0.07153398791948955])\n",
        "mean_lr00001_num15 = lr00001_num15_mse.mean()\n",
        "\n",
        "print('mean lr00001_num15 mse: ',mean_lr00001_num15)"
      ],
      "outputs": [
        {
          "output_type": "stream",
          "name": "stdout",
          "text": "mean lr01_num15 mse:  0.0801579399542375\nmean lr001_num15 mse:  0.08055209517478942\nmean lr0001_num15 mse:  0.053770620443604214\nmean lr00001_num15 mse:  0.05224411370176257\n"
        }
      ],
      "execution_count": 11,
      "metadata": {}
    },
    {
      "cell_type": "code",
      "source": [],
      "outputs": [],
      "execution_count": null,
      "metadata": {}
    }
  ],
  "metadata": {
    "kernelspec": {
      "name": "python38-azureml",
      "language": "python",
      "display_name": "Python 3.8 - AzureML"
    },
    "language_info": {
      "name": "python",
      "version": "3.8.5",
      "mimetype": "text/x-python",
      "codemirror_mode": {
        "name": "ipython",
        "version": 3
      },
      "pygments_lexer": "ipython3",
      "nbconvert_exporter": "python",
      "file_extension": ".py"
    },
    "microsoft": {
      "ms_spell_check": {
        "ms_spell_check_language": "en"
      }
    },
    "nteract": {
      "version": "nteract-front-end@1.0.0"
    },
    "orig_nbformat": 4,
    "kernel_info": {
      "name": "python38-azureml"
    }
  },
  "nbformat": 4,
  "nbformat_minor": 2
}